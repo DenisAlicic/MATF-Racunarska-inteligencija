{
 "cells": [
  {
   "cell_type": "code",
   "execution_count": 1,
   "metadata": {},
   "outputs": [],
   "source": [
    "import random"
   ]
  },
  {
   "cell_type": "code",
   "execution_count": 2,
   "metadata": {},
   "outputs": [
    {
     "data": {
      "text/plain": [
       "['5 6\\n',\n",
       " '18 8 19 9 17 16 \\n',\n",
       " '9 2 8 1 2 12 \\n',\n",
       " '5 2 8 2 11 3 \\n',\n",
       " '1 5 20 11 12 12 \\n',\n",
       " '6 18 12 21 1 5 \\n',\n",
       " '20 6 1 4 15 11 ']"
      ]
     },
     "execution_count": 2,
     "metadata": {},
     "output_type": "execute_result"
    }
   ],
   "source": [
    "input = open(\"../2019_2020/Data/5x6.txt\")\n",
    "input.readlines()"
   ]
  },
  {
   "cell_type": "code",
   "execution_count": 3,
   "metadata": {},
   "outputs": [],
   "source": [
    "def read_input(filename):\n",
    "    input = open(filename, \"r\")\n",
    "    number_of_users, number_of_resources = [int(x) for x in input.readline().split()]\n",
    "    cost = [[int(x) for x in input.readline().split()] for i in range(number_of_users)]\n",
    "    fixed_cost = [int(x) for x in input.readline().split()]\n",
    "    return number_of_users, number_of_resources, cost, fixed_cost"
   ]
  },
  {
   "cell_type": "code",
   "execution_count": 4,
   "metadata": {},
   "outputs": [
    {
     "data": {
      "text/plain": [
       "(5,\n",
       " 6,\n",
       " [[18, 8, 19, 9, 17, 16],\n",
       "  [9, 2, 8, 1, 2, 12],\n",
       "  [5, 2, 8, 2, 11, 3],\n",
       "  [1, 5, 20, 11, 12, 12],\n",
       "  [6, 18, 12, 21, 1, 5]],\n",
       " [20, 6, 1, 4, 15, 11])"
      ]
     },
     "execution_count": 4,
     "metadata": {},
     "output_type": "execute_result"
    }
   ],
   "source": [
    "read_input(\"../2019_2020/Data/5x6.txt\")"
   ]
  },
  {
   "cell_type": "code",
   "execution_count": 5,
   "metadata": {},
   "outputs": [],
   "source": [
    "def is_feasible(solution):\n",
    "    return any(solution)"
   ]
  },
  {
   "cell_type": "code",
   "execution_count": 6,
   "metadata": {},
   "outputs": [],
   "source": [
    "def initialize(number_of_resources, probability):\n",
    "    solution = []\n",
    "    \n",
    "    for j in range(number_of_resources):\n",
    "        solution.append(random.random() < probability)\n",
    "    \n",
    "    if not is_feasible(solution):\n",
    "        solution[random.randrange(number_of_resources)] = True\n",
    "    \n",
    "    return solution"
   ]
  },
  {
   "cell_type": "code",
   "execution_count": 7,
   "metadata": {},
   "outputs": [
    {
     "data": {
      "text/plain": [
       "[False, True, True, True, False, False, True, True, False, False]"
      ]
     },
     "execution_count": 7,
     "metadata": {},
     "output_type": "execute_result"
    }
   ],
   "source": [
    "initialize(10, 0.25)"
   ]
  },
  {
   "cell_type": "code",
   "execution_count": 8,
   "metadata": {},
   "outputs": [],
   "source": [
    "def invert(number_of_resources, solution):\n",
    "    \n",
    "    j = random.randrange(number_of_resources)\n",
    "    solution[j] = not solution[j]\n",
    "    \n",
    "    if is_feasible(solution):\n",
    "        return j\n",
    "    \n",
    "    solution[j] = not solution[j]\n",
    "    \n",
    "    return -1"
   ]
  },
  {
   "cell_type": "code",
   "execution_count": 9,
   "metadata": {},
   "outputs": [],
   "source": [
    "def restore(j, solution):\n",
    "    solution[j] = not solution[j]"
   ]
  },
  {
   "cell_type": "code",
   "execution_count": 10,
   "metadata": {},
   "outputs": [],
   "source": [
    "def solution_value(n, m, cost, fixed_cost, solution):\n",
    "    value = 0.0\n",
    "    used = [False] * m\n",
    "    \n",
    "    for i in range(n):\n",
    "        min_cost = float('inf')\n",
    "        j_used = -1\n",
    "        for j in range(m):\n",
    "            if solution[j] and cost[i][j] < min_cost:\n",
    "                min_cost = cost[i][j]\n",
    "                j_used = j\n",
    "        value += min_cost\n",
    "        used[j_used] = True\n",
    "    \n",
    "    for j in range(m):\n",
    "        if used[j]:\n",
    "            value += fixed_cost[j]\n",
    "    \n",
    "    solution[:] = used\n",
    "    \n",
    "    return value"
   ]
  },
  {
   "cell_type": "code",
   "execution_count": 11,
   "metadata": {},
   "outputs": [],
   "source": [
    "def local_search(n, m, cost, fixed_cost, solution, max_iters):\n",
    "    best_solution = solution.copy()\n",
    "    best_value = solution_value(n, m, cost, fixed_cost, solution)\n",
    "    \n",
    "    curr_value = best_value\n",
    "    \n",
    "    i = 0\n",
    "    \n",
    "    while(i < max_iters):\n",
    "        j = invert(m, solution)\n",
    "        if j < 0:\n",
    "            continue\n",
    "        \n",
    "        new_value = solution_value(n, m, cost, fixed_cost, solution)\n",
    "        if curr_value > new_value:\n",
    "            curr_value = new_value\n",
    "        else:\n",
    "            restore(j, solution)\n",
    "        \n",
    "        if new_value < best_value:\n",
    "            best_value = new_value\n",
    "            best_solution = solution.copy()\n",
    "        \n",
    "        i += 1\n",
    "        \n",
    "    return best_value, best_solution"
   ]
  },
  {
   "cell_type": "code",
   "execution_count": 24,
   "metadata": {},
   "outputs": [],
   "source": [
    "def simulatedAnnealing(n, m, cost, fixed_cost, solution, max_iter):\n",
    "    best_solution = solution.copy()\n",
    "    best_value = solution_value(n, m, cost, fixed_cost, solution)\n",
    "    \n",
    "    curr_value = best_value\n",
    "    \n",
    "    i = 1\n",
    "    \n",
    "    while(i < max_iter):\n",
    "        j = invert(m, solution)\n",
    "        if j < 0:\n",
    "            continue\n",
    "        \n",
    "        new_value = solution_value(n, m, cost, fixed_cost, solution)\n",
    "        if curr_value > new_value:\n",
    "            curr_value = new_value\n",
    "        else:\n",
    "            p = 1.0 / (i ** 0.5)\n",
    "            q = random.uniform(0, 1)\n",
    "            if p > q:\n",
    "                curr_value = new_value\n",
    "            else:\n",
    "                restore(j, solution)\n",
    "        \n",
    "        if new_value < best_value:\n",
    "            best_value = new_value\n",
    "            best_solution = solution.copy()\n",
    "        \n",
    "        i += 1\n",
    "        \n",
    "    return best_value, best_solution\n",
    "    "
   ]
  },
  {
   "cell_type": "code",
   "execution_count": null,
   "metadata": {},
   "outputs": [],
   "source": []
  },
  {
   "cell_type": "code",
   "execution_count": 25,
   "metadata": {},
   "outputs": [
    {
     "name": "stdout",
     "output_type": "stream",
     "text": [
      "Best local: 203.0\n",
      "Best sa: 197.0\n"
     ]
    }
   ],
   "source": [
    "n, m, cost, fixed_cost = read_input(\"../2019_2020/Data/100x100.txt\")\n",
    "solution_local = initialize(m, 0.25)\n",
    "solution_sa = solution_local.copy()\n",
    "\n",
    "best_value_local, best_solution_local = local_search(n, m, cost, fixed_cost, solution_local, 10000)\n",
    "best_value_sa, best_solution_sa = simulatedAnnealing(n, m, cost, fixed_cost, solution_sa, 10000)\n",
    "\n",
    "print(\"Best local: {}\".format(best_value_local))\n",
    "print(\"Best sa: {}\".format(best_value_sa))"
   ]
  },
  {
   "cell_type": "code",
   "execution_count": null,
   "metadata": {},
   "outputs": [],
   "source": []
  }
 ],
 "metadata": {
  "kernelspec": {
   "display_name": "Python 3",
   "language": "python",
   "name": "python3"
  },
  "language_info": {
   "codemirror_mode": {
    "name": "ipython",
    "version": 3
   },
   "file_extension": ".py",
   "mimetype": "text/x-python",
   "name": "python",
   "nbconvert_exporter": "python",
   "pygments_lexer": "ipython3",
   "version": "3.8.5"
  }
 },
 "nbformat": 4,
 "nbformat_minor": 4
}
