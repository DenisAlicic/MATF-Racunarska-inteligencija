{
 "cells": [
  {
   "cell_type": "markdown",
   "metadata": {},
   "source": [
    "min f(x)\n",
    "# max f = min -f\n",
    "tako da\n",
    "g_i(x) <= b_i, i =1...m\n",
    "# 3x0 + 5x1 <= 7 /\\ 3x + 5x1 >= 7\n",
    "# 4x0^2 + sinx1 <= 7\n",
    "\n",
    "Linearno programiranje\n",
    "polinomske slozenosti\n",
    "min f\n",
    "g_i(x) <= b_i\n",
    "\n",
    "f(x) = c1x1 + c2x2 +...+ cnxn \n",
    "g_i(x) = a_i1 *x1 + ... + a_in * xn\n",
    "\n",
    "min cx\n",
    "A_ub*x <= b_ub\n",
    "A_eq*x == b_eq\n",
    "\n",
    "x \\in Z^n\n",
    "Celobrojno lp (ILP)\n",
    "NP tezak\n",
    "# x1 = 0.9 -> 1\n",
    "# ...\n",
    "# xn = 0.1 -> 0"
   ]
  },
  {
   "cell_type": "code",
   "execution_count": 1,
   "metadata": {},
   "outputs": [],
   "source": [
    "# cplex, scipy optimize\n",
    "# c simplex"
   ]
  },
  {
   "cell_type": "code",
   "execution_count": 2,
   "metadata": {},
   "outputs": [],
   "source": [
    "from docplex.mp.model import Model "
   ]
  },
  {
   "cell_type": "code",
   "execution_count": 3,
   "metadata": {},
   "outputs": [],
   "source": [
    "# firma - proizvodi telefone - fiksne i mobilne\n",
    "\n",
    "# prva faza: fiksni 0.2 sata, mobilni 0.4 sata\n",
    "# druga faza: fiksni 0.5 sati, mobilni 0.4 sata\n",
    "    \n",
    "# fiksni - 12 evra\n",
    "# mobilni - 20 evra\n",
    "\n",
    "# odrediti broj fiksnih i mobilnih - maks profit\n",
    "x - broj fiksnih\n",
    "y - broj mobilnih\n",
    "\n",
    "f(x, y) = x * 12 + y * 20 = c\n",
    "y = (c - 12 * x) / 20\n",
    "\n",
    "x * 0.2 + y * 0.4 <= 400\n",
    "y <= (400 - 0.2*x) / 0.4\n",
    "\n",
    "\n",
    "x * 0.5 + y * 0.4 <= 490\n",
    "\n",
    "# prva faza za fiksni + prva faza za mobilni <= 400 sati\n",
    "# druga faza za fiksni + druga faza za mobilni <= 490 sati\n",
    "\n",
    "# moramo da napravimo najmanje 100 fiksnih i 100 mobilnih"
   ]
  },
  {
   "cell_type": "code",
   "execution_count": 4,
   "metadata": {},
   "outputs": [],
   "source": [
    "from matplotlib import pyplot as plt\n",
    "import numpy as np"
   ]
  },
  {
   "cell_type": "code",
   "execution_count": 18,
   "metadata": {},
   "outputs": [
    {
     "data": {
      "image/png": "[encoded data removed]",
      "text/plain": [
       "<Figure size 432x288 with 1 Axes>"
      ]
     },
     "metadata": {
      "needs_background": "light"
     },
     "output_type": "display_data"
    }
   ],
   "source": [
    "plt.plot([100, 100], [0, 1000], label='donja granica f.')\n",
    "plt.plot([0, 1000], [100, 100], label='donja granica m.')\n",
    "x = np.arange(0, 1000)\n",
    "y = (400 - 0.2 * x) / 0.4\n",
    "plt.plot(x, y, label='prva faza')\n",
    "y2 = (490 - 0.5 * x) / 0.4\n",
    "plt.plot(x, y2, label='druga faza')\n",
    "c = 20600\n",
    "y3 = (c - 12 * x) / 20\n",
    "plt.plot(x, y3, label='funkcija cilja')\n",
    "# plt.legend()\n",
    "plt.xlabel('fiksni')\n",
    "plt.ylabel('mobilni')\n",
    "plt.show()"
   ]
  },
  {
   "cell_type": "code",
   "execution_count": 19,
   "metadata": {},
   "outputs": [],
   "source": [
    "m = Model(name='proizvodnja telefona')"
   ]
  },
  {
   "cell_type": "code",
   "execution_count": 41,
   "metadata": {},
   "outputs": [
    {
     "name": "stdout",
     "output_type": "stream",
     "text": [
      "Warning: Duplicate variable name: desk already used for docplex.mp.Var(type=C,name='desk')\n"
     ]
    },
    {
     "data": {
      "text/plain": [
       "docplex.mp.Var(type=C,name='desk')"
      ]
     },
     "execution_count": 41,
     "metadata": {},
     "output_type": "execute_result"
    }
   ],
   "source": [
    "desk = m.continuous_var(name='desk')\n",
    "desk"
   ]
  },
  {
   "cell_type": "code",
   "execution_count": 21,
   "metadata": {},
   "outputs": [],
   "source": [
    "cell = m.continuous_var(name='cell')"
   ]
  },
  {
   "cell_type": "code",
   "execution_count": 22,
   "metadata": {},
   "outputs": [
    {
     "data": {
      "text/plain": [
       "docplex.mp.LinearConstraint[](desk,GE,100)"
      ]
     },
     "execution_count": 22,
     "metadata": {},
     "output_type": "execute_result"
    }
   ],
   "source": [
    "m.add_constraint(desk >= 100)"
   ]
  },
  {
   "cell_type": "code",
   "execution_count": 23,
   "metadata": {},
   "outputs": [
    {
     "data": {
      "text/plain": [
       "docplex.mp.LinearConstraint[](cell,GE,100)"
      ]
     },
     "execution_count": 23,
     "metadata": {},
     "output_type": "execute_result"
    }
   ],
   "source": [
    "m.add_constraint(cell >= 100)"
   ]
  },
  {
   "cell_type": "code",
   "execution_count": 24,
   "metadata": {},
   "outputs": [
    {
     "data": {
      "text/plain": [
       "docplex.mp.LinearConstraint[](0.200desk+0.400cell,LE,400)"
      ]
     },
     "execution_count": 24,
     "metadata": {},
     "output_type": "execute_result"
    }
   ],
   "source": [
    "m.add_constraint(0.2 * desk + 0.4*cell <= 400)"
   ]
  },
  {
   "cell_type": "code",
   "execution_count": 25,
   "metadata": {},
   "outputs": [
    {
     "data": {
      "text/plain": [
       "docplex.mp.LinearConstraint[](0.500desk+0.400cell,LE,490)"
      ]
     },
     "execution_count": 25,
     "metadata": {},
     "output_type": "execute_result"
    }
   ],
   "source": [
    "m.add_constraint(0.5 * desk + 0.4 * cell <= 490)"
   ]
  },
  {
   "cell_type": "code",
   "execution_count": 26,
   "metadata": {},
   "outputs": [],
   "source": [
    "m.maximize(12 * desk + 20 * cell)"
   ]
  },
  {
   "cell_type": "code",
   "execution_count": 27,
   "metadata": {},
   "outputs": [
    {
     "name": "stdout",
     "output_type": "stream",
     "text": [
      "Model: proizvodnja telefona\n",
      " - number of variables: 2\n",
      "   - binary=0, integer=0, continuous=2\n",
      " - number of constraints: 4\n",
      "   - linear=4\n",
      " - parameters: defaults\n",
      " - problem type is: LP\n"
     ]
    }
   ],
   "source": [
    "m.print_information()"
   ]
  },
  {
   "cell_type": "code",
   "execution_count": 28,
   "metadata": {},
   "outputs": [
    {
     "data": {
      "text/plain": [
       "docplex.mp.solution.SolveSolution(obj=20600,values={desk:300,cell:850})"
      ]
     },
     "execution_count": 28,
     "metadata": {},
     "output_type": "execute_result"
    }
   ],
   "source": [
    "m.solve()"
   ]
  },
  {
   "cell_type": "code",
   "execution_count": 29,
   "metadata": {},
   "outputs": [
    {
     "name": "stdout",
     "output_type": "stream",
     "text": [
      "objective: 20600.000\n",
      "  desk=300.000\n",
      "  cell=850.000\n"
     ]
    }
   ],
   "source": [
    "m.print_solution()"
   ]
  },
  {
   "cell_type": "code",
   "execution_count": 37,
   "metadata": {},
   "outputs": [],
   "source": [
    "#UFLP\n",
    "def readInput(filename):\n",
    "    with open(filename, 'r') as f:\n",
    "        numUsers, numResources = [int(x) for x in f.readline().split()]\n",
    "        cost = [[int(x) for x in f.readline().split()] for i in range(numUsers)]\n",
    "        fixedCost = [int(x) for x in f.readline().split()]\n",
    "        \n",
    "        return numUsers, numResources, cost, fixedCost"
   ]
  },
  {
   "cell_type": "code",
   "execution_count": 56,
   "metadata": {},
   "outputs": [
    {
     "data": {
      "text/plain": [
       "[12, 11, 13]"
      ]
     },
     "execution_count": 56,
     "metadata": {},
     "output_type": "execute_result"
    }
   ],
   "source": [
    "numUsers, numResources, cost, fixedCost = readInput('../03/uflp1.txt')\n",
    "cost\n",
    "fixedCost"
   ]
  },
  {
   "cell_type": "markdown",
   "metadata": {},
   "source": [
    "- skup korisnika I\n",
    "- skup resursa J\n",
    "- cena dodeljivanja korisnika i resursu j - $c_{ij}$\n",
    "- cena uspostavljanja resursa j - $f_j$"
   ]
  },
  {
   "cell_type": "markdown",
   "metadata": {},
   "source": [
    "$$min \\sum_{i \\in I} \\sum_{j \\in J} x_{ij} c_{ij}  + \\sum_{j \\in J} y_j f_j $$\n"
   ]
  },
  {
   "cell_type": "markdown",
   "metadata": {},
   "source": [
    "$$ \\sum_{j \\in J} x_{ij} = 1, \\forall i \\in I $$\n"
   ]
  },
  {
   "cell_type": "markdown",
   "metadata": {},
   "source": [
    "$$ x_{ij} \\leq y_j, \\forall i \\in I, \\forall j \\in J $$"
   ]
  },
  {
   "cell_type": "markdown",
   "metadata": {},
   "source": [
    "$$ x_{ij} \\in \\{0,1\\} $$"
   ]
  },
  {
   "cell_type": "markdown",
   "metadata": {},
   "source": [
    "$$ y_j \\in \\{0,1\\} $$"
   ]
  },
  {
   "cell_type": "code",
   "execution_count": 47,
   "metadata": {},
   "outputs": [],
   "source": [
    "model = Model(name='uflp')"
   ]
  },
  {
   "cell_type": "code",
   "execution_count": 48,
   "metadata": {},
   "outputs": [
    {
     "data": {
      "text/plain": [
       "{(0, 0): docplex.mp.Var(type=B,name='x_0_0'),\n",
       " (0, 1): docplex.mp.Var(type=B,name='x_0_1'),\n",
       " (0, 2): docplex.mp.Var(type=B,name='x_0_2'),\n",
       " (1, 0): docplex.mp.Var(type=B,name='x_1_0'),\n",
       " (1, 1): docplex.mp.Var(type=B,name='x_1_1'),\n",
       " (1, 2): docplex.mp.Var(type=B,name='x_1_2'),\n",
       " (2, 0): docplex.mp.Var(type=B,name='x_2_0'),\n",
       " (2, 1): docplex.mp.Var(type=B,name='x_2_1'),\n",
       " (2, 2): docplex.mp.Var(type=B,name='x_2_2')}"
      ]
     },
     "execution_count": 48,
     "metadata": {},
     "output_type": "execute_result"
    }
   ],
   "source": [
    "x = model.binary_var_matrix(numUsers, numResources, name='x')\n",
    "x"
   ]
  },
  {
   "cell_type": "code",
   "execution_count": 49,
   "metadata": {},
   "outputs": [
    {
     "data": {
      "text/plain": [
       "[docplex.mp.Var(type=B,name='y_0'),\n",
       " docplex.mp.Var(type=B,name='y_1'),\n",
       " docplex.mp.Var(type=B,name='y_2')]"
      ]
     },
     "execution_count": 49,
     "metadata": {},
     "output_type": "execute_result"
    }
   ],
   "source": [
    "y = model.binary_var_list(numResources, name='y')\n",
    "y"
   ]
  },
  {
   "cell_type": "code",
   "execution_count": 50,
   "metadata": {},
   "outputs": [
    {
     "data": {
      "text/plain": [
       "[docplex.mp.LinearConstraint[](x_0_0+x_0_1+x_0_2,EQ,1),\n",
       " docplex.mp.LinearConstraint[](x_1_0+x_1_1+x_1_2,EQ,1),\n",
       " docplex.mp.LinearConstraint[](x_2_0+x_2_1+x_2_2,EQ,1)]"
      ]
     },
     "execution_count": 50,
     "metadata": {},
     "output_type": "execute_result"
    }
   ],
   "source": [
    "model.add_constraints([sum([x[i, j] for j in range(numResources)]) == 1 for i in range(numUsers)])"
   ]
  },
  {
   "cell_type": "code",
   "execution_count": 51,
   "metadata": {},
   "outputs": [
    {
     "name": "stdout",
     "output_type": "stream",
     "text": [
      "[docplex.mp.LinearConstraint[](x_0_0,LE,y_0), docplex.mp.LinearConstraint[](x_1_0,LE,y_0), docplex.mp.LinearConstraint[](x_2_0,LE,y_0)]\n",
      "[docplex.mp.LinearConstraint[](x_0_1,LE,y_1), docplex.mp.LinearConstraint[](x_1_1,LE,y_1), docplex.mp.LinearConstraint[](x_2_1,LE,y_1)]\n",
      "[docplex.mp.LinearConstraint[](x_0_2,LE,y_2), docplex.mp.LinearConstraint[](x_1_2,LE,y_2), docplex.mp.LinearConstraint[](x_2_2,LE,y_2)]\n"
     ]
    }
   ],
   "source": [
    "for j in range(numResources):\n",
    "    print(model.add_constraints([x[i, j] <= y[j] for i in range(numUsers)]))"
   ]
  },
  {
   "cell_type": "code",
   "execution_count": 52,
   "metadata": {},
   "outputs": [
    {
     "name": "stdout",
     "output_type": "stream",
     "text": [
      "Model: uflp\n",
      " - number of variables: 12\n",
      "   - binary=12, integer=0, continuous=0\n",
      " - number of constraints: 12\n",
      "   - linear=12\n",
      " - parameters: defaults\n",
      " - problem type is: MILP\n"
     ]
    }
   ],
   "source": [
    "model.print_information()"
   ]
  },
  {
   "cell_type": "code",
   "execution_count": 53,
   "metadata": {},
   "outputs": [
    {
     "data": {
      "text/plain": [
       "docplex.mp.LinearExpr(x_0_0+12x_0_1+3x_0_2+2x_1_0+7x_1_1+41x_1_2+19x_2_0+21x_2_1+7x_2_2)"
      ]
     },
     "execution_count": 53,
     "metadata": {},
     "output_type": "execute_result"
    }
   ],
   "source": [
    "first_sum = sum([sum([x[i, j] * cost[i][j] for j in range(numResources)]) for i in range(numUsers)])\n",
    "first_sum"
   ]
  },
  {
   "cell_type": "code",
   "execution_count": 55,
   "metadata": {},
   "outputs": [
    {
     "data": {
      "text/plain": [
       "docplex.mp.LinearExpr(12y_0+11y_1+13y_2)"
      ]
     },
     "execution_count": 55,
     "metadata": {},
     "output_type": "execute_result"
    }
   ],
   "source": [
    "second_sum = sum([y[j] * fixedCost[j] for j in range(numResources)])\n",
    "second_sum"
   ]
  },
  {
   "cell_type": "code",
   "execution_count": 57,
   "metadata": {},
   "outputs": [],
   "source": [
    "model.minimize(first_sum + second_sum)"
   ]
  },
  {
   "cell_type": "code",
   "execution_count": 58,
   "metadata": {},
   "outputs": [
    {
     "name": "stdout",
     "output_type": "stream",
     "text": [
      "Model: uflp\n",
      " - number of variables: 12\n",
      "   - binary=12, integer=0, continuous=0\n",
      " - number of constraints: 12\n",
      "   - linear=12\n",
      " - parameters: defaults\n",
      " - problem type is: MILP\n"
     ]
    }
   ],
   "source": [
    "model.print_information()"
   ]
  },
  {
   "cell_type": "code",
   "execution_count": 60,
   "metadata": {},
   "outputs": [],
   "source": [
    "solution = model.solve()"
   ]
  },
  {
   "cell_type": "code",
   "execution_count": 61,
   "metadata": {},
   "outputs": [
    {
     "name": "stdout",
     "output_type": "stream",
     "text": [
      "solution for: uflp\n",
      "objective: 34\n",
      "x_0_0 = 1\n",
      "x_1_0 = 1\n",
      "x_2_0 = 1\n",
      "y_0 = 1\n"
     ]
    }
   ],
   "source": [
    "solution.display()"
   ]
  },
  {
   "cell_type": "code",
   "execution_count": 62,
   "metadata": {},
   "outputs": [
    {
     "name": "stdout",
     "output_type": "stream",
     "text": [
      "objective: 34\n",
      "  x_0_0=1\n",
      "  x_1_0=1\n",
      "  x_2_0=1\n",
      "  y_0=1\n"
     ]
    }
   ],
   "source": [
    "model.print_solution()"
   ]
  },
  {
   "cell_type": "code",
   "execution_count": 63,
   "metadata": {},
   "outputs": [],
   "source": [
    "# model.sum()"
   ]
  },
  {
   "cell_type": "markdown",
   "metadata": {},
   "source": [
    "# SSCFLP\n",
    "\n",
    "- skup korisnika I\n",
    "- skup resursa J\n",
    "- cena dodeljivanja korisnika i resursu j - $c_{ij}$\n",
    "- cena uspostavljanja resursa j - $f_j$\n",
    "\n",
    "dodatno:\n",
    "- svaki korisnik i ima potraznju - $d_i$\n",
    "- svaki resurs j ima kapacitet - $s_j$"
   ]
  },
  {
   "cell_type": "markdown",
   "metadata": {},
   "source": [
    "$$min \\sum_{i \\in I} \\sum_{j \\in J} x_{ij} c_{ij}  + \\sum_{j \\in J} y_j f_j $$\n"
   ]
  },
  {
   "cell_type": "markdown",
   "metadata": {},
   "source": [
    "$$ \\sum_{j \\in J} x_{ij} = 1, \\forall i \\in I $$\n"
   ]
  },
  {
   "cell_type": "markdown",
   "metadata": {},
   "source": [
    "$$ \\sum_{i \\in I} d_i x_{ij} \\leq s_j y_j, \\forall j \\in J $$"
   ]
  },
  {
   "cell_type": "code",
   "execution_count": 102,
   "metadata": {},
   "outputs": [],
   "source": [
    "d = [1 for x in range(numUsers)]\n",
    "s = [1.5 for x in range(numResources)]"
   ]
  },
  {
   "cell_type": "code",
   "execution_count": 78,
   "metadata": {},
   "outputs": [],
   "source": [
    "model = Model(name='sscflp')"
   ]
  },
  {
   "cell_type": "code",
   "execution_count": 79,
   "metadata": {},
   "outputs": [
    {
     "data": {
      "text/plain": [
       "{(0, 0): docplex.mp.Var(type=B,name='x_0_0'),\n",
       " (0, 1): docplex.mp.Var(type=B,name='x_0_1'),\n",
       " (0, 2): docplex.mp.Var(type=B,name='x_0_2'),\n",
       " (1, 0): docplex.mp.Var(type=B,name='x_1_0'),\n",
       " (1, 1): docplex.mp.Var(type=B,name='x_1_1'),\n",
       " (1, 2): docplex.mp.Var(type=B,name='x_1_2'),\n",
       " (2, 0): docplex.mp.Var(type=B,name='x_2_0'),\n",
       " (2, 1): docplex.mp.Var(type=B,name='x_2_1'),\n",
       " (2, 2): docplex.mp.Var(type=B,name='x_2_2')}"
      ]
     },
     "execution_count": 79,
     "metadata": {},
     "output_type": "execute_result"
    }
   ],
   "source": [
    "x = model.binary_var_matrix(numUsers, numResources, name='x')\n",
    "x"
   ]
  },
  {
   "cell_type": "code",
   "execution_count": 80,
   "metadata": {},
   "outputs": [
    {
     "data": {
      "text/plain": [
       "[docplex.mp.Var(type=B,name='y_0'),\n",
       " docplex.mp.Var(type=B,name='y_1'),\n",
       " docplex.mp.Var(type=B,name='y_2')]"
      ]
     },
     "execution_count": 80,
     "metadata": {},
     "output_type": "execute_result"
    }
   ],
   "source": [
    "y = model.binary_var_list(numResources, name='y')\n",
    "y"
   ]
  },
  {
   "cell_type": "code",
   "execution_count": 81,
   "metadata": {},
   "outputs": [
    {
     "name": "stdout",
     "output_type": "stream",
     "text": [
      "x_0_0+x_0_1+x_0_2 == 1\n",
      "x_1_0+x_1_1+x_1_2 == 1\n",
      "x_2_0+x_2_1+x_2_2 == 1\n"
     ]
    }
   ],
   "source": [
    "for i in range(numUsers):\n",
    "    print(model.add_constraint(model.sum(x[i, j] for j in range(numResources)) == 1))"
   ]
  },
  {
   "cell_type": "code",
   "execution_count": 82,
   "metadata": {},
   "outputs": [
    {
     "name": "stdout",
     "output_type": "stream",
     "text": [
      "x_0_0+x_1_0+x_2_0 <= 2y_0\n",
      "x_0_1+x_1_1+x_2_1 <= 2y_1\n",
      "x_0_2+x_1_2+x_2_2 <= 2y_2\n"
     ]
    }
   ],
   "source": [
    "for j in range(numResources):\n",
    "    print(model.add_constraint(model.sum(d[i] * x[i, j] for i in range(numUsers)) <= s[j] * y[j]))"
   ]
  },
  {
   "cell_type": "code",
   "execution_count": 83,
   "metadata": {},
   "outputs": [
    {
     "data": {
      "text/plain": [
       "docplex.mp.LinearExpr(x_0_0+12x_0_1+3x_0_2+2x_1_0+7x_1_1+41x_1_2+19x_2_0+21x_2_1+7x_2_2)"
      ]
     },
     "execution_count": 83,
     "metadata": {},
     "output_type": "execute_result"
    }
   ],
   "source": [
    "first_sum = model.sum(model.sum(x[i,j] * cost[i][j] for j in range(numResources)) for i in range(numUsers))\n",
    "first_sum"
   ]
  },
  {
   "cell_type": "code",
   "execution_count": 84,
   "metadata": {},
   "outputs": [
    {
     "data": {
      "text/plain": [
       "docplex.mp.LinearExpr(12y_0+11y_1+13y_2)"
      ]
     },
     "execution_count": 84,
     "metadata": {},
     "output_type": "execute_result"
    }
   ],
   "source": [
    "second_sum = model.sum(y[j] * fixedCost[j] for j in range(numResources))\n",
    "second_sum"
   ]
  },
  {
   "cell_type": "code",
   "execution_count": 85,
   "metadata": {},
   "outputs": [],
   "source": [
    "model.minimize(first_sum + second_sum)"
   ]
  },
  {
   "cell_type": "code",
   "execution_count": 86,
   "metadata": {},
   "outputs": [
    {
     "name": "stdout",
     "output_type": "stream",
     "text": [
      "Model: sscflp\n",
      " - number of variables: 12\n",
      "   - binary=12, integer=0, continuous=0\n",
      " - number of constraints: 6\n",
      "   - linear=6\n",
      " - parameters: defaults\n",
      " - problem type is: MILP\n"
     ]
    }
   ],
   "source": [
    "model.print_information()"
   ]
  },
  {
   "cell_type": "code",
   "execution_count": 87,
   "metadata": {},
   "outputs": [
    {
     "data": {
      "text/plain": [
       "docplex.mp.solution.SolveSolution(obj=35,values={x_0_0:1,x_1_0:1,x_2_2:1.."
      ]
     },
     "execution_count": 87,
     "metadata": {},
     "output_type": "execute_result"
    }
   ],
   "source": [
    "model.solve()"
   ]
  },
  {
   "cell_type": "code",
   "execution_count": 88,
   "metadata": {},
   "outputs": [
    {
     "name": "stdout",
     "output_type": "stream",
     "text": [
      "objective: 35\n",
      "  x_0_0=1\n",
      "  x_1_0=1\n",
      "  x_2_2=1\n",
      "  y_0=1\n",
      "  y_2=1\n"
     ]
    }
   ],
   "source": [
    "model.print_solution()"
   ]
  },
  {
   "cell_type": "markdown",
   "metadata": {},
   "source": [
    "# MSCFLP"
   ]
  },
  {
   "cell_type": "markdown",
   "metadata": {},
   "source": [
    "$$min \\sum_{i \\in I} \\sum_{j \\in J} x_{ij} c_{ij}  + \\sum_{j \\in J} y_j f_j $$\n"
   ]
  },
  {
   "cell_type": "markdown",
   "metadata": {},
   "source": [
    "$$ \\sum_{j \\in J} x_{ij} = 1, \\forall i \\in I $$\n"
   ]
  },
  {
   "cell_type": "markdown",
   "metadata": {},
   "source": [
    "$$ \\sum_{i \\in I} d_i x_{ij} \\leq s_j y_j, \\forall j \\in J $$"
   ]
  },
  {
   "cell_type": "code",
   "execution_count": 103,
   "metadata": {},
   "outputs": [],
   "source": [
    "model = Model(name='mscflp')"
   ]
  },
  {
   "cell_type": "code",
   "execution_count": 104,
   "metadata": {},
   "outputs": [
    {
     "data": {
      "text/plain": [
       "{(0, 0): docplex.mp.Var(type=C,name='x_0_0'),\n",
       " (0, 1): docplex.mp.Var(type=C,name='x_0_1'),\n",
       " (0, 2): docplex.mp.Var(type=C,name='x_0_2'),\n",
       " (1, 0): docplex.mp.Var(type=C,name='x_1_0'),\n",
       " (1, 1): docplex.mp.Var(type=C,name='x_1_1'),\n",
       " (1, 2): docplex.mp.Var(type=C,name='x_1_2'),\n",
       " (2, 0): docplex.mp.Var(type=C,name='x_2_0'),\n",
       " (2, 1): docplex.mp.Var(type=C,name='x_2_1'),\n",
       " (2, 2): docplex.mp.Var(type=C,name='x_2_2')}"
      ]
     },
     "execution_count": 104,
     "metadata": {},
     "output_type": "execute_result"
    }
   ],
   "source": [
    "x = model.continuous_var_matrix(numUsers, numResources, name='x')\n",
    "x"
   ]
  },
  {
   "cell_type": "code",
   "execution_count": 105,
   "metadata": {},
   "outputs": [
    {
     "data": {
      "text/plain": [
       "[docplex.mp.Var(type=B,name='y_0'),\n",
       " docplex.mp.Var(type=B,name='y_1'),\n",
       " docplex.mp.Var(type=B,name='y_2')]"
      ]
     },
     "execution_count": 105,
     "metadata": {},
     "output_type": "execute_result"
    }
   ],
   "source": [
    "y = model.binary_var_list(numResources, name='y')\n",
    "y"
   ]
  },
  {
   "cell_type": "code",
   "execution_count": 106,
   "metadata": {},
   "outputs": [],
   "source": [
    "for i in range(numUsers):\n",
    "    model.add_constraint(model.sum(x[i,j] for j in range(numResources)) == 1)"
   ]
  },
  {
   "cell_type": "code",
   "execution_count": 107,
   "metadata": {},
   "outputs": [],
   "source": [
    "for j in range(numResources):\n",
    "    model.add_constraint(model.sum(d[i] * x[i,j] for i in range(numUsers)) <= s[j] * y[j])"
   ]
  },
  {
   "cell_type": "code",
   "execution_count": 108,
   "metadata": {},
   "outputs": [
    {
     "name": "stdout",
     "output_type": "stream",
     "text": [
      "Model: mscflp\n",
      " - number of variables: 12\n",
      "   - binary=3, integer=0, continuous=9\n",
      " - number of constraints: 6\n",
      "   - linear=6\n",
      " - parameters: defaults\n",
      " - problem type is: MILP\n"
     ]
    }
   ],
   "source": [
    "model.print_information()"
   ]
  },
  {
   "cell_type": "code",
   "execution_count": 109,
   "metadata": {},
   "outputs": [],
   "source": [
    "first_sum = model.sum(model.sum(x[i,j] * cost[i][j] for j in range(numResources)) for i in range(numUsers))"
   ]
  },
  {
   "cell_type": "code",
   "execution_count": 110,
   "metadata": {},
   "outputs": [],
   "source": [
    "second_sum = model.sum(y[j] * fixedCost[j] for j in range(numResources))"
   ]
  },
  {
   "cell_type": "code",
   "execution_count": 111,
   "metadata": {},
   "outputs": [],
   "source": [
    "model.minimize(first_sum + second_sum)"
   ]
  },
  {
   "cell_type": "code",
   "execution_count": 112,
   "metadata": {},
   "outputs": [
    {
     "data": {
      "text/plain": [
       "docplex.mp.solution.SolveSolution(obj=36,values={x_0_0:0.5,x_0_2:0.5,x_1.."
      ]
     },
     "execution_count": 112,
     "metadata": {},
     "output_type": "execute_result"
    }
   ],
   "source": [
    "model.solve()"
   ]
  },
  {
   "cell_type": "code",
   "execution_count": 113,
   "metadata": {},
   "outputs": [
    {
     "name": "stdout",
     "output_type": "stream",
     "text": [
      "objective: 36.000\n",
      "  x_0_0=0.500\n",
      "  x_0_2=0.500\n",
      "  x_1_0=1.000\n",
      "  x_2_2=1.000\n",
      "  y_0=1\n",
      "  y_2=1\n"
     ]
    }
   ],
   "source": [
    "model.print_solution()"
   ]
  },
  {
   "cell_type": "code",
   "execution_count": null,
   "metadata": {},
   "outputs": [],
   "source": []
  },
  {
   "cell_type": "code",
   "execution_count": 4,
   "metadata": {},
   "outputs": [],
   "source": [
    "from scipy import optimize as opt\n",
    "import numpy as np"
   ]
  },
  {
   "cell_type": "markdown",
   "metadata": {},
   "source": [
    "$$min f(x_0, x_1) = 3x_0 + 4x_1 $$"
   ]
  },
  {
   "cell_type": "markdown",
   "metadata": {},
   "source": [
    "$$ x_0 + 2x_1 \\leq 14 $$\n",
    "$$ x1 \\leq 3x_0 $$\n",
    "$$ x_0 - x_1 \\leq 2 $$"
   ]
  },
  {
   "cell_type": "code",
   "execution_count": 5,
   "metadata": {},
   "outputs": [
    {
     "data": {
      "text/plain": [
       "     con: array([], dtype=float64)\n",
       "     fun: 3.407511066260325e-10\n",
       " message: 'Optimization terminated successfully.'\n",
       "     nit: 5\n",
       "   slack: array([1.40000000e+01, 2.81844599e-10, 2.00000000e+00])\n",
       "  status: 0\n",
       " success: True\n",
       "       x: array([9.78753002e-11, 1.17813015e-11])"
      ]
     },
     "execution_count": 5,
     "metadata": {},
     "output_type": "execute_result"
    }
   ],
   "source": [
    "# f(x) = c*x\n",
    "c = np.array([3, 4])\n",
    "A_ub = np.array([[1,2],\n",
    "                 [-3, 1],\n",
    "                 [1, -1]])\n",
    "b_ub = np.array([14, 0, 2])\n",
    "\n",
    "opt.linprog(c=c, A_ub=A_ub, b_ub=b_ub)"
   ]
  },
  {
   "cell_type": "markdown",
   "metadata": {},
   "source": [
    "$$ f(x, y) = 2xy + 2x - x^2 - y^2 $$"
   ]
  },
  {
   "cell_type": "markdown",
   "metadata": {},
   "source": [
    "$$ g_1(x, y) = x ^3 - y = 0 $$"
   ]
  },
  {
   "cell_type": "markdown",
   "metadata": {},
   "source": [
    "$$ g_2(x, y) = y - 1 >= 0 $$"
   ]
  },
  {
   "cell_type": "code",
   "execution_count": 10,
   "metadata": {},
   "outputs": [
    {
     "data": {
      "text/plain": [
       "     fun: -3.9658539922004776e+16\n",
       "     jac: array([-5.36870912e+08,  0.00000000e+00])\n",
       " message: 'Optimization terminated successfully.'\n",
       "    nfev: 302\n",
       "     nit: 60\n",
       "    njev: 60\n",
       "  status: 0\n",
       " success: True\n",
       "       x: array([-5.83969114e+02, -1.99145104e+08])"
      ]
     },
     "execution_count": 10,
     "metadata": {},
     "output_type": "execute_result"
    }
   ],
   "source": [
    "def f(x):\n",
    "    return 2 * x[0] * x[1] + 2 * x[0] - x[0]**2 - x[1]**2\n",
    "\n",
    "# R^n -> R\n",
    "\n",
    "\n",
    "c = [\n",
    "    {\n",
    "        'type': 'eq',\n",
    "        'fun': lambda x: np.array([x[0] ** 3 - x[1]]),\n",
    "        'jac': lambda x: np.array([3 * x[0]**2, -1])\n",
    "    },\n",
    "    {\n",
    "        'type': 'ineq', \n",
    "        'fun': lambda x: np.array([-x[1] + 1]),\n",
    "        'jac': lambda x: np.array([0, -1])\n",
    "    }\n",
    "]\n",
    "\n",
    "opt.minimize(f, (0, 0), constraints=c, method='SLSQP')"
   ]
  },
  {
   "cell_type": "code",
   "execution_count": null,
   "metadata": {},
   "outputs": [],
   "source": []
  }
 ],
 "metadata": {
  "kernelspec": {
   "display_name": "Python 3",
   "language": "python",
   "name": "python3"
  },
  "language_info": {
   "codemirror_mode": {
    "name": "ipython",
    "version": 3
   },
   "file_extension": ".py",
   "mimetype": "text/x-python",
   "name": "python",
   "nbconvert_exporter": "python",
   "pygments_lexer": "ipython3",
   "version": "3.7.6"
  }
 },
 "nbformat": 4,
 "nbformat_minor": 4
}
