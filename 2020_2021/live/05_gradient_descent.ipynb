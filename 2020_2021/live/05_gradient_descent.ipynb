{
 "cells": [
  {
   "cell_type": "code",
   "execution_count": 1,
   "metadata": {},
   "outputs": [],
   "source": [
    "# x_new = x - alpha * gradient(x)\n",
    "import numpy as np"
   ]
  },
  {
   "cell_type": "code",
   "execution_count": 2,
   "metadata": {},
   "outputs": [],
   "source": [
    "def gradient_descent(f, gradient, x0, alpha, eps, max_iter):\n",
    "    x = x0\n",
    "    \n",
    "    for i in range(max_iter):\n",
    "        x_new = x - alpha * gradient(x)\n",
    "        \n",
    "        if np.abs(f(x_new) - f(x)) < eps:\n",
    "            break\n",
    "            \n",
    "        x = x_new\n",
    "        \n",
    "    converged = i != max_iter\n",
    "    result = {}\n",
    "    result['converged'] = converged\n",
    "    result['num_iter'] = i\n",
    "    result['x'] = x_new\n",
    "    \n",
    "    return result"
   ]
  },
  {
   "cell_type": "code",
   "execution_count": 3,
   "metadata": {},
   "outputs": [],
   "source": [
    "def f(x):\n",
    "    return 0.5 * (x[0] ** 2 + 10*x[1]**2)"
   ]
  },
  {
   "cell_type": "code",
   "execution_count": 4,
   "metadata": {},
   "outputs": [],
   "source": [
    "def gradient(x):\n",
    "    return np.array([x[0], 10 * x[1]])"
   ]
  },
  {
   "cell_type": "code",
   "execution_count": 11,
   "metadata": {},
   "outputs": [
    {
     "data": {
      "text/plain": [
       "{'converged': True, 'num_iter': 33, 'x': array([0.08343852, 0.        ])}"
      ]
     },
     "execution_count": 11,
     "metadata": {},
     "output_type": "execute_result"
    }
   ],
   "source": [
    "x0 = np.array([3, 5])\n",
    "alpha = 0.1\n",
    "eps = 0.001\n",
    "max_iter = 1000\n",
    "\n",
    "gradient_descent(f, gradient, x0, alpha, eps, max_iter)"
   ]
  },
  {
   "cell_type": "code",
   "execution_count": 7,
   "metadata": {},
   "outputs": [],
   "source": [
    "def momentum(f, gradient, x0, alpha, eps, max_iter, beta):\n",
    "    x = x0\n",
    "    d = 0\n",
    "    \n",
    "    for i in range(max_iter):\n",
    "        d = beta * d + alpha * gradient(x)\n",
    "        x_new = x - d\n",
    "        \n",
    "        if np.abs(f(x_new) - f(x)) < eps:\n",
    "            break\n",
    "            \n",
    "        x = x_new\n",
    "        \n",
    "    converged = i != max_iter\n",
    "    result = {}\n",
    "    result['converged'] = converged\n",
    "    result['num_iter'] = i\n",
    "    result['x'] = x_new\n",
    "    \n",
    "    return result"
   ]
  },
  {
   "cell_type": "code",
   "execution_count": 9,
   "metadata": {},
   "outputs": [
    {
     "data": {
      "text/plain": [
       "{'converged': True, 'num_iter': 16, 'x': array([ 0.00486534, -0.00709534])}"
      ]
     },
     "execution_count": 9,
     "metadata": {},
     "output_type": "execute_result"
    }
   ],
   "source": [
    "momentum(f, gradient, x0, alpha, eps, max_iter, beta=0.5)"
   ]
  },
  {
   "cell_type": "code",
   "execution_count": 12,
   "metadata": {},
   "outputs": [],
   "source": [
    "def nesterov(f, gradient, x0, alpha, eps, max_iter, beta):\n",
    "    x = x0\n",
    "    d = 0\n",
    "    \n",
    "    for i in range(max_iter):\n",
    "        d = beta * d + alpha * gradient(x - beta * d)\n",
    "        x_new = x - d\n",
    "        \n",
    "        if np.abs(f(x_new) - f(x)) < eps:\n",
    "            break\n",
    "            \n",
    "        x = x_new\n",
    "        \n",
    "    converged = i != max_iter\n",
    "    result = {}\n",
    "    result['converged'] = converged\n",
    "    result['num_iter'] = i\n",
    "    result['x'] = x_new\n",
    "    \n",
    "    return result"
   ]
  },
  {
   "cell_type": "code",
   "execution_count": 13,
   "metadata": {},
   "outputs": [
    {
     "data": {
      "text/plain": [
       "{'converged': True, 'num_iter': 25, 'x': array([-0.04738745,  0.        ])}"
      ]
     },
     "execution_count": 13,
     "metadata": {},
     "output_type": "execute_result"
    }
   ],
   "source": [
    "nesterov(f, gradient, x0, alpha, eps, max_iter, beta=0.9)"
   ]
  },
  {
   "cell_type": "markdown",
   "metadata": {},
   "source": [
    "n-ti momenat: E(X^n)\n",
    "E(X)\n",
    "E(X^2)\n",
    "\n",
    "$$ m_0 = 0 $$\n",
    "$$ m_1 = \\beta_1 m_0 + (1 - \\beta_1)g_1 = (1 - \\beta_1)g_1 $$\n",
    "$$ m_2 = \\beta_1 m_1 + (1 - \\beta_1)g_2 = \\beta_1 (1 - \\beta_1)g_1  + (1 - \\beta_1)g_2 $$\n",
    "$$ m_3 = \\beta_1 m_2 + (1 - \\beta_1)g_3 =  \\beta_1 ^ 2(1 - \\beta_1)g_1  + \\beta_1(1 - \\beta_1)g_2 + (1 - \\beta_1)g_3 $$\n",
    "\n",
    "$$ m_t = (1 - \\beta_1) \\sum_{i=0}^t \\beta_1^{t - i}g_i $$\n",
    "\n",
    "$$ E[m_t] = E[(1 - \\beta_1) \\sum_{i=0}^t \\beta_1^{t - i}g_i]\n",
    "= E[g_t] [(1 - \\beta_1) \\sum_{i=0}^t \\beta_1^{t - i}  + greska$$\n",
    "\n",
    "$$ (1 - \\beta_1) \\sum_{i=0}^t \\beta_1^{t - i} = 1 - \\beta_1 ^t $$"
   ]
  },
  {
   "cell_type": "code",
   "execution_count": 15,
   "metadata": {},
   "outputs": [],
   "source": [
    "def adam(f, gradient, x0, alpha, eps, max_iter, beta1, beta2, delta):\n",
    "    m = 0\n",
    "    v = 0\n",
    "    x = x0\n",
    "    \n",
    "    for i in range(1, max_iter):\n",
    "        g = gradient(x)\n",
    "        m = beta1 * m + (1 - beta1) * g\n",
    "        v = beta2 * v + (1 - beta2) * g ** 2\n",
    "        \n",
    "        m_hat = m / (1 - beta1 ** i)\n",
    "        v_hat = v / (1 - beta2 ** i)\n",
    "        \n",
    "        x_new = x - alpha * (m_hat / (np.sqrt(v_hat) + delta))\n",
    "        \n",
    "        if np.abs(f(x_new) - f(x)) < eps:\n",
    "            break\n",
    "            \n",
    "        x = x_new\n",
    "        \n",
    "    converged = i != max_iter\n",
    "    result = {}\n",
    "    result['converged'] = converged\n",
    "    result['num_iter'] = i\n",
    "    result['x'] = x_new\n",
    "    \n",
    "    return result"
   ]
  },
  {
   "cell_type": "code",
   "execution_count": 16,
   "metadata": {},
   "outputs": [
    {
     "data": {
      "text/plain": [
       "{'converged': True, 'num_iter': 86, 'x': array([0.01802498, 0.00438169])}"
      ]
     },
     "execution_count": 16,
     "metadata": {},
     "output_type": "execute_result"
    }
   ],
   "source": [
    "adam(f, gradient, x0, alpha, eps, max_iter, beta1=0.9, beta2=0.999, delta=1e-7)"
   ]
  },
  {
   "cell_type": "code",
   "execution_count": 17,
   "metadata": {},
   "outputs": [],
   "source": [
    "# Branch and Bound"
   ]
  },
  {
   "cell_type": "code",
   "execution_count": 18,
   "metadata": {},
   "outputs": [],
   "source": [
    "# Q---\n",
    "# ---\n",
    "# -Q--\n",
    "# ----"
   ]
  },
  {
   "cell_type": "code",
   "execution_count": 19,
   "metadata": {},
   "outputs": [],
   "source": [
    "def print_solution(board):\n",
    "    n = board.shape[0]\n",
    "    for i in range(n):\n",
    "        for j in range(n):\n",
    "            print(board[i][j], end=' ')\n",
    "        print()"
   ]
  },
  {
   "cell_type": "code",
   "execution_count": 20,
   "metadata": {},
   "outputs": [],
   "source": [
    "def solve(n):\n",
    "    board = np.full((n, n), '.', dtype=str)\n",
    "    \n",
    "    row_check = np.full(n, False)\n",
    "    \n",
    "    d1_check = np.full(2 * n - 1, False)\n",
    "    \n",
    "    d2_check = np.full(2 * n - 1, False)\n",
    "    \n",
    "    if not bnb(board, 0, row_check, d1_check, d2_check):\n",
    "        print('Nema resenja')\n",
    "        return False\n",
    "    print_solution(board)"
   ]
  },
  {
   "cell_type": "code",
   "execution_count": 21,
   "metadata": {},
   "outputs": [],
   "source": [
    "def bnb(board, c, row_check, d1_check, d2_check):\n",
    "    n = board.shape[0]\n",
    "    \n",
    "    if c >= n:\n",
    "        return True\n",
    "    \n",
    "    for r in range(n):\n",
    "        if is_free(r, c, row_check, d1_check, d2_check):\n",
    "            board[r][c] = 'Q'\n",
    "            row_check[r] = True\n",
    "            d1_check[r + c] = True\n",
    "            d2_check[r - c + n - 1] = True\n",
    "            \n",
    "            if bnb(board, c + 1, row_check, d1_check, d2_check):\n",
    "                return True\n",
    "            \n",
    "            board[r][c] = '.'\n",
    "            row_check[r] = False\n",
    "            d1_check[r + c] = False\n",
    "            d2_check[r - c + n - 1] = False\n",
    "            \n",
    "    return False"
   ]
  },
  {
   "cell_type": "code",
   "execution_count": 22,
   "metadata": {},
   "outputs": [],
   "source": [
    "def is_free(r, c, row_check, d1_check, d2_check):\n",
    "    n = row_check.shape[0]\n",
    "    if row_check[r] or d1_check[r + c] or d2_check[r - c + n - 1]:\n",
    "        return False\n",
    "    return True"
   ]
  },
  {
   "cell_type": "code",
   "execution_count": 23,
   "metadata": {},
   "outputs": [
    {
     "name": "stdout",
     "output_type": "stream",
     "text": [
      "Q . . . . . . . \n",
      ". . . . . . Q . \n",
      ". . . . Q . . . \n",
      ". . . . . . . Q \n",
      ". Q . . . . . . \n",
      ". . . Q . . . . \n",
      ". . . . . Q . . \n",
      ". . Q . . . . . \n"
     ]
    }
   ],
   "source": [
    "solve(8)"
   ]
  },
  {
   "cell_type": "code",
   "execution_count": null,
   "metadata": {},
   "outputs": [],
   "source": []
  }
 ],
 "metadata": {
  "kernelspec": {
   "display_name": "Python 3",
   "language": "python",
   "name": "python3"
  },
  "language_info": {
   "codemirror_mode": {
    "name": "ipython",
    "version": 3
   },
   "file_extension": ".py",
   "mimetype": "text/x-python",
   "name": "python",
   "nbconvert_exporter": "python",
   "pygments_lexer": "ipython3",
   "version": "3.7.6"
  }
 },
 "nbformat": 4,
 "nbformat_minor": 4
}
