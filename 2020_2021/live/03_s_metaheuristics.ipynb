{
 "cells": [
  {
   "cell_type": "markdown",
   "metadata": {},
   "source": [
    "- S metaheuristike\n",
    "    - lokalna pretraga\n",
    "    - simulirano kaljenje\n",
    "    - promenljive okoline\n",
    "    - tabu pretraga\n",
    "    - iterativna lokalna\n",
    "    - ...\n",
    "- P metaheuristike"
   ]
  },
  {
   "cell_type": "code",
   "execution_count": 4,
   "metadata": {},
   "outputs": [],
   "source": [
    "# uflp - prost lokacijski problem\n",
    "# I korisnika\n",
    "# J resursa\n",
    "# c_ij - cena pridruzivanja korisnika i resursu j\n",
    "# f_j - cena uspostavljanja resursa j\n",
    "\n",
    "# J = 5\n",
    "# resenje: odabir resursa - solution = [True, False, True, False, True]\n",
    "#                                      [True, False, True, True, True]\n",
    "\n",
    "\n",
    "\n",
    "# 5 aviona\n",
    "# solution =    [3,1,2,5,4]\n",
    "# newSolution = [3,2,1,5,4]"
   ]
  },
  {
   "cell_type": "code",
   "execution_count": 6,
   "metadata": {},
   "outputs": [],
   "source": [
    "# min f\n",
    "# max f = min (-f)"
   ]
  },
  {
   "cell_type": "code",
   "execution_count": 7,
   "metadata": {},
   "outputs": [],
   "source": [
    "import random"
   ]
  },
  {
   "cell_type": "code",
   "execution_count": 9,
   "metadata": {},
   "outputs": [],
   "source": [
    "def isFeasible(solution):\n",
    "    for resource in solution:\n",
    "        if resource:\n",
    "            return True\n",
    "    return False"
   ]
  },
  {
   "cell_type": "code",
   "execution_count": 8,
   "metadata": {},
   "outputs": [],
   "source": [
    "def initialize(numResources, p):\n",
    "    solution = []\n",
    "    for i in range(numResources):\n",
    "        solution.append(random.random() < p)\n",
    "    if not isFeasible(solution):\n",
    "        solution[random.randrange(numResources)] = True\n",
    "    \n",
    "    return solution"
   ]
  },
  {
   "cell_type": "code",
   "execution_count": 10,
   "metadata": {},
   "outputs": [],
   "source": [
    "def calcSolutionValue(solution, cost, fixedCost):\n",
    "    numUsers = len(cost)\n",
    "    numResources = len(fixedCost)\n",
    "    value = 0.0\n",
    "    used = [False for _ in range(numResources)]\n",
    "    \n",
    "    for i in range(numUsers):\n",
    "        minCost = float('inf')\n",
    "        resourceUsed = -1\n",
    "        for j in range(numResources):\n",
    "            if solution[j] and cost[i][j] < minCost:\n",
    "                minCost = cost[i][j]\n",
    "                resourceUsed = j\n",
    "                \n",
    "        value += minCost\n",
    "        used[resourceUsed] = True\n",
    "        \n",
    "    for j in range(numResources):\n",
    "        if used[j]:\n",
    "            value += fixedCost[j]\n",
    "            \n",
    "    solution = used\n",
    "    return value"
   ]
  },
  {
   "cell_type": "code",
   "execution_count": 13,
   "metadata": {},
   "outputs": [],
   "source": [
    "def invert(solution):\n",
    "    chosen = random.randrange(len(solution))\n",
    "    solution[chosen] = not solution[chosen]\n",
    "    if isFeasible(solution):\n",
    "        return chosen\n",
    "    solution[chosen] = not solution[chosen]\n",
    "    return -1"
   ]
  },
  {
   "cell_type": "code",
   "execution_count": 14,
   "metadata": {},
   "outputs": [],
   "source": [
    "def restore(solution, j):\n",
    "    solution[j] = not solution[j]"
   ]
  },
  {
   "cell_type": "code",
   "execution_count": 20,
   "metadata": {},
   "outputs": [],
   "source": [
    "def localSearch(cost, fixedCost, iters):\n",
    "    solution = initialize(len(fixedCost), p=0.25)\n",
    "    currValue = calcSolutionValue(solution, cost, fixedCost)\n",
    "    bestValue = currValue\n",
    "    \n",
    "    for i in range(iters):\n",
    "#         newSolution = izmeni trenutno resenje - u okolini prethodnog resenja\n",
    "        j = invert(solution)\n",
    "        if j < 0:\n",
    "            continue\n",
    "        newValue = calcSolutionValue(solution, cost, fixedCost)\n",
    "        \n",
    "        if newValue < currValue:\n",
    "            currValue = newValue\n",
    "            if newValue < bestValue:\n",
    "                bestValue = newValue\n",
    "        else:\n",
    "#             nastavi petlju sa starim solution\n",
    "            restore(solution, j)\n",
    "            \n",
    "    return bestValue"
   ]
  },
  {
   "cell_type": "code",
   "execution_count": 17,
   "metadata": {},
   "outputs": [],
   "source": [
    "def readInput(filename):\n",
    "    with open(filename, 'r') as f:\n",
    "        numUsers, numResources = [int(x) for x in f.readline().split()]\n",
    "        cost = [[int(j) for j in f.readline().split()] for i in range(numUsers)]\n",
    "        fixedCost = [int(x) for x in f.readline().split()]\n",
    "        \n",
    "        return numUsers, numResources, cost, fixedCost"
   ]
  },
  {
   "cell_type": "code",
   "execution_count": 19,
   "metadata": {},
   "outputs": [
    {
     "data": {
      "text/plain": [
       "34.0"
      ]
     },
     "execution_count": 19,
     "metadata": {},
     "output_type": "execute_result"
    }
   ],
   "source": [
    "numUsers, numResources, cost, fixedCost = readInput('uflp1.txt')\n",
    "localSearch(cost, fixedCost, iters=10000)"
   ]
  },
  {
   "cell_type": "code",
   "execution_count": 21,
   "metadata": {},
   "outputs": [],
   "source": [
    "def simulatedAnnealing(cost, fixedCost, iters):\n",
    "    solution = initialize(len(fixedCost), p = 0.25)\n",
    "    currValue = calcSolutionValue(solution, cost, fixedCost)\n",
    "    bestValue = currValue\n",
    "    \n",
    "    for i in range(iters):\n",
    "        j = invert(solution)\n",
    "        if j < 0:\n",
    "            continue\n",
    "        \n",
    "        newValue = calcSolutionValue(solution, cost, fixedCost)\n",
    "        \n",
    "        if newValue < currValue:\n",
    "            currValue = newValue\n",
    "            if newValue < bestValue:\n",
    "                bestValue = newValue\n",
    "        else:\n",
    "            p = 1.0 / i ** 0.5\n",
    "            q = random.uniform(0, 1)\n",
    "            if p > q:\n",
    "                currValue = newValue\n",
    "            else:\n",
    "                restore(solution, j)\n",
    "                \n",
    "    return bestValue"
   ]
  },
  {
   "cell_type": "code",
   "execution_count": 22,
   "metadata": {},
   "outputs": [
    {
     "data": {
      "text/plain": [
       "34.0"
      ]
     },
     "execution_count": 22,
     "metadata": {},
     "output_type": "execute_result"
    }
   ],
   "source": [
    "simulatedAnnealing(cost, fixedCost, iters=10000)"
   ]
  },
  {
   "cell_type": "code",
   "execution_count": 30,
   "metadata": {},
   "outputs": [],
   "source": [
    "def getNeighbor(k, solution):\n",
    "    numResources = len(solution)\n",
    "    inverted = []\n",
    "    \n",
    "    for i in range(k):\n",
    "        j = random.randrange(numResources)\n",
    "        while j in inverted:\n",
    "            j = random.randrange(numResources)\n",
    "        solution[j] = not solution[j]\n",
    "        inverted.append(j)\n",
    "        \n",
    "    if isFeasible(solution):\n",
    "        return True, inverted\n",
    "    else:\n",
    "        restoreMultiple(solution, inverted)\n",
    "        return False, inverted"
   ]
  },
  {
   "cell_type": "code",
   "execution_count": 31,
   "metadata": {},
   "outputs": [],
   "source": [
    "def restoreMultiple(solution, inverted):\n",
    "    for j in inverted:\n",
    "        solution[j] = not solution[j]"
   ]
  },
  {
   "cell_type": "code",
   "execution_count": 32,
   "metadata": {},
   "outputs": [],
   "source": [
    "def RVNS(cost, fixedCost, iters, kMax):\n",
    "    solution = initialize(numResources=len(fixedCost), p=0.25)\n",
    "    currValue = calcSolutionValue(solution, cost, fixedCost)\n",
    "    bestValue = currValue\n",
    "    \n",
    "    for i in range(iters):\n",
    "        k = 0\n",
    "        while k <= kMax:\n",
    "            feasible, inverted = getNeighbor(k, solution)\n",
    "            if not feasible:\n",
    "                continue\n",
    "            \n",
    "            newValue = calcSolutionValue(solution, cost, fixedCost)\n",
    "            if newValue < currValue:\n",
    "                currValue = newValue\n",
    "                k = 0\n",
    "                if newValue < bestValue:\n",
    "                    bestValue = newValue\n",
    "            else:\n",
    "                restoreMultiple(solution, inverted)\n",
    "                k += 1\n",
    "                \n",
    "    return bestValue"
   ]
  },
  {
   "cell_type": "code",
   "execution_count": 33,
   "metadata": {},
   "outputs": [
    {
     "data": {
      "text/plain": [
       "34.0"
      ]
     },
     "execution_count": 33,
     "metadata": {},
     "output_type": "execute_result"
    }
   ],
   "source": [
    "RVNS(cost, fixedCost, iters=10, kMax=3)"
   ]
  },
  {
   "cell_type": "code",
   "execution_count": null,
   "metadata": {},
   "outputs": [],
   "source": []
  }
 ],
 "metadata": {
  "kernelspec": {
   "display_name": "Python 3",
   "language": "python",
   "name": "python3"
  },
  "language_info": {
   "codemirror_mode": {
    "name": "ipython",
    "version": 3
   },
   "file_extension": ".py",
   "mimetype": "text/x-python",
   "name": "python",
   "nbconvert_exporter": "python",
   "pygments_lexer": "ipython3",
   "version": "3.7.6"
  }
 },
 "nbformat": 4,
 "nbformat_minor": 4
}
