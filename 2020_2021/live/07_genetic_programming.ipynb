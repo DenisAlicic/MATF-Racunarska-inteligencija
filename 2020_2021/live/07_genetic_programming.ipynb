{
 "cells": [
  {
   "cell_type": "code",
   "execution_count": 1,
   "metadata": {},
   "outputs": [],
   "source": [
    "# 0110101\n",
    "# 1011111\n",
    "\n",
    "# suma=0;\n",
    "# for(int i = 0; i < n; i++) {\n",
    "#     if(i % 3 == 0) {\n",
    "#         suma+=i;\n",
    "#     }\n",
    "# }"
   ]
  },
  {
   "cell_type": "code",
   "execution_count": 4,
   "metadata": {},
   "outputs": [
    {
     "data": {
      "text/plain": [
       "14"
      ]
     },
     "execution_count": 4,
     "metadata": {},
     "output_type": "execute_result"
    }
   ],
   "source": [
    "# primitivne funkcije: +,-,*\n",
    "# terminali: celi brojevi [-20, 20]\n",
    "# X=5000\n",
    "# (a.b).(c.d)\n",
    "\n",
    "# izraz: (2+3)*(4-1)\n",
    "# code: ['*' '+' '-' 2 3 4 1]\n",
    "eval('2+3*4')\n",
    "  0   1   2  3 4 5 6\n",
    "['*' '+' '-' 2 3 4 1] -> '+'\n",
    "['+' '-' '*' 5 6 7 8]\n",
    "\n",
    "\n",
    "# (a+b)+(e+d)\n",
    "# 4000 - 5000 -> -1000\n",
    "# 4500 - 5000 -> -500\n",
    "# 6000 - 5000 -> 1000"
   ]
  },
  {
   "cell_type": "code",
   "execution_count": 5,
   "metadata": {},
   "outputs": [],
   "source": [
    "import random"
   ]
  },
  {
   "cell_type": "code",
   "execution_count": 12,
   "metadata": {},
   "outputs": [],
   "source": [
    "class Individual:\n",
    "    \n",
    "    def __init__(self):\n",
    "        self.code = []\n",
    "        for i in range(3):\n",
    "            self.code.append(self.randomOperator())\n",
    "        for i in range(3, 7):\n",
    "            self.code.append(self.randomTerminal())\n",
    "        \n",
    "        self.fitness = self.calcFitness()\n",
    "            \n",
    "    def randomOperator(self):\n",
    "        operators = ['+', '-', '*']\n",
    "        return random.choice(operators)\n",
    "    \n",
    "    def randomTerminal(self):\n",
    "        return random.randrange(-20, 20)\n",
    "    \n",
    "    def __str__(self):\n",
    "        a = str(self.code[3])\n",
    "        b = str(self.code[4])\n",
    "        c = str(self.code[5])\n",
    "        d = str(self.code[6])\n",
    "        \n",
    "        left = '(' + a + ' ' + self.code[1] + ' ' + b + ')'\n",
    "        right = '(' + c + ' ' + self.code[2] + ' ' + d + ')'\n",
    "        \n",
    "        return left + ' ' + self.code[0] + ' ' + right\n",
    "    \n",
    "    def __lt__(self, other):\n",
    "        return self.fitness > other.fitness\n",
    "    \n",
    "    def calcFitness(self):\n",
    "        value = eval(self.__str__())\n",
    "        return - abs(5000 - value)"
   ]
  },
  {
   "cell_type": "code",
   "execution_count": 13,
   "metadata": {},
   "outputs": [
    {
     "name": "stdout",
     "output_type": "stream",
     "text": [
      "(16 - -7) * (-6 + -10)\n"
     ]
    }
   ],
   "source": [
    "i = Individual()\n",
    "print(i)"
   ]
  },
  {
   "cell_type": "code",
   "execution_count": 14,
   "metadata": {},
   "outputs": [],
   "source": [
    "def selection(population):\n",
    "    TOURNAMENT_SIZE = 6\n",
    "    maxFitness = float('-inf')\n",
    "    bestIndex = -1\n",
    "    \n",
    "    for i in range(TOURNAMENT_SIZE):\n",
    "        index = random.randrange(len(population))\n",
    "        if population[index].fitness > maxFitness:\n",
    "            maxFitness = population[index].fitness\n",
    "            bestIndex = index\n",
    "        \n",
    "    return bestIndex"
   ]
  },
  {
   "cell_type": "code",
   "execution_count": 15,
   "metadata": {},
   "outputs": [],
   "source": [
    "def getSubtree(index, subtree):\n",
    "    if index < 7:\n",
    "        subtree.append(index)\n",
    "        getSubtree(index * 2 + 1, subtree)\n",
    "        getSubtree(index * 2 + 2, subtree)\n",
    "#         ((a.b).(c.d)).((e.f).(g.h))\n",
    "\n",
    "def crossover(parent1, parent2, child1, child2):\n",
    "    index = random.randrange(7)\n",
    "    subtree = []\n",
    "    getSubtree(index, subtree)\n",
    "    for i in range(7):\n",
    "        if i in subtree:\n",
    "            child1.code[i] = parent2.code[i]\n",
    "            child2.code[i] = parent1.code[i]\n",
    "        else:\n",
    "            child1.code[i] = parent1.code[i]\n",
    "            child2.code[i] = parent2.code[i]"
   ]
  },
  {
   "cell_type": "code",
   "execution_count": 16,
   "metadata": {},
   "outputs": [],
   "source": [
    "def mutation(individual):\n",
    "    MUTATION_PROB = 0.1\n",
    "    for i in range(7):\n",
    "        if random.random() < MUTATION_PROB:\n",
    "            if i < 3:\n",
    "#                 operator\n",
    "                individual.code[i] = individual.randomOperator()\n",
    "            else:\n",
    "                prevValue = individual.code[i]\n",
    "                individual.code[i] = random.randrange(prevValue - 10, prevValue + 10)"
   ]
  },
  {
   "cell_type": "code",
   "execution_count": 19,
   "metadata": {},
   "outputs": [
    {
     "name": "stdout",
     "output_type": "stream",
     "text": [
      "Solutoin: (-25 * -10) * (4 + 16), after 1158 iterations\n"
     ]
    }
   ],
   "source": [
    "POPULATION_SIZE = 200\n",
    "NUM_GENERATIONS = 5000\n",
    "ELITISM_SIZE = POPULATION_SIZE // 5\n",
    "\n",
    "population = [Individual() for _ in range(POPULATION_SIZE)]\n",
    "newPopulation = [Individual() for _ in range(POPULATION_SIZE)]\n",
    "\n",
    "solutionFound = False\n",
    "for i in range(NUM_GENERATIONS):\n",
    "    population.sort()\n",
    "    if population[0].fitness == 0:\n",
    "        solutionFound = True\n",
    "        break\n",
    "    \n",
    "    newPopulation[:ELITISM_SIZE] = population[:ELITISM_SIZE]\n",
    "    for j in range(ELITISM_SIZE, POPULATION_SIZE, 2):\n",
    "        \n",
    "        parent1Index = selection(population)\n",
    "        parent2Index = selection(population)\n",
    "        \n",
    "        crossover(population[parent1Index], population[parent2Index], newPopulation[j], newPopulation[j+1])\n",
    "        \n",
    "        mutation(newPopulation[j])\n",
    "        mutation(newPopulation[j+1])\n",
    "        \n",
    "        newPopulation[j].fitness = newPopulation[j].calcFitness()\n",
    "        newPopulation[j+1].fitness = newPopulation[j+1].calcFitness()\n",
    "        \n",
    "    population = newPopulation\n",
    "    \n",
    "if solutionFound:\n",
    "    print('Solutoin: {}, after {} iterations'.format(population[0], i))\n",
    "else:\n",
    "    print('no solution')"
   ]
  },
  {
   "cell_type": "code",
   "execution_count": 18,
   "metadata": {},
   "outputs": [
    {
     "data": {
      "text/plain": [
       "5000"
      ]
     },
     "execution_count": 18,
     "metadata": {},
     "output_type": "execute_result"
    }
   ],
   "source": [
    "(10 * -25) * (-19 - 1)"
   ]
  },
  {
   "cell_type": "code",
   "execution_count": null,
   "metadata": {},
   "outputs": [],
   "source": [
    "regex\n",
    "rec, rec2, rec3...           ne, n2, ne3...\n",
    "r.*"
   ]
  }
 ],
 "metadata": {
  "kernelspec": {
   "display_name": "Python 3",
   "language": "python",
   "name": "python3"
  },
  "language_info": {
   "codemirror_mode": {
    "name": "ipython",
    "version": 3
   },
   "file_extension": ".py",
   "mimetype": "text/x-python",
   "name": "python",
   "nbconvert_exporter": "python",
   "pygments_lexer": "ipython3",
   "version": "3.7.6"
  }
 },
 "nbformat": 4,
 "nbformat_minor": 4
}
