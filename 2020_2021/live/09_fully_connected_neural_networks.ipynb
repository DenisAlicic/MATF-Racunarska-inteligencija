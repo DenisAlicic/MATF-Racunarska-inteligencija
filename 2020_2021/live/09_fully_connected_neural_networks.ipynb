{
 "cells": [
  {
   "cell_type": "code",
   "execution_count": 1,
   "metadata": {},
   "outputs": [],
   "source": [
    "# x1 * w1 + x2 * w2 +... + xn * wn = w.x\n",
    "\n",
    "# W1, W2, W3, W4, W5\n",
    "# Wx + b \n",
    "\n",
    "# g(W*(g(W*h_I-2 + b)) + b)\n",
    "\n",
    "# relu(x) = max(0, x)\n",
    "\n",
    "# y = kx + c\n",
    "\n",
    "# X, y\n",
    "\n",
    "# y1 = 1\n",
    "# X1 -> nn -> y_pred = 1\n",
    "0, 0\n",
    "0, 1\n",
    "1, 0\n",
    "\n",
    "# f(g(x))"
   ]
  },
  {
   "cell_type": "code",
   "execution_count": 33,
   "metadata": {},
   "outputs": [],
   "source": [
    "from sklearn import datasets"
   ]
  },
  {
   "cell_type": "code",
   "execution_count": 34,
   "metadata": {},
   "outputs": [],
   "source": [
    "data = datasets.load_breast_cancer()"
   ]
  },
  {
   "cell_type": "code",
   "execution_count": 35,
   "metadata": {},
   "outputs": [
    {
     "data": {
      "text/plain": [
       "sklearn.utils.Bunch"
      ]
     },
     "execution_count": 35,
     "metadata": {},
     "output_type": "execute_result"
    }
   ],
   "source": [
    "type(data)"
   ]
  },
  {
   "cell_type": "code",
   "execution_count": 36,
   "metadata": {},
   "outputs": [
    {
     "data": {
      "text/plain": [
       "array(['mean radius', 'mean texture', 'mean perimeter', 'mean area',\n",
       "       'mean smoothness', 'mean compactness', 'mean concavity',\n",
       "       'mean concave points', 'mean symmetry', 'mean fractal dimension',\n",
       "       'radius error', 'texture error', 'perimeter error', 'area error',\n",
       "       'smoothness error', 'compactness error', 'concavity error',\n",
       "       'concave points error', 'symmetry error',\n",
       "       'fractal dimension error', 'worst radius', 'worst texture',\n",
       "       'worst perimeter', 'worst area', 'worst smoothness',\n",
       "       'worst compactness', 'worst concavity', 'worst concave points',\n",
       "       'worst symmetry', 'worst fractal dimension'], dtype='<U23')"
      ]
     },
     "execution_count": 36,
     "metadata": {},
     "output_type": "execute_result"
    }
   ],
   "source": [
    "data.feature_names"
   ]
  },
  {
   "cell_type": "code",
   "execution_count": 37,
   "metadata": {},
   "outputs": [
    {
     "data": {
      "text/plain": [
       "array(['malignant', 'benign'], dtype='<U9')"
      ]
     },
     "execution_count": 37,
     "metadata": {},
     "output_type": "execute_result"
    }
   ],
   "source": [
    "data.target_names"
   ]
  },
  {
   "cell_type": "code",
   "execution_count": 38,
   "metadata": {},
   "outputs": [
    {
     "data": {
      "text/plain": [
       "(569, 30)"
      ]
     },
     "execution_count": 38,
     "metadata": {},
     "output_type": "execute_result"
    }
   ],
   "source": [
    "data.data.shape"
   ]
  },
  {
   "cell_type": "code",
   "execution_count": 39,
   "metadata": {},
   "outputs": [
    {
     "data": {
      "text/plain": [
       "(569,)"
      ]
     },
     "execution_count": 39,
     "metadata": {},
     "output_type": "execute_result"
    }
   ],
   "source": [
    "data.target.shape"
   ]
  },
  {
   "cell_type": "code",
   "execution_count": 40,
   "metadata": {},
   "outputs": [
    {
     "data": {
      "text/plain": [
       "array([0, 0, 0, 0, 0, 0, 0, 0, 0, 0, 0, 0, 0, 0, 0, 0, 0, 0, 0, 1, 1, 1,\n",
       "       0, 0, 0, 0, 0, 0, 0, 0, 0, 0, 0, 0, 0, 0, 0, 1, 0, 0, 0, 0, 0, 0,\n",
       "       0, 0, 1, 0, 1, 1, 1, 1, 1, 0, 0, 1, 0, 0, 1, 1, 1, 1, 0, 1, 0, 0,\n",
       "       1, 1, 1, 1, 0, 1, 0, 0, 1, 0, 1, 0, 0, 1, 1, 1, 0, 0, 1, 0, 0, 0,\n",
       "       1, 1, 1, 0, 1, 1, 0, 0, 1, 1, 1, 0, 0, 1, 1, 1, 1, 0, 1, 1, 0, 1,\n",
       "       1, 1, 1, 1, 1, 1, 1, 0, 0, 0, 1, 0, 0, 1, 1, 1, 0, 0, 1, 0, 1, 0,\n",
       "       0, 1, 0, 0, 1, 1, 0, 1, 1, 0, 1, 1, 1, 1, 0, 1, 1, 1, 1, 1, 1, 1,\n",
       "       1, 1, 0, 1, 1, 1, 1, 0, 0, 1, 0, 1, 1, 0, 0, 1, 1, 0, 0, 1, 1, 1,\n",
       "       1, 0, 1, 1, 0, 0, 0, 1, 0, 1, 0, 1, 1, 1, 0, 1, 1, 0, 0, 1, 0, 0,\n",
       "       0, 0, 1, 0, 0, 0, 1, 0, 1, 0, 1, 1, 0, 1, 0, 0, 0, 0, 1, 1, 0, 0,\n",
       "       1, 1, 1, 0, 1, 1, 1, 1, 1, 0, 0, 1, 1, 0, 1, 1, 0, 0, 1, 0, 1, 1,\n",
       "       1, 1, 0, 1, 1, 1, 1, 1, 0, 1, 0, 0, 0, 0, 0, 0, 0, 0, 0, 0, 0, 0,\n",
       "       0, 0, 1, 1, 1, 1, 1, 1, 0, 1, 0, 1, 1, 0, 1, 1, 0, 1, 0, 0, 1, 1,\n",
       "       1, 1, 1, 1, 1, 1, 1, 1, 1, 1, 1, 0, 1, 1, 0, 1, 0, 1, 1, 1, 1, 1,\n",
       "       1, 1, 1, 1, 1, 1, 1, 1, 1, 0, 1, 1, 1, 0, 1, 0, 1, 1, 1, 1, 0, 0,\n",
       "       0, 1, 1, 1, 1, 0, 1, 0, 1, 0, 1, 1, 1, 0, 1, 1, 1, 1, 1, 1, 1, 0,\n",
       "       0, 0, 1, 1, 1, 1, 1, 1, 1, 1, 1, 1, 1, 0, 0, 1, 0, 0, 0, 1, 0, 0,\n",
       "       1, 1, 1, 1, 1, 0, 1, 1, 1, 1, 1, 0, 1, 1, 1, 0, 1, 1, 0, 0, 1, 1,\n",
       "       1, 1, 1, 1, 0, 1, 1, 1, 1, 1, 1, 1, 0, 1, 1, 1, 1, 1, 0, 1, 1, 0,\n",
       "       1, 1, 1, 1, 1, 1, 1, 1, 1, 1, 1, 1, 0, 1, 0, 0, 1, 0, 1, 1, 1, 1,\n",
       "       1, 0, 1, 1, 0, 1, 0, 1, 1, 0, 1, 0, 1, 1, 1, 1, 1, 1, 1, 1, 0, 0,\n",
       "       1, 1, 1, 1, 1, 1, 0, 1, 1, 1, 1, 1, 1, 1, 1, 1, 1, 0, 1, 1, 1, 1,\n",
       "       1, 1, 1, 0, 1, 0, 1, 1, 0, 1, 1, 1, 1, 1, 0, 0, 1, 0, 1, 0, 1, 1,\n",
       "       1, 1, 1, 0, 1, 1, 0, 1, 0, 1, 0, 0, 1, 1, 1, 0, 1, 1, 1, 1, 1, 1,\n",
       "       1, 1, 1, 1, 1, 0, 1, 0, 0, 1, 1, 1, 1, 1, 1, 1, 1, 1, 1, 1, 1, 1,\n",
       "       1, 1, 1, 1, 1, 1, 1, 1, 1, 1, 1, 1, 0, 0, 0, 0, 0, 0, 1])"
      ]
     },
     "execution_count": 40,
     "metadata": {},
     "output_type": "execute_result"
    }
   ],
   "source": [
    "data.target"
   ]
  },
  {
   "cell_type": "code",
   "execution_count": 41,
   "metadata": {},
   "outputs": [],
   "source": [
    "X = data.data\n",
    "y = data.target"
   ]
  },
  {
   "cell_type": "code",
   "execution_count": 42,
   "metadata": {},
   "outputs": [],
   "source": [
    "from sklearn.model_selection import train_test_split"
   ]
  },
  {
   "cell_type": "code",
   "execution_count": 43,
   "metadata": {},
   "outputs": [],
   "source": [
    "X_train, X_test, y_train, y_test = train_test_split(X, y, test_size=0.33, random_state=7, stratify=y)"
   ]
  },
  {
   "cell_type": "code",
   "execution_count": 44,
   "metadata": {},
   "outputs": [
    {
     "data": {
      "text/plain": [
       "(381, 30)"
      ]
     },
     "execution_count": 44,
     "metadata": {},
     "output_type": "execute_result"
    }
   ],
   "source": [
    "X_train.shape"
   ]
  },
  {
   "cell_type": "code",
   "execution_count": 45,
   "metadata": {},
   "outputs": [
    {
     "data": {
      "text/plain": [
       "(188, 30)"
      ]
     },
     "execution_count": 45,
     "metadata": {},
     "output_type": "execute_result"
    }
   ],
   "source": [
    "X_test.shape"
   ]
  },
  {
   "cell_type": "code",
   "execution_count": 46,
   "metadata": {},
   "outputs": [
    {
     "data": {
      "text/plain": [
       "array([1.846e+01, 1.852e+01, 1.211e+02, 1.075e+03, 9.874e-02, 1.053e-01,\n",
       "       1.335e-01, 8.795e-02, 2.132e-01, 6.022e-02, 6.997e-01, 1.475e+00,\n",
       "       4.782e+00, 8.060e+01, 6.471e-03, 1.649e-02, 2.806e-02, 1.420e-02,\n",
       "       2.370e-02, 3.755e-03, 2.293e+01, 2.768e+01, 1.522e+02, 1.603e+03,\n",
       "       1.398e-01, 2.089e-01, 3.157e-01, 1.642e-01, 3.695e-01, 8.579e-02])"
      ]
     },
     "execution_count": 46,
     "metadata": {},
     "output_type": "execute_result"
    }
   ],
   "source": [
    "X_train[0]"
   ]
  },
  {
   "cell_type": "code",
   "execution_count": 47,
   "metadata": {},
   "outputs": [],
   "source": [
    "from sklearn.preprocessing import StandardScaler"
   ]
  },
  {
   "cell_type": "code",
   "execution_count": 48,
   "metadata": {},
   "outputs": [],
   "source": [
    "scaler = StandardScaler()\n",
    "scaler.fit(X_train)\n",
    "X_train = scaler.transform(X_train)\n",
    "# X_train[0]\n",
    "\n",
    "# 1\n",
    "# scaler2 = StandardScaler()\n",
    "# scaler2.fit(X_test)\n",
    "# X_test = scaler2.transform(X_test)\n",
    "# (x - m) / s\n",
    "\n",
    "# 2\n",
    "X_test = scaler.transform(X_test)\n",
    "# 0, 1"
   ]
  },
  {
   "cell_type": "code",
   "execution_count": 49,
   "metadata": {},
   "outputs": [
    {
     "data": {
      "text/plain": [
       "(30,)"
      ]
     },
     "execution_count": 49,
     "metadata": {},
     "output_type": "execute_result"
    }
   ],
   "source": [
    "X_train[0].shape"
   ]
  },
  {
   "cell_type": "code",
   "execution_count": 50,
   "metadata": {},
   "outputs": [],
   "source": [
    "from tensorflow import keras\n",
    "from keras.models import Sequential\n",
    "from keras.layers import Dense"
   ]
  },
  {
   "cell_type": "code",
   "execution_count": 51,
   "metadata": {},
   "outputs": [
    {
     "name": "stdout",
     "output_type": "stream",
     "text": [
      "Model: \"sequential_2\"\n",
      "_________________________________________________________________\n",
      "Layer (type)                 Output Shape              Param #   \n",
      "=================================================================\n",
      "dense_4 (Dense)              (None, 100)               3100      \n",
      "_________________________________________________________________\n",
      "dense_5 (Dense)              (None, 40)                4040      \n",
      "_________________________________________________________________\n",
      "dense_6 (Dense)              (None, 1)                 41        \n",
      "=================================================================\n",
      "Total params: 7,181\n",
      "Trainable params: 7,181\n",
      "Non-trainable params: 0\n",
      "_________________________________________________________________\n"
     ]
    }
   ],
   "source": [
    "model = Sequential()\n",
    "model.add(Dense(input_dim=X_train.shape[1], units=100, activation='relu'))\n",
    "model.add(Dense(units=40, activation='relu'))\n",
    "model.add(Dense(units=1, activation='sigmoid'))\n",
    "model.summary()"
   ]
  },
  {
   "cell_type": "code",
   "execution_count": 52,
   "metadata": {},
   "outputs": [],
   "source": [
    "model.compile(optimizer='adam', loss='binary_crossentropy', metrics=['accuracy'])"
   ]
  },
  {
   "cell_type": "code",
   "execution_count": 53,
   "metadata": {},
   "outputs": [
    {
     "data": {
      "text/plain": [
       "(381, 30)"
      ]
     },
     "execution_count": 53,
     "metadata": {},
     "output_type": "execute_result"
    }
   ],
   "source": [
    "X_train.shape"
   ]
  },
  {
   "cell_type": "code",
   "execution_count": 54,
   "metadata": {},
   "outputs": [
    {
     "name": "stdout",
     "output_type": "stream",
     "text": [
      "Train on 266 samples, validate on 115 samples\n",
      "Epoch 1/20\n",
      "266/266 [==============================] - 1s 5ms/step - loss: 0.5558 - accuracy: 0.8308 - val_loss: 0.4497 - val_accuracy: 0.9304\n",
      "Epoch 2/20\n",
      "266/266 [==============================] - 0s 482us/step - loss: 0.3841 - accuracy: 0.9474 - val_loss: 0.3249 - val_accuracy: 0.9565\n",
      "Epoch 3/20\n",
      "266/266 [==============================] - 0s 266us/step - loss: 0.2745 - accuracy: 0.9511 - val_loss: 0.2430 - val_accuracy: 0.9652\n",
      "Epoch 4/20\n",
      "266/266 [==============================] - 0s 304us/step - loss: 0.2078 - accuracy: 0.9586 - val_loss: 0.1927 - val_accuracy: 0.9565\n",
      "Epoch 5/20\n",
      "266/266 [==============================] - 0s 212us/step - loss: 0.1665 - accuracy: 0.9586 - val_loss: 0.1622 - val_accuracy: 0.9652\n",
      "Epoch 6/20\n",
      "266/266 [==============================] - 0s 304us/step - loss: 0.1401 - accuracy: 0.9586 - val_loss: 0.1427 - val_accuracy: 0.9652\n",
      "Epoch 7/20\n",
      "266/266 [==============================] - 0s 236us/step - loss: 0.1223 - accuracy: 0.9586 - val_loss: 0.1311 - val_accuracy: 0.9652\n",
      "Epoch 8/20\n",
      "266/266 [==============================] - 0s 204us/step - loss: 0.1095 - accuracy: 0.9586 - val_loss: 0.1247 - val_accuracy: 0.9652\n",
      "Epoch 9/20\n",
      "266/266 [==============================] - 0s 520us/step - loss: 0.0993 - accuracy: 0.9699 - val_loss: 0.1199 - val_accuracy: 0.9652\n",
      "Epoch 10/20\n",
      "266/266 [==============================] - 0s 308us/step - loss: 0.0910 - accuracy: 0.9699 - val_loss: 0.1159 - val_accuracy: 0.9652\n",
      "Epoch 11/20\n",
      "266/266 [==============================] - 0s 281us/step - loss: 0.0841 - accuracy: 0.9774 - val_loss: 0.1153 - val_accuracy: 0.9652\n",
      "Epoch 12/20\n",
      "266/266 [==============================] - 0s 309us/step - loss: 0.0790 - accuracy: 0.9774 - val_loss: 0.1147 - val_accuracy: 0.9652\n",
      "Epoch 13/20\n",
      "266/266 [==============================] - 0s 293us/step - loss: 0.0727 - accuracy: 0.9850 - val_loss: 0.1137 - val_accuracy: 0.9565\n",
      "Epoch 14/20\n",
      "266/266 [==============================] - 0s 306us/step - loss: 0.0684 - accuracy: 0.9850 - val_loss: 0.1138 - val_accuracy: 0.9652\n",
      "Epoch 15/20\n",
      "266/266 [==============================] - 0s 272us/step - loss: 0.0644 - accuracy: 0.9850 - val_loss: 0.1136 - val_accuracy: 0.9565\n",
      "Epoch 16/20\n",
      "266/266 [==============================] - 0s 218us/step - loss: 0.0614 - accuracy: 0.9850 - val_loss: 0.1154 - val_accuracy: 0.9565\n",
      "Epoch 17/20\n",
      "266/266 [==============================] - 0s 327us/step - loss: 0.0581 - accuracy: 0.9887 - val_loss: 0.1180 - val_accuracy: 0.9478\n",
      "Epoch 18/20\n",
      "266/266 [==============================] - 0s 295us/step - loss: 0.0557 - accuracy: 0.9887 - val_loss: 0.1195 - val_accuracy: 0.9565\n",
      "Epoch 19/20\n",
      "266/266 [==============================] - 0s 371us/step - loss: 0.0533 - accuracy: 0.9887 - val_loss: 0.1209 - val_accuracy: 0.9565\n",
      "Epoch 20/20\n",
      "266/266 [==============================] - 0s 208us/step - loss: 0.0513 - accuracy: 0.9887 - val_loss: 0.1223 - val_accuracy: 0.9565\n"
     ]
    }
   ],
   "source": [
    "history = model.fit(X_train, y_train, batch_size=64, epochs=20, verbose=1, validation_split=0.3)"
   ]
  },
  {
   "cell_type": "code",
   "execution_count": 55,
   "metadata": {},
   "outputs": [],
   "source": [
    "from matplotlib import pyplot as plt"
   ]
  },
  {
   "cell_type": "code",
   "execution_count": 56,
   "metadata": {},
   "outputs": [
    {
     "data": {
      "text/plain": [
       "[<matplotlib.lines.Line2D at 0x7fd4dc16e410>]"
      ]
     },
     "execution_count": 56,
     "metadata": {},
     "output_type": "execute_result"
    },
    {
     "data": {
      "image/png": "[encoded data removed]",
      "text/plain": [
       "<Figure size 432x288 with 1 Axes>"
      ]
     },
     "metadata": {
      "needs_background": "light"
     },
     "output_type": "display_data"
    }
   ],
   "source": [
    "epochs = history.epoch\n",
    "loss = history.history['loss']\n",
    "val_loss = history.history['val_loss']\n",
    "plt.plot(epochs, loss)\n",
    "plt.plot(epochs, val_loss)"
   ]
  },
  {
   "cell_type": "code",
   "execution_count": 57,
   "metadata": {},
   "outputs": [
    {
     "data": {
      "text/plain": [
       "[<matplotlib.lines.Line2D at 0x7fd4dc098750>]"
      ]
     },
     "execution_count": 57,
     "metadata": {},
     "output_type": "execute_result"
    },
    {
     "data": {
      "image/png": "[encoded data removed]",
      "text/plain": [
       "<Figure size 432x288 with 1 Axes>"
      ]
     },
     "metadata": {
      "needs_background": "light"
     },
     "output_type": "display_data"
    }
   ],
   "source": [
    "acc = history.history['accuracy']\n",
    "val_acc = history.history['val_accuracy']\n",
    "plt.plot(epochs, acc)\n",
    "plt.plot(epochs, val_acc)"
   ]
  },
  {
   "cell_type": "code",
   "execution_count": 58,
   "metadata": {},
   "outputs": [
    {
     "name": "stdout",
     "output_type": "stream",
     "text": [
      "188/188 [==============================] - 0s 133us/step\n"
     ]
    },
    {
     "data": {
      "text/plain": [
       "[0.049208994796301454, 0.978723406791687]"
      ]
     },
     "execution_count": 58,
     "metadata": {},
     "output_type": "execute_result"
    }
   ],
   "source": [
    "model.evaluate(X_test, y_test, batch_size=64)"
   ]
  },
  {
   "cell_type": "code",
   "execution_count": 59,
   "metadata": {},
   "outputs": [],
   "source": [
    "import numpy as np"
   ]
  },
  {
   "cell_type": "code",
   "execution_count": 62,
   "metadata": {},
   "outputs": [
    {
     "data": {
      "text/plain": [
       "1"
      ]
     },
     "execution_count": 62,
     "metadata": {},
     "output_type": "execute_result"
    }
   ],
   "source": [
    "x_new = np.random.random(X_train.shape[1]).reshape(1, -1)\n",
    "x_new = scaler.transform(x_new)\n",
    "\n",
    "y_sigmoid = model.predict(x_new)\n",
    "y_pred = 0 if y_sigmoid < 0.5 else 1\n",
    "y_pred"
   ]
  },
  {
   "cell_type": "code",
   "execution_count": 63,
   "metadata": {},
   "outputs": [],
   "source": [
    "from keras.datasets import boston_housing"
   ]
  },
  {
   "cell_type": "code",
   "execution_count": 64,
   "metadata": {},
   "outputs": [],
   "source": [
    "(X_train, y_train), (X_test, y_test) = boston_housing.load_data()"
   ]
  },
  {
   "cell_type": "code",
   "execution_count": 65,
   "metadata": {},
   "outputs": [
    {
     "data": {
      "text/plain": [
       "(404, 13)"
      ]
     },
     "execution_count": 65,
     "metadata": {},
     "output_type": "execute_result"
    }
   ],
   "source": [
    "X_train.shape"
   ]
  },
  {
   "cell_type": "code",
   "execution_count": 66,
   "metadata": {},
   "outputs": [
    {
     "data": {
      "text/plain": [
       "(102, 13)"
      ]
     },
     "execution_count": 66,
     "metadata": {},
     "output_type": "execute_result"
    }
   ],
   "source": [
    "X_test.shape"
   ]
  },
  {
   "cell_type": "code",
   "execution_count": 68,
   "metadata": {},
   "outputs": [
    {
     "data": {
      "text/plain": [
       "(404,)"
      ]
     },
     "execution_count": 68,
     "metadata": {},
     "output_type": "execute_result"
    }
   ],
   "source": [
    "y_train.shape"
   ]
  },
  {
   "cell_type": "code",
   "execution_count": 69,
   "metadata": {},
   "outputs": [
    {
     "data": {
      "text/plain": [
       "array([  1.23247,   0.     ,   8.14   ,   0.     ,   0.538  ,   6.142  ,\n",
       "        91.7    ,   3.9769 ,   4.     , 307.     ,  21.     , 396.9    ,\n",
       "        18.72   ])"
      ]
     },
     "execution_count": 69,
     "metadata": {},
     "output_type": "execute_result"
    }
   ],
   "source": [
    "X_train[0]"
   ]
  },
  {
   "cell_type": "code",
   "execution_count": 70,
   "metadata": {},
   "outputs": [],
   "source": [
    "scaler = StandardScaler()\n",
    "scaler.fit(X_train)\n",
    "X_train = scaler.transform(X_train)\n",
    "X_test = scaler.transform(X_test)"
   ]
  },
  {
   "cell_type": "code",
   "execution_count": 71,
   "metadata": {},
   "outputs": [
    {
     "data": {
      "text/plain": [
       "array([-0.27224633, -0.48361547, -0.43576161, -0.25683275, -0.1652266 ,\n",
       "       -0.1764426 ,  0.81306188,  0.1166983 , -0.62624905, -0.59517003,\n",
       "        1.14850044,  0.44807713,  0.8252202 ])"
      ]
     },
     "execution_count": 71,
     "metadata": {},
     "output_type": "execute_result"
    }
   ],
   "source": [
    "X_train[0]"
   ]
  },
  {
   "cell_type": "code",
   "execution_count": 72,
   "metadata": {},
   "outputs": [
    {
     "name": "stdout",
     "output_type": "stream",
     "text": [
      "Model: \"sequential_3\"\n",
      "_________________________________________________________________\n",
      "Layer (type)                 Output Shape              Param #   \n",
      "=================================================================\n",
      "dense_7 (Dense)              (None, 100)               1400      \n",
      "_________________________________________________________________\n",
      "dense_8 (Dense)              (None, 1)                 101       \n",
      "=================================================================\n",
      "Total params: 1,501\n",
      "Trainable params: 1,501\n",
      "Non-trainable params: 0\n",
      "_________________________________________________________________\n"
     ]
    }
   ],
   "source": [
    "model = Sequential()\n",
    "model.add(Dense(input_dim=X_train.shape[1], units=100, activation='relu'))\n",
    "model.add(Dense(units=1))\n",
    "model.summary()"
   ]
  },
  {
   "cell_type": "code",
   "execution_count": 73,
   "metadata": {},
   "outputs": [],
   "source": [
    "model.compile(optimizer='adam', loss='mse', metrics=['mae'])\n",
    "# y_true - R\n",
    "# y_pred - R\n",
    "# mean(y_true - y_pred)**2"
   ]
  },
  {
   "cell_type": "code",
   "execution_count": 74,
   "metadata": {},
   "outputs": [
    {
     "name": "stdout",
     "output_type": "stream",
     "text": [
      "Epoch 1/100\n",
      "404/404 [==============================] - 1s 2ms/step - loss: 581.4877 - mae: 22.3461\n",
      "Epoch 2/100\n",
      "404/404 [==============================] - 0s 320us/step - loss: 551.3232 - mae: 21.7245\n",
      "Epoch 3/100\n",
      "404/404 [==============================] - 0s 231us/step - loss: 521.1444 - mae: 21.0747\n",
      "Epoch 4/100\n",
      "404/404 [==============================] - 0s 285us/step - loss: 489.2020 - mae: 20.3717\n",
      "Epoch 5/100\n",
      "404/404 [==============================] - 0s 292us/step - loss: 455.2631 - mae: 19.5856\n",
      "Epoch 6/100\n",
      "404/404 [==============================] - 0s 265us/step - loss: 418.3175 - mae: 18.6991\n",
      "Epoch 7/100\n",
      "404/404 [==============================] - 0s 380us/step - loss: 380.2122 - mae: 17.7218\n",
      "Epoch 8/100\n",
      "404/404 [==============================] - 0s 319us/step - loss: 341.0695 - mae: 16.6514\n",
      "Epoch 9/100\n",
      "404/404 [==============================] - 0s 262us/step - loss: 302.5295 - mae: 15.5176\n",
      "Epoch 10/100\n",
      "404/404 [==============================] - 0s 386us/step - loss: 264.7585 - mae: 14.2932\n",
      "Epoch 11/100\n",
      "404/404 [==============================] - 0s 278us/step - loss: 230.7268 - mae: 13.0881\n",
      "Epoch 12/100\n",
      "404/404 [==============================] - 0s 321us/step - loss: 199.3459 - mae: 11.8938\n",
      "Epoch 13/100\n",
      "404/404 [==============================] - 0s 386us/step - loss: 173.1978 - mae: 10.8461\n",
      "Epoch 14/100\n",
      "404/404 [==============================] - 0s 282us/step - loss: 149.8476 - mae: 9.8882\n",
      "Epoch 15/100\n",
      "404/404 [==============================] - 0s 268us/step - loss: 131.3843 - mae: 9.1162\n",
      "Epoch 16/100\n",
      "404/404 [==============================] - 0s 358us/step - loss: 115.4026 - mae: 8.4312\n",
      "Epoch 17/100\n",
      "404/404 [==============================] - 0s 249us/step - loss: 102.3047 - mae: 7.8647\n",
      "Epoch 18/100\n",
      "404/404 [==============================] - 0s 275us/step - loss: 91.2884 - mae: 7.3490\n",
      "Epoch 19/100\n",
      "404/404 [==============================] - 0s 305us/step - loss: 81.6914 - mae: 6.8720\n",
      "Epoch 20/100\n",
      "404/404 [==============================] - 0s 409us/step - loss: 73.4883 - mae: 6.4442\n",
      "Epoch 21/100\n",
      "404/404 [==============================] - 0s 357us/step - loss: 66.2092 - mae: 6.0702\n",
      "Epoch 22/100\n",
      "404/404 [==============================] - 0s 335us/step - loss: 59.9559 - mae: 5.7279\n",
      "Epoch 23/100\n",
      "404/404 [==============================] - 0s 345us/step - loss: 54.5261 - mae: 5.4303\n",
      "Epoch 24/100\n",
      "404/404 [==============================] - 0s 300us/step - loss: 49.9195 - mae: 5.1612\n",
      "Epoch 25/100\n",
      "404/404 [==============================] - 0s 284us/step - loss: 45.9096 - mae: 4.9102\n",
      "Epoch 26/100\n",
      "404/404 [==============================] - 0s 260us/step - loss: 42.5705 - mae: 4.6799\n",
      "Epoch 27/100\n",
      "404/404 [==============================] - 0s 238us/step - loss: 39.6692 - mae: 4.4989\n",
      "Epoch 28/100\n",
      "404/404 [==============================] - 0s 288us/step - loss: 37.4621 - mae: 4.3461\n",
      "Epoch 29/100\n",
      "404/404 [==============================] - 0s 368us/step - loss: 35.5368 - mae: 4.2026\n",
      "Epoch 30/100\n",
      "404/404 [==============================] - 0s 292us/step - loss: 33.8858 - mae: 4.0733\n",
      "Epoch 31/100\n",
      "404/404 [==============================] - 0s 258us/step - loss: 32.5739 - mae: 3.9773\n",
      "Epoch 32/100\n",
      "404/404 [==============================] - 0s 346us/step - loss: 31.4866 - mae: 3.9003\n",
      "Epoch 33/100\n",
      "404/404 [==============================] - 0s 269us/step - loss: 30.5905 - mae: 3.8403\n",
      "Epoch 34/100\n",
      "404/404 [==============================] - 0s 281us/step - loss: 29.7528 - mae: 3.7935\n",
      "Epoch 35/100\n",
      "404/404 [==============================] - 0s 340us/step - loss: 29.0848 - mae: 3.7557\n",
      "Epoch 36/100\n",
      "404/404 [==============================] - 0s 256us/step - loss: 28.4906 - mae: 3.7187\n",
      "Epoch 37/100\n",
      "404/404 [==============================] - 0s 291us/step - loss: 27.8295 - mae: 3.6778\n",
      "Epoch 38/100\n",
      "404/404 [==============================] - 0s 261us/step - loss: 27.3419 - mae: 3.6446\n",
      "Epoch 39/100\n",
      "404/404 [==============================] - 0s 271us/step - loss: 26.8722 - mae: 3.6216\n",
      "Epoch 40/100\n",
      "404/404 [==============================] - 0s 251us/step - loss: 26.3936 - mae: 3.5969\n",
      "Epoch 41/100\n",
      "404/404 [==============================] - 0s 290us/step - loss: 25.9484 - mae: 3.5675\n",
      "Epoch 42/100\n",
      "404/404 [==============================] - 0s 427us/step - loss: 25.5191 - mae: 3.5380\n",
      "Epoch 43/100\n",
      "404/404 [==============================] - 0s 233us/step - loss: 25.1604 - mae: 3.5172\n",
      "Epoch 44/100\n",
      "404/404 [==============================] - 0s 312us/step - loss: 24.7034 - mae: 3.4915\n",
      "Epoch 45/100\n",
      "404/404 [==============================] - 0s 246us/step - loss: 24.3506 - mae: 3.4678\n",
      "Epoch 46/100\n",
      "404/404 [==============================] - 0s 294us/step - loss: 23.9675 - mae: 3.4436\n",
      "Epoch 47/100\n",
      "404/404 [==============================] - 0s 276us/step - loss: 23.6131 - mae: 3.4236\n",
      "Epoch 48/100\n",
      "404/404 [==============================] - 0s 376us/step - loss: 23.2662 - mae: 3.4047\n",
      "Epoch 49/100\n",
      "404/404 [==============================] - 0s 308us/step - loss: 22.9173 - mae: 3.3813\n",
      "Epoch 50/100\n",
      "404/404 [==============================] - 0s 344us/step - loss: 22.5488 - mae: 3.3547\n",
      "Epoch 51/100\n",
      "404/404 [==============================] - 0s 326us/step - loss: 22.2362 - mae: 3.3318\n",
      "Epoch 52/100\n",
      "404/404 [==============================] - 0s 356us/step - loss: 21.9119 - mae: 3.3111\n",
      "Epoch 53/100\n",
      "404/404 [==============================] - 0s 375us/step - loss: 21.5815 - mae: 3.2861\n",
      "Epoch 54/100\n",
      "404/404 [==============================] - 0s 309us/step - loss: 21.2671 - mae: 3.2599\n",
      "Epoch 55/100\n",
      "404/404 [==============================] - 0s 362us/step - loss: 20.9544 - mae: 3.2395\n",
      "Epoch 56/100\n",
      "404/404 [==============================] - 0s 308us/step - loss: 20.6233 - mae: 3.2157\n",
      "Epoch 57/100\n",
      "404/404 [==============================] - 0s 317us/step - loss: 20.3296 - mae: 3.1945\n",
      "Epoch 58/100\n",
      "404/404 [==============================] - 0s 296us/step - loss: 20.0463 - mae: 3.1733\n",
      "Epoch 59/100\n",
      "404/404 [==============================] - 0s 331us/step - loss: 19.7515 - mae: 3.1487\n",
      "Epoch 60/100\n",
      "404/404 [==============================] - 0s 330us/step - loss: 19.4745 - mae: 3.1263\n",
      "Epoch 61/100\n",
      "404/404 [==============================] - 0s 389us/step - loss: 19.2127 - mae: 3.1078\n",
      "Epoch 62/100\n",
      "404/404 [==============================] - 0s 279us/step - loss: 18.9572 - mae: 3.0890\n",
      "Epoch 63/100\n",
      "404/404 [==============================] - 0s 316us/step - loss: 18.6514 - mae: 3.0618\n",
      "Epoch 64/100\n",
      "404/404 [==============================] - 0s 340us/step - loss: 18.3795 - mae: 3.0353\n",
      "Epoch 65/100\n",
      "404/404 [==============================] - 0s 330us/step - loss: 18.1368 - mae: 3.0163\n",
      "Epoch 66/100\n",
      "404/404 [==============================] - 0s 254us/step - loss: 17.9071 - mae: 2.9980\n",
      "Epoch 67/100\n",
      "404/404 [==============================] - 0s 380us/step - loss: 17.6449 - mae: 2.9761\n",
      "Epoch 68/100\n",
      "404/404 [==============================] - 0s 333us/step - loss: 17.4080 - mae: 2.9577\n",
      "Epoch 69/100\n",
      "404/404 [==============================] - 0s 347us/step - loss: 17.2015 - mae: 2.9329\n",
      "Epoch 70/100\n",
      "404/404 [==============================] - 0s 356us/step - loss: 16.9778 - mae: 2.9168\n",
      "Epoch 71/100\n",
      "404/404 [==============================] - 0s 311us/step - loss: 16.6867 - mae: 2.8941\n",
      "Epoch 72/100\n",
      "404/404 [==============================] - 0s 285us/step - loss: 16.5046 - mae: 2.8748\n",
      "Epoch 73/100\n",
      "404/404 [==============================] - 0s 281us/step - loss: 16.2758 - mae: 2.8454\n",
      "Epoch 74/100\n",
      "404/404 [==============================] - 0s 184us/step - loss: 16.0822 - mae: 2.8355\n",
      "Epoch 75/100\n",
      "404/404 [==============================] - 0s 355us/step - loss: 15.8635 - mae: 2.8114\n",
      "Epoch 76/100\n",
      "404/404 [==============================] - 0s 333us/step - loss: 15.6151 - mae: 2.7886\n",
      "Epoch 77/100\n",
      "404/404 [==============================] - 0s 318us/step - loss: 15.4447 - mae: 2.7757\n",
      "Epoch 78/100\n",
      "404/404 [==============================] - 0s 293us/step - loss: 15.1787 - mae: 2.7509\n",
      "Epoch 79/100\n",
      "404/404 [==============================] - 0s 351us/step - loss: 15.0262 - mae: 2.7339\n",
      "Epoch 80/100\n",
      "404/404 [==============================] - 0s 353us/step - loss: 14.7673 - mae: 2.7105\n",
      "Epoch 81/100\n",
      "404/404 [==============================] - 0s 325us/step - loss: 14.6012 - mae: 2.6903\n",
      "Epoch 82/100\n"
     ]
    },
    {
     "name": "stdout",
     "output_type": "stream",
     "text": [
      "404/404 [==============================] - 0s 324us/step - loss: 14.4034 - mae: 2.6712\n",
      "Epoch 83/100\n",
      "404/404 [==============================] - 0s 347us/step - loss: 14.2177 - mae: 2.6498\n",
      "Epoch 84/100\n",
      "404/404 [==============================] - 0s 295us/step - loss: 14.0154 - mae: 2.6341\n",
      "Epoch 85/100\n",
      "404/404 [==============================] - 0s 271us/step - loss: 13.8642 - mae: 2.62220s - loss: 14.0093 - mae: 2.71\n",
      "Epoch 86/100\n",
      "404/404 [==============================] - 0s 280us/step - loss: 13.6906 - mae: 2.6066\n",
      "Epoch 87/100\n",
      "404/404 [==============================] - 0s 288us/step - loss: 13.5039 - mae: 2.5866\n",
      "Epoch 88/100\n",
      "404/404 [==============================] - 0s 217us/step - loss: 13.3291 - mae: 2.5645\n",
      "Epoch 89/100\n",
      "404/404 [==============================] - 0s 364us/step - loss: 13.1660 - mae: 2.5415\n",
      "Epoch 90/100\n",
      "404/404 [==============================] - 0s 247us/step - loss: 13.0092 - mae: 2.5223\n",
      "Epoch 91/100\n",
      "404/404 [==============================] - 0s 276us/step - loss: 12.8413 - mae: 2.5119\n",
      "Epoch 92/100\n",
      "404/404 [==============================] - 0s 373us/step - loss: 12.6907 - mae: 2.5012\n",
      "Epoch 93/100\n",
      "404/404 [==============================] - 0s 291us/step - loss: 12.5355 - mae: 2.4785\n",
      "Epoch 94/100\n",
      "404/404 [==============================] - 0s 381us/step - loss: 12.4397 - mae: 2.4722\n",
      "Epoch 95/100\n",
      "404/404 [==============================] - 0s 442us/step - loss: 12.2345 - mae: 2.4479\n",
      "Epoch 96/100\n",
      "404/404 [==============================] - 0s 406us/step - loss: 12.0946 - mae: 2.4308\n",
      "Epoch 97/100\n",
      "404/404 [==============================] - 0s 372us/step - loss: 11.9732 - mae: 2.4184\n",
      "Epoch 98/100\n",
      "404/404 [==============================] - 0s 326us/step - loss: 11.8652 - mae: 2.4053\n",
      "Epoch 99/100\n",
      "404/404 [==============================] - 0s 297us/step - loss: 11.7028 - mae: 2.3950\n",
      "Epoch 100/100\n",
      "404/404 [==============================] - 0s 360us/step - loss: 11.6060 - mae: 2.3945\n"
     ]
    }
   ],
   "source": [
    "history = model.fit(X_train, y_train, batch_size=32, epochs=100, verbose=1)"
   ]
  },
  {
   "cell_type": "code",
   "execution_count": 75,
   "metadata": {},
   "outputs": [
    {
     "data": {
      "text/plain": [
       "[<matplotlib.lines.Line2D at 0x7fd4d7371ed0>]"
      ]
     },
     "execution_count": 75,
     "metadata": {},
     "output_type": "execute_result"
    },
    {
     "data": {
      "image/png": "[encoded data removed]",
      "text/plain": [
       "<Figure size 432x288 with 1 Axes>"
      ]
     },
     "metadata": {
      "needs_background": "light"
     },
     "output_type": "display_data"
    }
   ],
   "source": [
    "plt.plot(history.epoch, history.history['loss'])"
   ]
  },
  {
   "cell_type": "code",
   "execution_count": 76,
   "metadata": {},
   "outputs": [
    {
     "data": {
      "text/plain": [
       "[<matplotlib.lines.Line2D at 0x7fd4d7060610>]"
      ]
     },
     "execution_count": 76,
     "metadata": {},
     "output_type": "execute_result"
    },
    {
     "data": {
      "image/png": "[encoded data removed]",
      "text/plain": [
       "<Figure size 432x288 with 1 Axes>"
      ]
     },
     "metadata": {
      "needs_background": "light"
     },
     "output_type": "display_data"
    }
   ],
   "source": [
    "plt.plot(history.epoch, history.history['mae'])"
   ]
  },
  {
   "cell_type": "code",
   "execution_count": 77,
   "metadata": {},
   "outputs": [
    {
     "name": "stdout",
     "output_type": "stream",
     "text": [
      "102/102 [==============================] - 0s 2ms/step\n"
     ]
    },
    {
     "data": {
      "text/plain": [
       "[21.61166546391506, 3.2556822299957275]"
      ]
     },
     "execution_count": 77,
     "metadata": {},
     "output_type": "execute_result"
    }
   ],
   "source": [
    "model.evaluate(X_test, y_test, batch_size=32)"
   ]
  },
  {
   "cell_type": "code",
   "execution_count": 79,
   "metadata": {},
   "outputs": [],
   "source": [
    "weights = model.weights"
   ]
  },
  {
   "cell_type": "code",
   "execution_count": 80,
   "metadata": {},
   "outputs": [
    {
     "name": "stdout",
     "output_type": "stream",
     "text": [
      "(13, 100)\n",
      "(100,)\n",
      "(100, 1)\n",
      "(1,)\n"
     ]
    }
   ],
   "source": [
    "for w in weights:\n",
    "    print(w.shape)"
   ]
  },
  {
   "cell_type": "code",
   "execution_count": 81,
   "metadata": {},
   "outputs": [],
   "source": [
    "model.save_weights('models/boston_housing_weights.hdf5')"
   ]
  },
  {
   "cell_type": "code",
   "execution_count": 82,
   "metadata": {},
   "outputs": [
    {
     "data": {
      "text/plain": [
       "{'name': 'sequential_3',\n",
       " 'layers': [{'class_name': 'Dense',\n",
       "   'config': {'name': 'dense_7',\n",
       "    'trainable': True,\n",
       "    'batch_input_shape': (None, 13),\n",
       "    'dtype': 'float32',\n",
       "    'units': 100,\n",
       "    'activation': 'relu',\n",
       "    'use_bias': True,\n",
       "    'kernel_initializer': {'class_name': 'VarianceScaling',\n",
       "     'config': {'scale': 1.0,\n",
       "      'mode': 'fan_avg',\n",
       "      'distribution': 'uniform',\n",
       "      'seed': None}},\n",
       "    'bias_initializer': {'class_name': 'Zeros', 'config': {}},\n",
       "    'kernel_regularizer': None,\n",
       "    'bias_regularizer': None,\n",
       "    'activity_regularizer': None,\n",
       "    'kernel_constraint': None,\n",
       "    'bias_constraint': None}},\n",
       "  {'class_name': 'Dense',\n",
       "   'config': {'name': 'dense_8',\n",
       "    'trainable': True,\n",
       "    'dtype': 'float32',\n",
       "    'units': 1,\n",
       "    'activation': 'linear',\n",
       "    'use_bias': True,\n",
       "    'kernel_initializer': {'class_name': 'VarianceScaling',\n",
       "     'config': {'scale': 1.0,\n",
       "      'mode': 'fan_avg',\n",
       "      'distribution': 'uniform',\n",
       "      'seed': None}},\n",
       "    'bias_initializer': {'class_name': 'Zeros', 'config': {}},\n",
       "    'kernel_regularizer': None,\n",
       "    'bias_regularizer': None,\n",
       "    'activity_regularizer': None,\n",
       "    'kernel_constraint': None,\n",
       "    'bias_constraint': None}}]}"
      ]
     },
     "execution_count": 82,
     "metadata": {},
     "output_type": "execute_result"
    }
   ],
   "source": [
    "model.get_config()"
   ]
  },
  {
   "cell_type": "code",
   "execution_count": 83,
   "metadata": {},
   "outputs": [],
   "source": [
    "model.save('models/boston_housing.hdf5')"
   ]
  },
  {
   "cell_type": "code",
   "execution_count": 84,
   "metadata": {},
   "outputs": [],
   "source": [
    "from keras.models import load_model"
   ]
  },
  {
   "cell_type": "code",
   "execution_count": 85,
   "metadata": {},
   "outputs": [],
   "source": [
    "old_model = load_model('models/boston_housing.hdf5')"
   ]
  },
  {
   "cell_type": "code",
   "execution_count": 86,
   "metadata": {},
   "outputs": [
    {
     "data": {
      "text/plain": [
       "array([[8.422813]], dtype=float32)"
      ]
     },
     "execution_count": 86,
     "metadata": {},
     "output_type": "execute_result"
    }
   ],
   "source": [
    "x_new = np.random.rand(X_train.shape[1])\n",
    "old_model.predict(x_new.reshape(1, -1))"
   ]
  },
  {
   "cell_type": "code",
   "execution_count": 87,
   "metadata": {},
   "outputs": [],
   "source": [
    "from keras.datasets import mnist"
   ]
  },
  {
   "cell_type": "code",
   "execution_count": 88,
   "metadata": {},
   "outputs": [],
   "source": [
    "(X_train, y_train), (X_test, y_test) = mnist.load_data()"
   ]
  },
  {
   "cell_type": "code",
   "execution_count": 89,
   "metadata": {},
   "outputs": [
    {
     "data": {
      "text/plain": [
       "(60000, 28, 28)"
      ]
     },
     "execution_count": 89,
     "metadata": {},
     "output_type": "execute_result"
    }
   ],
   "source": [
    "X_train.shape"
   ]
  },
  {
   "cell_type": "code",
   "execution_count": 90,
   "metadata": {},
   "outputs": [
    {
     "data": {
      "text/plain": [
       "(10000, 28, 28)"
      ]
     },
     "execution_count": 90,
     "metadata": {},
     "output_type": "execute_result"
    }
   ],
   "source": [
    "X_test.shape"
   ]
  },
  {
   "cell_type": "code",
   "execution_count": 91,
   "metadata": {},
   "outputs": [],
   "source": [
    "# rgb - 60000, 28, 28, 3"
   ]
  },
  {
   "cell_type": "code",
   "execution_count": 94,
   "metadata": {},
   "outputs": [
    {
     "data": {
      "text/plain": [
       "<matplotlib.image.AxesImage at 0x7fd4c6745490>"
      ]
     },
     "execution_count": 94,
     "metadata": {},
     "output_type": "execute_result"
    },
    {
     "data": {
      "image/png": "[encoded data removed]",
      "text/plain": [
       "<Figure size 432x288 with 1 Axes>"
      ]
     },
     "metadata": {
      "needs_background": "light"
     },
     "output_type": "display_data"
    }
   ],
   "source": [
    "plt.title(y_train[0])\n",
    "plt.imshow(X_train[0], cmap='gray')"
   ]
  },
  {
   "cell_type": "code",
   "execution_count": 95,
   "metadata": {},
   "outputs": [
    {
     "data": {
      "text/plain": [
       "28"
      ]
     },
     "execution_count": 95,
     "metadata": {},
     "output_type": "execute_result"
    }
   ],
   "source": [
    "img_size = X_train.shape[1]\n",
    "img_size"
   ]
  },
  {
   "cell_type": "code",
   "execution_count": 96,
   "metadata": {},
   "outputs": [
    {
     "data": {
      "text/plain": [
       "(60000, 28, 28)"
      ]
     },
     "execution_count": 96,
     "metadata": {},
     "output_type": "execute_result"
    }
   ],
   "source": [
    "X_train.shape"
   ]
  },
  {
   "cell_type": "code",
   "execution_count": 97,
   "metadata": {},
   "outputs": [
    {
     "data": {
      "text/plain": [
       "(60000, 784)"
      ]
     },
     "execution_count": 97,
     "metadata": {},
     "output_type": "execute_result"
    }
   ],
   "source": [
    "X_train = X_train.reshape(X_train.shape[0], img_size * img_size)\n",
    "X_train.shape"
   ]
  },
  {
   "cell_type": "code",
   "execution_count": 98,
   "metadata": {},
   "outputs": [],
   "source": [
    "X_test = X_test.reshape(X_test.shape[0], img_size * img_size)"
   ]
  },
  {
   "cell_type": "code",
   "execution_count": 99,
   "metadata": {},
   "outputs": [
    {
     "data": {
      "text/plain": [
       "(10000, 784)"
      ]
     },
     "execution_count": 99,
     "metadata": {},
     "output_type": "execute_result"
    }
   ],
   "source": [
    "X_test.shape"
   ]
  },
  {
   "cell_type": "code",
   "execution_count": 100,
   "metadata": {},
   "outputs": [
    {
     "data": {
      "text/plain": [
       "(60000,)"
      ]
     },
     "execution_count": 100,
     "metadata": {},
     "output_type": "execute_result"
    }
   ],
   "source": [
    "y_train.shape\n",
    "# 0 - 9"
   ]
  },
  {
   "cell_type": "code",
   "execution_count": 102,
   "metadata": {},
   "outputs": [
    {
     "data": {
      "text/plain": [
       "array([  0,   0,   0,   0,   0,   0,   0,   0,   0,   0,   0,   0,   0,\n",
       "         0,   0,   0,   0,   0,   0,   0,   0,   0,   0,   0,   0,   0,\n",
       "         0,   0,   0,   0,   0,   0,   0,   0,   0,   0,   0,   0,   0,\n",
       "         0,   0,   0,   0,   0,   0,   0,   0,   0,   0,   0,   0,   0,\n",
       "         0,   0,   0,   0,   0,   0,   0,   0,   0,   0,   0,   0,   0,\n",
       "         0,   0,   0,   0,   0,   0,   0,   0,   0,   0,   0,   0,   0,\n",
       "         0,   0,   0,   0,   0,   0,   0,   0,   0,   0,   0,   0,   0,\n",
       "         0,   0,   0,   0,   0,   0,   0,   0,   0,   0,   0,   0,   0,\n",
       "         0,   0,   0,   0,   0,   0,   0,   0,   0,   0,   0,   0,   0,\n",
       "         0,   0,   0,   0,   0,   0,   0,   0,   0,   0,   0,   0,   0,\n",
       "         0,   0,   0,   0,   0,   0,   0,   0,   0,   0,   0,   0,   0,\n",
       "         0,   0,   0,   0,   0,   0,   0,   0,   0,   3,  18,  18,  18,\n",
       "       126, 136, 175,  26, 166, 255, 247, 127,   0,   0,   0,   0,   0,\n",
       "         0,   0,   0,   0,   0,   0,   0,  30,  36,  94, 154, 170, 253,\n",
       "       253, 253, 253, 253, 225, 172, 253, 242, 195,  64,   0,   0,   0,\n",
       "         0,   0,   0,   0,   0,   0,   0,   0,  49, 238, 253, 253, 253,\n",
       "       253, 253, 253, 253, 253, 251,  93,  82,  82,  56,  39,   0,   0,\n",
       "         0,   0,   0,   0,   0,   0,   0,   0,   0,   0,  18, 219, 253,\n",
       "       253, 253, 253, 253, 198, 182, 247, 241,   0,   0,   0,   0,   0,\n",
       "         0,   0,   0,   0,   0,   0,   0,   0,   0,   0,   0,   0,   0,\n",
       "        80, 156, 107, 253, 253, 205,  11,   0,  43, 154,   0,   0,   0,\n",
       "         0,   0,   0,   0,   0,   0,   0,   0,   0,   0,   0,   0,   0,\n",
       "         0,   0,   0,  14,   1, 154, 253,  90,   0,   0,   0,   0,   0,\n",
       "         0,   0,   0,   0,   0,   0,   0,   0,   0,   0,   0,   0,   0,\n",
       "         0,   0,   0,   0,   0,   0,   0, 139, 253, 190,   2,   0,   0,\n",
       "         0,   0,   0,   0,   0,   0,   0,   0,   0,   0,   0,   0,   0,\n",
       "         0,   0,   0,   0,   0,   0,   0,   0,   0,  11, 190, 253,  70,\n",
       "         0,   0,   0,   0,   0,   0,   0,   0,   0,   0,   0,   0,   0,\n",
       "         0,   0,   0,   0,   0,   0,   0,   0,   0,   0,   0,   0,  35,\n",
       "       241, 225, 160, 108,   1,   0,   0,   0,   0,   0,   0,   0,   0,\n",
       "         0,   0,   0,   0,   0,   0,   0,   0,   0,   0,   0,   0,   0,\n",
       "         0,   0,  81, 240, 253, 253, 119,  25,   0,   0,   0,   0,   0,\n",
       "         0,   0,   0,   0,   0,   0,   0,   0,   0,   0,   0,   0,   0,\n",
       "         0,   0,   0,   0,   0,  45, 186, 253, 253, 150,  27,   0,   0,\n",
       "         0,   0,   0,   0,   0,   0,   0,   0,   0,   0,   0,   0,   0,\n",
       "         0,   0,   0,   0,   0,   0,   0,   0,  16,  93, 252, 253, 187,\n",
       "         0,   0,   0,   0,   0,   0,   0,   0,   0,   0,   0,   0,   0,\n",
       "         0,   0,   0,   0,   0,   0,   0,   0,   0,   0,   0,   0, 249,\n",
       "       253, 249,  64,   0,   0,   0,   0,   0,   0,   0,   0,   0,   0,\n",
       "         0,   0,   0,   0,   0,   0,   0,   0,   0,   0,   0,  46, 130,\n",
       "       183, 253, 253, 207,   2,   0,   0,   0,   0,   0,   0,   0,   0,\n",
       "         0,   0,   0,   0,   0,   0,   0,   0,   0,   0,   0,  39, 148,\n",
       "       229, 253, 253, 253, 250, 182,   0,   0,   0,   0,   0,   0,   0,\n",
       "         0,   0,   0,   0,   0,   0,   0,   0,   0,   0,   0,  24, 114,\n",
       "       221, 253, 253, 253, 253, 201,  78,   0,   0,   0,   0,   0,   0,\n",
       "         0,   0,   0,   0,   0,   0,   0,   0,   0,   0,   0,  23,  66,\n",
       "       213, 253, 253, 253, 253, 198,  81,   2,   0,   0,   0,   0,   0,\n",
       "         0,   0,   0,   0,   0,   0,   0,   0,   0,   0,   0,  18, 171,\n",
       "       219, 253, 253, 253, 253, 195,  80,   9,   0,   0,   0,   0,   0,\n",
       "         0,   0,   0,   0,   0,   0,   0,   0,   0,   0,   0,  55, 172,\n",
       "       226, 253, 253, 253, 253, 244, 133,  11,   0,   0,   0,   0,   0,\n",
       "         0,   0,   0,   0,   0,   0,   0,   0,   0,   0,   0,   0,   0,\n",
       "       136, 253, 253, 253, 212, 135, 132,  16,   0,   0,   0,   0,   0,\n",
       "         0,   0,   0,   0,   0,   0,   0,   0,   0,   0,   0,   0,   0,\n",
       "         0,   0,   0,   0,   0,   0,   0,   0,   0,   0,   0,   0,   0,\n",
       "         0,   0,   0,   0,   0,   0,   0,   0,   0,   0,   0,   0,   0,\n",
       "         0,   0,   0,   0,   0,   0,   0,   0,   0,   0,   0,   0,   0,\n",
       "         0,   0,   0,   0,   0,   0,   0,   0,   0,   0,   0,   0,   0,\n",
       "         0,   0,   0,   0,   0,   0,   0,   0,   0,   0,   0,   0,   0,\n",
       "         0,   0,   0,   0,   0,   0,   0,   0,   0,   0,   0,   0,   0,\n",
       "         0,   0,   0,   0], dtype=uint8)"
      ]
     },
     "execution_count": 102,
     "metadata": {},
     "output_type": "execute_result"
    }
   ],
   "source": [
    "X_train[0]"
   ]
  },
  {
   "cell_type": "code",
   "execution_count": 103,
   "metadata": {},
   "outputs": [],
   "source": [
    "# 0 - 255 -> 0 - 1\n",
    "X_train = X_train.astype('float')\n",
    "X_train /= 255"
   ]
  },
  {
   "cell_type": "code",
   "execution_count": 104,
   "metadata": {},
   "outputs": [
    {
     "data": {
      "text/plain": [
       "array([0.        , 0.        , 0.        , 0.        , 0.        ,\n",
       "       0.        , 0.        , 0.        , 0.        , 0.        ,\n",
       "       0.        , 0.        , 0.        , 0.        , 0.        ,\n",
       "       0.        , 0.        , 0.        , 0.        , 0.        ,\n",
       "       0.        , 0.        , 0.        , 0.        , 0.        ,\n",
       "       0.        , 0.        , 0.        , 0.        , 0.        ,\n",
       "       0.        , 0.        , 0.        , 0.        , 0.        ,\n",
       "       0.        , 0.        , 0.        , 0.        , 0.        ,\n",
       "       0.        , 0.        , 0.        , 0.        , 0.        ,\n",
       "       0.        , 0.        , 0.        , 0.        , 0.        ,\n",
       "       0.        , 0.        , 0.        , 0.        , 0.        ,\n",
       "       0.        , 0.        , 0.        , 0.        , 0.        ,\n",
       "       0.        , 0.        , 0.        , 0.        , 0.        ,\n",
       "       0.        , 0.        , 0.        , 0.        , 0.        ,\n",
       "       0.        , 0.        , 0.        , 0.        , 0.        ,\n",
       "       0.        , 0.        , 0.        , 0.        , 0.        ,\n",
       "       0.        , 0.        , 0.        , 0.        , 0.        ,\n",
       "       0.        , 0.        , 0.        , 0.        , 0.        ,\n",
       "       0.        , 0.        , 0.        , 0.        , 0.        ,\n",
       "       0.        , 0.        , 0.        , 0.        , 0.        ,\n",
       "       0.        , 0.        , 0.        , 0.        , 0.        ,\n",
       "       0.        , 0.        , 0.        , 0.        , 0.        ,\n",
       "       0.        , 0.        , 0.        , 0.        , 0.        ,\n",
       "       0.        , 0.        , 0.        , 0.        , 0.        ,\n",
       "       0.        , 0.        , 0.        , 0.        , 0.        ,\n",
       "       0.        , 0.        , 0.        , 0.        , 0.        ,\n",
       "       0.        , 0.        , 0.        , 0.        , 0.        ,\n",
       "       0.        , 0.        , 0.        , 0.        , 0.        ,\n",
       "       0.        , 0.        , 0.        , 0.        , 0.        ,\n",
       "       0.        , 0.        , 0.        , 0.        , 0.        ,\n",
       "       0.        , 0.        , 0.01176471, 0.07058824, 0.07058824,\n",
       "       0.07058824, 0.49411765, 0.53333333, 0.68627451, 0.10196078,\n",
       "       0.65098039, 1.        , 0.96862745, 0.49803922, 0.        ,\n",
       "       0.        , 0.        , 0.        , 0.        , 0.        ,\n",
       "       0.        , 0.        , 0.        , 0.        , 0.        ,\n",
       "       0.        , 0.11764706, 0.14117647, 0.36862745, 0.60392157,\n",
       "       0.66666667, 0.99215686, 0.99215686, 0.99215686, 0.99215686,\n",
       "       0.99215686, 0.88235294, 0.6745098 , 0.99215686, 0.94901961,\n",
       "       0.76470588, 0.25098039, 0.        , 0.        , 0.        ,\n",
       "       0.        , 0.        , 0.        , 0.        , 0.        ,\n",
       "       0.        , 0.        , 0.        , 0.19215686, 0.93333333,\n",
       "       0.99215686, 0.99215686, 0.99215686, 0.99215686, 0.99215686,\n",
       "       0.99215686, 0.99215686, 0.99215686, 0.98431373, 0.36470588,\n",
       "       0.32156863, 0.32156863, 0.21960784, 0.15294118, 0.        ,\n",
       "       0.        , 0.        , 0.        , 0.        , 0.        ,\n",
       "       0.        , 0.        , 0.        , 0.        , 0.        ,\n",
       "       0.        , 0.07058824, 0.85882353, 0.99215686, 0.99215686,\n",
       "       0.99215686, 0.99215686, 0.99215686, 0.77647059, 0.71372549,\n",
       "       0.96862745, 0.94509804, 0.        , 0.        , 0.        ,\n",
       "       0.        , 0.        , 0.        , 0.        , 0.        ,\n",
       "       0.        , 0.        , 0.        , 0.        , 0.        ,\n",
       "       0.        , 0.        , 0.        , 0.        , 0.        ,\n",
       "       0.31372549, 0.61176471, 0.41960784, 0.99215686, 0.99215686,\n",
       "       0.80392157, 0.04313725, 0.        , 0.16862745, 0.60392157,\n",
       "       0.        , 0.        , 0.        , 0.        , 0.        ,\n",
       "       0.        , 0.        , 0.        , 0.        , 0.        ,\n",
       "       0.        , 0.        , 0.        , 0.        , 0.        ,\n",
       "       0.        , 0.        , 0.        , 0.        , 0.05490196,\n",
       "       0.00392157, 0.60392157, 0.99215686, 0.35294118, 0.        ,\n",
       "       0.        , 0.        , 0.        , 0.        , 0.        ,\n",
       "       0.        , 0.        , 0.        , 0.        , 0.        ,\n",
       "       0.        , 0.        , 0.        , 0.        , 0.        ,\n",
       "       0.        , 0.        , 0.        , 0.        , 0.        ,\n",
       "       0.        , 0.        , 0.        , 0.        , 0.54509804,\n",
       "       0.99215686, 0.74509804, 0.00784314, 0.        , 0.        ,\n",
       "       0.        , 0.        , 0.        , 0.        , 0.        ,\n",
       "       0.        , 0.        , 0.        , 0.        , 0.        ,\n",
       "       0.        , 0.        , 0.        , 0.        , 0.        ,\n",
       "       0.        , 0.        , 0.        , 0.        , 0.        ,\n",
       "       0.        , 0.        , 0.04313725, 0.74509804, 0.99215686,\n",
       "       0.2745098 , 0.        , 0.        , 0.        , 0.        ,\n",
       "       0.        , 0.        , 0.        , 0.        , 0.        ,\n",
       "       0.        , 0.        , 0.        , 0.        , 0.        ,\n",
       "       0.        , 0.        , 0.        , 0.        , 0.        ,\n",
       "       0.        , 0.        , 0.        , 0.        , 0.        ,\n",
       "       0.        , 0.1372549 , 0.94509804, 0.88235294, 0.62745098,\n",
       "       0.42352941, 0.00392157, 0.        , 0.        , 0.        ,\n",
       "       0.        , 0.        , 0.        , 0.        , 0.        ,\n",
       "       0.        , 0.        , 0.        , 0.        , 0.        ,\n",
       "       0.        , 0.        , 0.        , 0.        , 0.        ,\n",
       "       0.        , 0.        , 0.        , 0.        , 0.        ,\n",
       "       0.31764706, 0.94117647, 0.99215686, 0.99215686, 0.46666667,\n",
       "       0.09803922, 0.        , 0.        , 0.        , 0.        ,\n",
       "       0.        , 0.        , 0.        , 0.        , 0.        ,\n",
       "       0.        , 0.        , 0.        , 0.        , 0.        ,\n",
       "       0.        , 0.        , 0.        , 0.        , 0.        ,\n",
       "       0.        , 0.        , 0.        , 0.        , 0.17647059,\n",
       "       0.72941176, 0.99215686, 0.99215686, 0.58823529, 0.10588235,\n",
       "       0.        , 0.        , 0.        , 0.        , 0.        ,\n",
       "       0.        , 0.        , 0.        , 0.        , 0.        ,\n",
       "       0.        , 0.        , 0.        , 0.        , 0.        ,\n",
       "       0.        , 0.        , 0.        , 0.        , 0.        ,\n",
       "       0.        , 0.        , 0.        , 0.0627451 , 0.36470588,\n",
       "       0.98823529, 0.99215686, 0.73333333, 0.        , 0.        ,\n",
       "       0.        , 0.        , 0.        , 0.        , 0.        ,\n",
       "       0.        , 0.        , 0.        , 0.        , 0.        ,\n",
       "       0.        , 0.        , 0.        , 0.        , 0.        ,\n",
       "       0.        , 0.        , 0.        , 0.        , 0.        ,\n",
       "       0.        , 0.        , 0.        , 0.97647059, 0.99215686,\n",
       "       0.97647059, 0.25098039, 0.        , 0.        , 0.        ,\n",
       "       0.        , 0.        , 0.        , 0.        , 0.        ,\n",
       "       0.        , 0.        , 0.        , 0.        , 0.        ,\n",
       "       0.        , 0.        , 0.        , 0.        , 0.        ,\n",
       "       0.        , 0.        , 0.        , 0.18039216, 0.50980392,\n",
       "       0.71764706, 0.99215686, 0.99215686, 0.81176471, 0.00784314,\n",
       "       0.        , 0.        , 0.        , 0.        , 0.        ,\n",
       "       0.        , 0.        , 0.        , 0.        , 0.        ,\n",
       "       0.        , 0.        , 0.        , 0.        , 0.        ,\n",
       "       0.        , 0.        , 0.        , 0.        , 0.15294118,\n",
       "       0.58039216, 0.89803922, 0.99215686, 0.99215686, 0.99215686,\n",
       "       0.98039216, 0.71372549, 0.        , 0.        , 0.        ,\n",
       "       0.        , 0.        , 0.        , 0.        , 0.        ,\n",
       "       0.        , 0.        , 0.        , 0.        , 0.        ,\n",
       "       0.        , 0.        , 0.        , 0.        , 0.        ,\n",
       "       0.09411765, 0.44705882, 0.86666667, 0.99215686, 0.99215686,\n",
       "       0.99215686, 0.99215686, 0.78823529, 0.30588235, 0.        ,\n",
       "       0.        , 0.        , 0.        , 0.        , 0.        ,\n",
       "       0.        , 0.        , 0.        , 0.        , 0.        ,\n",
       "       0.        , 0.        , 0.        , 0.        , 0.        ,\n",
       "       0.        , 0.09019608, 0.25882353, 0.83529412, 0.99215686,\n",
       "       0.99215686, 0.99215686, 0.99215686, 0.77647059, 0.31764706,\n",
       "       0.00784314, 0.        , 0.        , 0.        , 0.        ,\n",
       "       0.        , 0.        , 0.        , 0.        , 0.        ,\n",
       "       0.        , 0.        , 0.        , 0.        , 0.        ,\n",
       "       0.        , 0.        , 0.07058824, 0.67058824, 0.85882353,\n",
       "       0.99215686, 0.99215686, 0.99215686, 0.99215686, 0.76470588,\n",
       "       0.31372549, 0.03529412, 0.        , 0.        , 0.        ,\n",
       "       0.        , 0.        , 0.        , 0.        , 0.        ,\n",
       "       0.        , 0.        , 0.        , 0.        , 0.        ,\n",
       "       0.        , 0.        , 0.        , 0.21568627, 0.6745098 ,\n",
       "       0.88627451, 0.99215686, 0.99215686, 0.99215686, 0.99215686,\n",
       "       0.95686275, 0.52156863, 0.04313725, 0.        , 0.        ,\n",
       "       0.        , 0.        , 0.        , 0.        , 0.        ,\n",
       "       0.        , 0.        , 0.        , 0.        , 0.        ,\n",
       "       0.        , 0.        , 0.        , 0.        , 0.        ,\n",
       "       0.        , 0.53333333, 0.99215686, 0.99215686, 0.99215686,\n",
       "       0.83137255, 0.52941176, 0.51764706, 0.0627451 , 0.        ,\n",
       "       0.        , 0.        , 0.        , 0.        , 0.        ,\n",
       "       0.        , 0.        , 0.        , 0.        , 0.        ,\n",
       "       0.        , 0.        , 0.        , 0.        , 0.        ,\n",
       "       0.        , 0.        , 0.        , 0.        , 0.        ,\n",
       "       0.        , 0.        , 0.        , 0.        , 0.        ,\n",
       "       0.        , 0.        , 0.        , 0.        , 0.        ,\n",
       "       0.        , 0.        , 0.        , 0.        , 0.        ,\n",
       "       0.        , 0.        , 0.        , 0.        , 0.        ,\n",
       "       0.        , 0.        , 0.        , 0.        , 0.        ,\n",
       "       0.        , 0.        , 0.        , 0.        , 0.        ,\n",
       "       0.        , 0.        , 0.        , 0.        , 0.        ,\n",
       "       0.        , 0.        , 0.        , 0.        , 0.        ,\n",
       "       0.        , 0.        , 0.        , 0.        , 0.        ,\n",
       "       0.        , 0.        , 0.        , 0.        , 0.        ,\n",
       "       0.        , 0.        , 0.        , 0.        , 0.        ,\n",
       "       0.        , 0.        , 0.        , 0.        , 0.        ,\n",
       "       0.        , 0.        , 0.        , 0.        , 0.        ,\n",
       "       0.        , 0.        , 0.        , 0.        , 0.        ,\n",
       "       0.        , 0.        , 0.        , 0.        , 0.        ,\n",
       "       0.        , 0.        , 0.        , 0.        ])"
      ]
     },
     "execution_count": 104,
     "metadata": {},
     "output_type": "execute_result"
    }
   ],
   "source": [
    "X_train[0]"
   ]
  },
  {
   "cell_type": "code",
   "execution_count": 105,
   "metadata": {},
   "outputs": [],
   "source": [
    "X_test = X_test.astype('float')\n",
    "X_test /= 255"
   ]
  },
  {
   "cell_type": "code",
   "execution_count": 106,
   "metadata": {},
   "outputs": [
    {
     "data": {
      "text/plain": [
       "array([5, 0, 4, ..., 5, 6, 8], dtype=uint8)"
      ]
     },
     "execution_count": 106,
     "metadata": {},
     "output_type": "execute_result"
    }
   ],
   "source": [
    "y_train"
   ]
  },
  {
   "cell_type": "code",
   "execution_count": 107,
   "metadata": {},
   "outputs": [],
   "source": [
    "# 5 -> 0 0 0 0 0 1 0 0 0 0\n",
    "# 0 -> 1 0 0 00 0 0 0 00 0 "
   ]
  },
  {
   "cell_type": "code",
   "execution_count": 108,
   "metadata": {},
   "outputs": [],
   "source": [
    "from keras.utils import to_categorical"
   ]
  },
  {
   "cell_type": "code",
   "execution_count": 109,
   "metadata": {},
   "outputs": [],
   "source": [
    "y_train = to_categorical(y_train, num_classes=10)\n",
    "y_test = to_categorical(y_test, num_classes=10)"
   ]
  },
  {
   "cell_type": "code",
   "execution_count": 110,
   "metadata": {},
   "outputs": [
    {
     "data": {
      "text/plain": [
       "array([0., 0., 0., 0., 0., 1., 0., 0., 0., 0.], dtype=float32)"
      ]
     },
     "execution_count": 110,
     "metadata": {},
     "output_type": "execute_result"
    }
   ],
   "source": [
    "y_train[0]"
   ]
  },
  {
   "cell_type": "code",
   "execution_count": 111,
   "metadata": {},
   "outputs": [
    {
     "name": "stdout",
     "output_type": "stream",
     "text": [
      "Model: \"sequential_4\"\n",
      "_________________________________________________________________\n",
      "Layer (type)                 Output Shape              Param #   \n",
      "=================================================================\n",
      "dense_9 (Dense)              (None, 128)               100480    \n",
      "_________________________________________________________________\n",
      "dense_10 (Dense)             (None, 64)                8256      \n",
      "_________________________________________________________________\n",
      "dense_11 (Dense)             (None, 10)                650       \n",
      "=================================================================\n",
      "Total params: 109,386\n",
      "Trainable params: 109,386\n",
      "Non-trainable params: 0\n",
      "_________________________________________________________________\n"
     ]
    }
   ],
   "source": [
    "model = Sequential()\n",
    "model.add(Dense(input_dim=X_train.shape[1], units=128, activation='relu'))\n",
    "model.add(Dense(units=64, activation='relu'))\n",
    "model.add(Dense(units=10, activation='softmax'))\n",
    "model.summary()"
   ]
  },
  {
   "cell_type": "code",
   "execution_count": 112,
   "metadata": {},
   "outputs": [],
   "source": [
    "model.compile(optimizer='adam', loss='categorical_crossentropy', metrics=['accuracy'])"
   ]
  },
  {
   "cell_type": "code",
   "execution_count": 113,
   "metadata": {},
   "outputs": [
    {
     "name": "stdout",
     "output_type": "stream",
     "text": [
      "Epoch 1/30\n",
      "60000/60000 [==============================] - 12s 200us/step - loss: 0.3252 - accuracy: 0.9082\n",
      "Epoch 2/30\n",
      "60000/60000 [==============================] - 11s 185us/step - loss: 0.1334 - accuracy: 0.9606\n",
      "Epoch 3/30\n",
      "60000/60000 [==============================] - 11s 186us/step - loss: 0.0935 - accuracy: 0.9721\n",
      "Epoch 4/30\n",
      "60000/60000 [==============================] - 11s 184us/step - loss: 0.0711 - accuracy: 0.9782\n",
      "Epoch 5/30\n",
      "60000/60000 [==============================] - 11s 184us/step - loss: 0.0562 - accuracy: 0.9830\n",
      "Epoch 6/30\n",
      "60000/60000 [==============================] - 12s 197us/step - loss: 0.0457 - accuracy: 0.9858\n",
      "Epoch 7/30\n",
      "60000/60000 [==============================] - 11s 185us/step - loss: 0.0371 - accuracy: 0.9884\n",
      "Epoch 8/30\n",
      "60000/60000 [==============================] - 11s 189us/step - loss: 0.0299 - accuracy: 0.9907\n",
      "Epoch 9/30\n",
      "60000/60000 [==============================] - 11s 181us/step - loss: 0.0241 - accuracy: 0.9930\n",
      "Epoch 10/30\n",
      "60000/60000 [==============================] - 11s 189us/step - loss: 0.0211 - accuracy: 0.9936\n",
      "Epoch 11/30\n",
      "60000/60000 [==============================] - 11s 189us/step - loss: 0.0174 - accuracy: 0.9948\n",
      "Epoch 12/30\n",
      "60000/60000 [==============================] - 11s 183us/step - loss: 0.0166 - accuracy: 0.9949\n",
      "Epoch 13/30\n",
      "60000/60000 [==============================] - 11s 190us/step - loss: 0.0130 - accuracy: 0.9959\n",
      "Epoch 14/30\n",
      "60000/60000 [==============================] - 12s 192us/step - loss: 0.0121 - accuracy: 0.9963\n",
      "Epoch 15/30\n",
      "60000/60000 [==============================] - 12s 194us/step - loss: 0.0085 - accuracy: 0.9974\n",
      "Epoch 16/30\n",
      "60000/60000 [==============================] - 12s 195us/step - loss: 0.0109 - accuracy: 0.9966\n",
      "Epoch 17/30\n",
      "60000/60000 [==============================] - 11s 187us/step - loss: 0.0112 - accuracy: 0.9964\n",
      "Epoch 18/30\n",
      "60000/60000 [==============================] - 11s 190us/step - loss: 0.0073 - accuracy: 0.9978\n",
      "Epoch 19/30\n",
      "60000/60000 [==============================] - 11s 187us/step - loss: 0.0093 - accuracy: 0.9967\n",
      "Epoch 20/30\n",
      "60000/60000 [==============================] - 11s 189us/step - loss: 0.0091 - accuracy: 0.9969\n",
      "Epoch 21/30\n",
      "60000/60000 [==============================] - 12s 194us/step - loss: 0.0054 - accuracy: 0.9983\n",
      "Epoch 22/30\n",
      "60000/60000 [==============================] - 11s 184us/step - loss: 0.0077 - accuracy: 0.9973\n",
      "Epoch 23/30\n",
      "60000/60000 [==============================] - 11s 190us/step - loss: 0.0053 - accuracy: 0.9984\n",
      "Epoch 24/30\n",
      "60000/60000 [==============================] - 11s 186us/step - loss: 0.0045 - accuracy: 0.9987\n",
      "Epoch 25/30\n",
      "60000/60000 [==============================] - 11s 182us/step - loss: 0.0104 - accuracy: 0.9964\n",
      "Epoch 26/30\n",
      "60000/60000 [==============================] - 12s 192us/step - loss: 0.0054 - accuracy: 0.9983\n",
      "Epoch 27/30\n",
      "60000/60000 [==============================] - 11s 191us/step - loss: 0.0074 - accuracy: 0.9976\n",
      "Epoch 28/30\n",
      "60000/60000 [==============================] - 11s 187us/step - loss: 0.0046 - accuracy: 0.9986\n",
      "Epoch 29/30\n",
      "60000/60000 [==============================] - 11s 181us/step - loss: 0.0040 - accuracy: 0.9987\n",
      "Epoch 30/30\n",
      "60000/60000 [==============================] - 11s 191us/step - loss: 0.0076 - accuracy: 0.9972\n"
     ]
    }
   ],
   "source": [
    "history = model.fit(X_train, y_train, batch_size=128, epochs=30, verbose=1)"
   ]
  },
  {
   "cell_type": "code",
   "execution_count": 114,
   "metadata": {},
   "outputs": [
    {
     "data": {
      "text/plain": [
       "[<matplotlib.lines.Line2D at 0x7fd4c5d7f990>]"
      ]
     },
     "execution_count": 114,
     "metadata": {},
     "output_type": "execute_result"
    },
    {
     "data": {
      "image/png": "[encoded data removed]",
      "text/plain": [
       "<Figure size 432x288 with 1 Axes>"
      ]
     },
     "metadata": {
      "needs_background": "light"
     },
     "output_type": "display_data"
    }
   ],
   "source": [
    "plt.plot(history.epoch, history.history['loss'])"
   ]
  },
  {
   "cell_type": "code",
   "execution_count": 115,
   "metadata": {},
   "outputs": [
    {
     "data": {
      "text/plain": [
       "[<matplotlib.lines.Line2D at 0x7fd4c5d1f7d0>]"
      ]
     },
     "execution_count": 115,
     "metadata": {},
     "output_type": "execute_result"
    },
    {
     "data": {
      "image/png": "[encoded data removed]",
      "text/plain": [
       "<Figure size 432x288 with 1 Axes>"
      ]
     },
     "metadata": {
      "needs_background": "light"
     },
     "output_type": "display_data"
    }
   ],
   "source": [
    "plt.plot(history.epoch, history.history['accuracy'])"
   ]
  },
  {
   "cell_type": "code",
   "execution_count": 116,
   "metadata": {},
   "outputs": [
    {
     "name": "stdout",
     "output_type": "stream",
     "text": [
      "10000/10000 [==============================] - 1s 117us/step\n"
     ]
    },
    {
     "data": {
      "text/plain": [
       "[0.12499905267757468, 0.9757999777793884]"
      ]
     },
     "execution_count": 116,
     "metadata": {},
     "output_type": "execute_result"
    }
   ],
   "source": [
    "model.evaluate(X_test, y_test, batch_size=128)"
   ]
  },
  {
   "cell_type": "code",
   "execution_count": 117,
   "metadata": {},
   "outputs": [],
   "source": [
    "y_pred = model.predict(X_test)"
   ]
  },
  {
   "cell_type": "code",
   "execution_count": 121,
   "metadata": {},
   "outputs": [
    {
     "data": {
      "text/plain": [
       "7"
      ]
     },
     "execution_count": 121,
     "metadata": {},
     "output_type": "execute_result"
    }
   ],
   "source": [
    "true_label = np.argmax(y_test[0])\n",
    "true_label"
   ]
  },
  {
   "cell_type": "code",
   "execution_count": 123,
   "metadata": {},
   "outputs": [
    {
     "data": {
      "text/plain": [
       "7"
      ]
     },
     "execution_count": 123,
     "metadata": {},
     "output_type": "execute_result"
    }
   ],
   "source": [
    "pred_label = np.argmax(y_pred[0])\n",
    "pred_label"
   ]
  },
  {
   "cell_type": "code",
   "execution_count": 126,
   "metadata": {},
   "outputs": [
    {
     "data": {
      "text/plain": [
       "<matplotlib.image.AxesImage at 0x7fd4c4498750>"
      ]
     },
     "execution_count": 126,
     "metadata": {},
     "output_type": "execute_result"
    },
    {
     "data": {
      "image/png": "[encoded data removed]",
      "text/plain": [
       "<Figure size 432x288 with 1 Axes>"
      ]
     },
     "metadata": {
      "needs_background": "light"
     },
     "output_type": "display_data"
    }
   ],
   "source": [
    "plt.imshow(X_test[0].reshape(img_size, img_size), cmap='gray')"
   ]
  },
  {
   "cell_type": "code",
   "execution_count": 127,
   "metadata": {},
   "outputs": [],
   "source": [
    "error_indices = []\n",
    "\n",
    "for i in range(X_test.shape[0]):\n",
    "    true_label = np.argmax(y_test[i])\n",
    "    pred_label = np.argmax(y_pred[i])\n",
    "    if true_label != pred_label:\n",
    "        error_indices.append(i)"
   ]
  },
  {
   "cell_type": "code",
   "execution_count": 128,
   "metadata": {},
   "outputs": [
    {
     "data": {
      "text/plain": [
       "242"
      ]
     },
     "execution_count": 128,
     "metadata": {},
     "output_type": "execute_result"
    }
   ],
   "source": [
    "len(error_indices)"
   ]
  },
  {
   "cell_type": "code",
   "execution_count": 129,
   "metadata": {},
   "outputs": [],
   "source": [
    "import random"
   ]
  },
  {
   "cell_type": "code",
   "execution_count": 134,
   "metadata": {},
   "outputs": [
    {
     "data": {
      "text/plain": [
       "<matplotlib.image.AxesImage at 0x7fd49fc304d0>"
      ]
     },
     "execution_count": 134,
     "metadata": {},
     "output_type": "execute_result"
    },
    {
     "data": {
      "image/png": "[encoded data removed]",
      "text/plain": [
       "<Figure size 432x288 with 1 Axes>"
      ]
     },
     "metadata": {
      "needs_background": "light"
     },
     "output_type": "display_data"
    }
   ],
   "source": [
    "random_index = random.choice(error_indices)\n",
    "true_label = np.argmax(y_test[random_index])\n",
    "pred_label = np.argmax(y_pred[random_index])\n",
    "plt.title('true: {}, pred: {}'.format(true_label, pred_label))\n",
    "plt.imshow(X_test[random_index].reshape(img_size, img_size), cmap='gray')"
   ]
  },
  {
   "cell_type": "code",
   "execution_count": null,
   "metadata": {},
   "outputs": [],
   "source": []
  }
 ],
 "metadata": {
  "kernelspec": {
   "display_name": "Python 3",
   "language": "python",
   "name": "python3"
  },
  "language_info": {
   "codemirror_mode": {
    "name": "ipython",
    "version": 3
   },
   "file_extension": ".py",
   "mimetype": "text/x-python",
   "name": "python",
   "nbconvert_exporter": "python",
   "pygments_lexer": "ipython3",
   "version": "3.7.6"
  }
 },
 "nbformat": 4,
 "nbformat_minor": 4
}
