{
 "cells": [
  {
   "cell_type": "code",
   "execution_count": 1,
   "metadata": {},
   "outputs": [],
   "source": [
    "# s - single solution\n",
    "# p - population\n",
    "\n",
    "# NEAT\n",
    "\n",
    "# intenzifikacija - intenzivnije bolje\n",
    "# diverzifikacija - diversity \n",
    "\n",
    "# jedinka: niz bitova - 0101000111\n",
    "\n",
    "# roditelj1 - 0101000111\n",
    "# roditelj2 - 1011110100\n",
    "\n",
    "# dete1 - 1101001100\n",
    "# dete2 - 1011110111\n",
    "    \n",
    "# inicijalizuj populaciju - niz jedinki\n",
    "# while not stop_condition:\n",
    "#     if elitizam:\n",
    "#         iskopiraj u novu populaciju najboljih nekoliko jedinki\n",
    "    \n",
    "#     izaberi dobre jedinke za reprodukciju\n",
    "#     ukrstanje\n",
    "#     mutacija\n",
    "#     dobili novu populaciju (population = newPopulation)\n",
    "    \n",
    "# najbolja jedinka iz poslednje populacije"
   ]
  },
  {
   "cell_type": "code",
   "execution_count": 15,
   "metadata": {},
   "outputs": [],
   "source": [
    "# UFLP\n",
    "# I korisnika\n",
    "# J resursa\n",
    "# c_ij - \n",
    "# f_j -\n",
    "\n",
    "# resenje - koje bolnice treba da se sagrade\n",
    "# kodiranje: 1000001000\n",
    "# fitnes: suma c_ij i f_j\n",
    "# hocemo sto manji fitnes"
   ]
  },
  {
   "cell_type": "code",
   "execution_count": 16,
   "metadata": {},
   "outputs": [],
   "source": [
    "import random"
   ]
  },
  {
   "cell_type": "code",
   "execution_count": 24,
   "metadata": {},
   "outputs": [],
   "source": [
    "class Individual():\n",
    "    \n",
    "    def __init__(self, numUsers, numResources, cost, fixedCost):\n",
    "        self.code = [random.random() < 0.25 for _ in range(numResources)]\n",
    "        self.correctNonFeasible()\n",
    "        \n",
    "        self.fitness = self.calculateFitness(cost, fixedCost)\n",
    "        \n",
    "    def __lt__(self, other):\n",
    "        return self.fitness < other.fitness\n",
    "        \n",
    "    def invert(self):\n",
    "        i = random.randrange(len(self.code))\n",
    "        self.code[i] = not self.code[i]\n",
    "        if self.isFeasible():\n",
    "            return i\n",
    "        return -1\n",
    "    \n",
    "    def isFeasible(self):\n",
    "        for c in self.code:\n",
    "            if c:\n",
    "                return True\n",
    "        return False\n",
    "        \n",
    "    def correctNonFeasible(self):\n",
    "        for c in self.code:\n",
    "            if c:\n",
    "                return\n",
    "#         jeste nedopustivo\n",
    "        index = random.randrange(0, len(self.code))\n",
    "        self.code[index] = True\n",
    "        \n",
    "    def calculateFitness(self, cost, fixedCost):\n",
    "        numUsers = len(cost)\n",
    "        numResources = len(fixedCost)\n",
    "        value = 0.0\n",
    "        used = [False for _ in range(numResources)]\n",
    "        \n",
    "        for i in range(numUsers):\n",
    "            minCost = float('inf')\n",
    "            usedResource = -1\n",
    "            for j in range(numResources):\n",
    "                if self.code[j] and cost[i][j] < minCost:\n",
    "                    minCost = cost[i][j]\n",
    "                    usedResource = j\n",
    "            value += minCost\n",
    "            used[usedResource] = True\n",
    "        \n",
    "        for i in range(numResources):\n",
    "            if used[i]:\n",
    "                value += fixedCost[i]\n",
    "                \n",
    "        self.code = used\n",
    "        return value"
   ]
  },
  {
   "cell_type": "code",
   "execution_count": 25,
   "metadata": {},
   "outputs": [],
   "source": [
    "def readInput(filename):\n",
    "    with open(filename, 'r') as f:\n",
    "        numUsers, numResources = [int(x) for x in f.readline().split()]\n",
    "        cost = [[int(x) for x in f.readline().split()] for i in range(numUsers)]\n",
    "        fixedCost = [int(x) for x in f.readline().split()]\n",
    "        \n",
    "        return numUsers, numResources, cost, fixedCost"
   ]
  },
  {
   "cell_type": "code",
   "execution_count": 26,
   "metadata": {},
   "outputs": [],
   "source": [
    "numUsers, numResources, cost, fixedCost = readInput('../03/uflp1.txt')"
   ]
  },
  {
   "cell_type": "code",
   "execution_count": 27,
   "metadata": {},
   "outputs": [],
   "source": [
    "def selection(population):\n",
    "    TOURNAMENT_SIZE = 6\n",
    "    minCost = float('inf')\n",
    "    bestIndex = -1\n",
    "    \n",
    "    for i in range(TOURNAMENT_SIZE):\n",
    "        index = random.randrange(len(population))\n",
    "        if population[index].fitness < minCost:\n",
    "            minCost = population[index].fitness\n",
    "            bestIndex = index\n",
    "    \n",
    "    return bestIndex"
   ]
  },
  {
   "cell_type": "code",
   "execution_count": 28,
   "metadata": {},
   "outputs": [],
   "source": [
    "def crossover(parent1, parent2, child1, child2):\n",
    "    breakpoint = random.randrange(0, len(parent1.code))\n",
    "    \n",
    "    child1.code[:breakpoint] = parent1.code[:breakpoint]\n",
    "    child2.code[:breakpoint] = parent2.code[:breakpoint]\n",
    "    \n",
    "    child1.code[breakpoint:] = parent2.code[breakpoint:]\n",
    "    child2.code[breakpoint:] = parent1.code[breakpoint:]\n",
    "    \n",
    "#     00001110\n",
    "#     11010000\n",
    "    child1.correctNonFeasible()\n",
    "    child2.correctNonFeasible()"
   ]
  },
  {
   "cell_type": "code",
   "execution_count": 29,
   "metadata": {},
   "outputs": [],
   "source": [
    "def mutation(individual):\n",
    "    MUTATION_PROB = 0.05\n",
    "    for i in range(len(individual.code)):\n",
    "        if random.random() < MUTATION_PROB:\n",
    "            individual.code[i] = not individual.code[i]\n",
    "# 0001000\n",
    "    individual.correctNonFeasible()"
   ]
  },
  {
   "cell_type": "code",
   "execution_count": 34,
   "metadata": {},
   "outputs": [
    {
     "name": "stdout",
     "output_type": "stream",
     "text": [
      "Solution: [True, False, False], fitness: 34.0\n"
     ]
    }
   ],
   "source": [
    "POPULATION_SIZE = 100\n",
    "population = [Individual(numUsers, numResources, cost, fixedCost) for i in range(POPULATION_SIZE)]\n",
    "newPopulation = [Individual(numUsers, numResources, cost, fixedCost) for i in range(POPULATION_SIZE)]\n",
    "\n",
    "ELITISM_SIZE = int(0.3 * POPULATION_SIZE)\n",
    "MAX_ITER = 500\n",
    "for i in range(MAX_ITER):\n",
    "    population.sort()\n",
    "    newPopulation[:ELITISM_SIZE] = population[:ELITISM_SIZE]\n",
    "    for j in range(ELITISM_SIZE, POPULATION_SIZE, 2):\n",
    "        parent1Index = selection(population)\n",
    "        parent2Index = selection(population)\n",
    "        \n",
    "        crossover(population[parent1Index], population[parent2Index], newPopulation[j], newPopulation[j+1])\n",
    "        \n",
    "        mutation(newPopulation[j])\n",
    "        mutation(newPopulation[j+1])\n",
    "        \n",
    "        newPopulation[j].fitness = newPopulation[j].calculateFitness(cost, fixedCost)\n",
    "        newPopulation[j + 1].fitness = newPopulation[j + 1].calculateFitness(cost, fixedCost)\n",
    "        \n",
    "    population = newPopulation\n",
    "        \n",
    "bestIndividual = min(population, key=lambda x: x.fitness)\n",
    "print('Solution: {}, fitness: {}'.format(bestIndividual.code, bestIndividual.fitness))"
   ]
  },
  {
   "cell_type": "code",
   "execution_count": 35,
   "metadata": {},
   "outputs": [],
   "source": [
    "def simulatedAnnealing(individual, iters, cost, fixedCost):\n",
    "    for i in range(iters):\n",
    "#         izmeni malo trenutno resenje - individual.code\n",
    "        j = individual.invert()\n",
    "        if j < 0:\n",
    "            continue\n",
    "        newFitness = individual.calculateFitness(cost, fixedCost)\n",
    "        \n",
    "        if newFitness < individual.fitness:\n",
    "            individual.fitness = newFitness\n",
    "        else:\n",
    "            p = 1.0 / (i + 1) ** 0.5\n",
    "            q = random.uniform(0, 1)\n",
    "            if p > q:\n",
    "#                 prihvati losije resenje\n",
    "                individual.fitness = newFitness\n",
    "            else:\n",
    "#             vrati se na prethodno resenje\n",
    "                individual.code[j] = not individual.code[j]"
   ]
  },
  {
   "cell_type": "code",
   "execution_count": 36,
   "metadata": {},
   "outputs": [
    {
     "name": "stdout",
     "output_type": "stream",
     "text": [
      "Solution: [True, False, False], fitness: 34.0\n"
     ]
    }
   ],
   "source": [
    "POPULATION_SIZE = 100\n",
    "population = [Individual(numUsers, numResources, cost, fixedCost) for i in range(POPULATION_SIZE)]\n",
    "newPopulation = [Individual(numUsers, numResources, cost, fixedCost) for i in range(POPULATION_SIZE)]\n",
    "\n",
    "ELITISM_SIZE = int(0.3 * POPULATION_SIZE)\n",
    "MAX_ITER = 500\n",
    "for i in range(MAX_ITER):\n",
    "    population.sort()\n",
    "    newPopulation[:ELITISM_SIZE] = population[:ELITISM_SIZE]\n",
    "    for j in range(ELITISM_SIZE, POPULATION_SIZE, 2):\n",
    "        parent1Index = selection(population)\n",
    "        parent2Index = selection(population)\n",
    "        \n",
    "        crossover(population[parent1Index], population[parent2Index], newPopulation[j], newPopulation[j+1])\n",
    "        \n",
    "        mutation(newPopulation[j])\n",
    "        mutation(newPopulation[j+1])\n",
    "        \n",
    "        newPopulation[j].fitness = newPopulation[j].calculateFitness(cost, fixedCost)\n",
    "        newPopulation[j + 1].fitness = newPopulation[j + 1].calculateFitness(cost, fixedCost)\n",
    "        \n",
    "    \n",
    "    simulatedAnnealing(newPopulation[0], 10, cost, fixedCost)\n",
    "    population = newPopulation\n",
    "        \n",
    "bestIndividual = min(population, key=lambda x: x.fitness)\n",
    "print('Solution: {}, fitness: {}'.format(bestIndividual.code, bestIndividual.fitness))"
   ]
  },
  {
   "cell_type": "code",
   "execution_count": null,
   "metadata": {},
   "outputs": [],
   "source": []
  }
 ],
 "metadata": {
  "kernelspec": {
   "display_name": "Python 3",
   "language": "python",
   "name": "python3"
  },
  "language_info": {
   "codemirror_mode": {
    "name": "ipython",
    "version": 3
   },
   "file_extension": ".py",
   "mimetype": "text/x-python",
   "name": "python",
   "nbconvert_exporter": "python",
   "pygments_lexer": "ipython3",
   "version": "3.7.6"
  }
 },
 "nbformat": 4,
 "nbformat_minor": 4
}
