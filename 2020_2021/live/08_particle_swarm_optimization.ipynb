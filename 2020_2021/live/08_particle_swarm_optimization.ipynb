{
 "cells": [
  {
   "cell_type": "code",
   "execution_count": 1,
   "metadata": {},
   "outputs": [],
   "source": [
    "# p - populacija\n",
    "\n",
    "# SI - swarm intelligence\n",
    "\n",
    "# PSO - particle swarm optimization\n",
    "\n",
    "# swarm = [Particle()]\n",
    "# globalno\n",
    "# while not stop_condition:\n",
    "#     for svaka cestica:\n",
    "#         r_l, r_g ~ U(0,1)\n",
    "#         izracunaj novu brzinu: v = c_i*inercija + r_l*c_l*lokalno + r_g*c_g*globalno\n",
    "#         pomeri cesticu: p = p + v\n",
    "#         usput azuriraj ako treba lokalni i globalni minimum\n",
    "# resenje je: globalni minimum"
   ]
  },
  {
   "cell_type": "code",
   "execution_count": 12,
   "metadata": {},
   "outputs": [],
   "source": [
    "import numpy as np\n",
    "import random\n",
    "import matplotlib.pyplot as plt"
   ]
  },
  {
   "cell_type": "code",
   "execution_count": 13,
   "metadata": {},
   "outputs": [],
   "source": [
    "def rastrigin(x):\n",
    "    A = 10\n",
    "    return A*2 + sum([x_i**2 - A * np.cos(2*np.pi*x_i) for x_i in x])"
   ]
  },
  {
   "cell_type": "code",
   "execution_count": 14,
   "metadata": {},
   "outputs": [],
   "source": [
    "def rosenbrock(x):\n",
    "    a = 1\n",
    "    b = 100\n",
    "    return (a - x[0])**2 + b*(x[1] - x[0]**2)**2"
   ]
  },
  {
   "cell_type": "code",
   "execution_count": 15,
   "metadata": {},
   "outputs": [],
   "source": [
    "bounds = [(-5.12, 5.12), (-5.12, 5.12)]"
   ]
  },
  {
   "cell_type": "code",
   "execution_count": 16,
   "metadata": {},
   "outputs": [],
   "source": [
    "class Particle:\n",
    "    \n",
    "    def __init__(self, objective, bounds, w=0.75, c1=1, c2=2):\n",
    "        self.position = [random.uniform(bounds[i][0], bounds[i][1]) for i in range(len(bounds))]\n",
    "        self.velocity = [random.uniform(-(bounds[i][1] - bounds[i][0]),\n",
    "                                        bounds[i][1] - bounds[i][0]) for i in range(len(bounds))]\n",
    "        self.bestPosition = list(self.position)\n",
    "        self.currentValue = objective(self.position)\n",
    "        self.bestValue = self.currentValue\n",
    "        \n",
    "        self.objective = objective\n",
    "        self.bounds = bounds\n",
    "        self.w = w\n",
    "        self.c1 = c2\n",
    "        self.c2 = c2\n",
    "        \n",
    "    def updatePosition(self, globalBestPosition, globalBestValue):\n",
    "        for i in range(len(self.position)):\n",
    "            self.position[i] += self.velocity[i]\n",
    "            \n",
    "            if self.position[i] > self.bounds[i][1]:\n",
    "                self.position[i] = self.bounds[i][1]\n",
    "            elif self.position[i] < self.bounds[i][0]:\n",
    "                self.position[i] = self.bounds[i][0]\n",
    "        \n",
    "        self.currentValue = self.objective(self.position)\n",
    "        if self.currentValue < self.bestValue:\n",
    "            self.bestValue = self.currentValue\n",
    "            self.bestPosition = list(self.position)\n",
    "            \n",
    "            if self.currentValue < globalBestValue:\n",
    "                globalBestValue = self.currentValue\n",
    "                globalBestPosition = list(self.position)\n",
    "                \n",
    "        return globalBestPosition, globalBestValue\n",
    "        \n",
    "    def updateVelocity(self, globalBestPosition):\n",
    "        for i in range(len(self.velocity)):\n",
    "            r1 = random.random()\n",
    "            r2 = random.random()\n",
    "            \n",
    "            cognitive_velocity = r1 * self.c1 * (self.bestPosition[i] - self.position[i])\n",
    "            social_velocity = r2 * self.c2 * (globalBestPosition[i] - self.position[i])\n",
    "            \n",
    "            self.velocity[i] = self.w * self.velocity[i] + cognitive_velocity + social_velocity"
   ]
  },
  {
   "cell_type": "code",
   "execution_count": 21,
   "metadata": {},
   "outputs": [
    {
     "name": "stdout",
     "output_type": "stream",
     "text": [
      "Solution: [0.9983771837128758, 0.9967872475916308], value: 2.7250185836132615e-06\n"
     ]
    },
    {
     "data": {
      "text/plain": [
       "[<matplotlib.lines.Line2D at 0x7facf3774310>]"
      ]
     },
     "execution_count": 21,
     "metadata": {},
     "output_type": "execute_result"
    },
    {
     "data": {
      "image/png": "[encoded data removed]",
      "text/plain": [
       "<Figure size 432x288 with 1 Axes>"
      ]
     },
     "metadata": {
      "needs_background": "light"
     },
     "output_type": "display_data"
    }
   ],
   "source": [
    "SWARM_SIZE = 50\n",
    "MAX_ITER = 300\n",
    "\n",
    "swarm = [Particle(rosenbrock, bounds) for _ in range(SWARM_SIZE)]\n",
    "globalBestPosition = list(swarm[0].position)\n",
    "globalBestValue = swarm[0].currentValue\n",
    "for particle in swarm:\n",
    "    if particle.currentValue < globalBestValue:\n",
    "        globalBestValue = particle.currentValue\n",
    "        globalBestPosition = list(particle.position)\n",
    "\n",
    "bests = []\n",
    "for i in range(MAX_ITER):\n",
    "    for j in range(len(swarm)):\n",
    "        swarm[j].updateVelocity(globalBestPosition)\n",
    "        globalBestPosition, globalBestValue = swarm[j].updatePosition(globalBestPosition, globalBestValue)\n",
    "        \n",
    "    bests.append(globalBestValue)\n",
    "    \n",
    "print('Solution: {}, value: {}'.format(globalBestPosition, globalBestValue))\n",
    "\n",
    "plt.plot(range(MAX_ITER), bests)"
   ]
  },
  {
   "cell_type": "code",
   "execution_count": null,
   "metadata": {},
   "outputs": [],
   "source": []
  },
  {
   "cell_type": "code",
   "execution_count": null,
   "metadata": {},
   "outputs": [],
   "source": []
  }
 ],
 "metadata": {
  "kernelspec": {
   "display_name": "Python 3",
   "language": "python",
   "name": "python3"
  },
  "language_info": {
   "codemirror_mode": {
    "name": "ipython",
    "version": 3
   },
   "file_extension": ".py",
   "mimetype": "text/x-python",
   "name": "python",
   "nbconvert_exporter": "python",
   "pygments_lexer": "ipython3",
   "version": "3.7.6"
  }
 },
 "nbformat": 4,
 "nbformat_minor": 4
}
