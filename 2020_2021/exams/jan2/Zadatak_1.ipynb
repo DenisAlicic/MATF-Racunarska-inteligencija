{
 "cells": [
  {
   "cell_type": "markdown",
   "metadata": {},
   "source": [
    "### Zadatak 1.\n",
    "\n",
    "Implementirati genetski algoritam za resavanje problema \"Zbir podskupa\".\n",
    "\n",
    "Definicija problema: Za zadati niz brojeva i jedan ciljni broj, odrediti da li postoji neprazan podskup datog niza cija suma je ciljni broj.\n",
    "\n",
    "Primer: \n",
    "    \n",
    "    niz: [6, 2, -4, 23, 56, 8, 3]\n",
    "    \n",
    "    ciljni broj: 34\n",
    "    \n",
    "    resenje: [23, 8, 3]"
   ]
  },
  {
   "cell_type": "code",
   "execution_count": 16,
   "metadata": {},
   "outputs": [],
   "source": [
    "import random"
   ]
  },
  {
   "cell_type": "code",
   "execution_count": null,
   "metadata": {},
   "outputs": [],
   "source": [
    "array = [6, 2, -4, 23, 56, 8, 3]\n",
    "target = 34"
   ]
  },
  {
   "cell_type": "code",
   "execution_count": 22,
   "metadata": {},
   "outputs": [],
   "source": [
    "class Individual():\n",
    "    \n",
    "    def __init__(self, array, target):\n",
    "        self.array = array.copy()\n",
    "        self.target = target\n",
    "        self.code = self.initialize(len(array))\n",
    "        self.fitness = self.calculateFitness()\n",
    "    \n",
    "    def initialize(self, n):\n",
    "        return None\n",
    "                \n",
    "    # Sort ce pozvati ovaj metod za poredjenje, ukoliko koristite sort :)\n",
    "    def __lt__(self, other):\n",
    "        return None\n",
    "        \n",
    "    def invert(self):\n",
    "        return None\n",
    "        \n",
    "    def calculateFitness(self):\n",
    "        return None"
   ]
  },
  {
   "cell_type": "markdown",
   "metadata": {},
   "source": [
    "Implementirati turnirsku selekciju"
   ]
  },
  {
   "cell_type": "code",
   "execution_count": 24,
   "metadata": {},
   "outputs": [],
   "source": [
    "def selection(population, size):\n",
    "    return None"
   ]
  },
  {
   "cell_type": "markdown",
   "metadata": {},
   "source": [
    "Implementirati jednopoziciono ukrstanje"
   ]
  },
  {
   "cell_type": "code",
   "execution_count": 19,
   "metadata": {},
   "outputs": [],
   "source": [
    "def crossover(parent1, parent2, child1, child2):\n",
    "    return None"
   ]
  },
  {
   "cell_type": "code",
   "execution_count": 26,
   "metadata": {},
   "outputs": [],
   "source": [
    "def mutation(individual, probability):\n",
    "    return None"
   ]
  },
  {
   "cell_type": "markdown",
   "metadata": {},
   "source": [
    "Implementirati elitizam velicine 30% populacije"
   ]
  },
  {
   "cell_type": "code",
   "execution_count": 27,
   "metadata": {},
   "outputs": [],
   "source": [
    "POPULATION_SIZE = 100\n",
    "SELECTION_SIZE = 6\n",
    "MUTATION_PROB = 0.05\n",
    "population = None\n",
    "newPopulation = None\n",
    "\n",
    "ELITISM_SIZE = None\n",
    "MAX_ITER = 500\n",
    "\n",
    "# \n",
    "# Implementacija glavne logike\n",
    "#\n",
    "    \n",
    "bestIndividual = None"
   ]
  },
  {
   "cell_type": "code",
   "execution_count": null,
   "metadata": {},
   "outputs": [],
   "source": []
  }
 ],
 "metadata": {
  "kernelspec": {
   "display_name": "Python 3",
   "language": "python",
   "name": "python3"
  },
  "language_info": {
   "codemirror_mode": {
    "name": "ipython",
    "version": 3
   },
   "file_extension": ".py",
   "mimetype": "text/x-python",
   "name": "python",
   "nbconvert_exporter": "python",
   "pygments_lexer": "ipython3",
   "version": "3.7.6"
  }
 },
 "nbformat": 4,
 "nbformat_minor": 4
}
