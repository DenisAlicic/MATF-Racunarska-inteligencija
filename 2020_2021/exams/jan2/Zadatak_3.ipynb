{
 "cells": [
  {
   "cell_type": "markdown",
   "metadata": {},
   "source": [
    "### Zadatak 3.\n",
    "\n",
    "Jedan proizvodjač kafe je u toku 12 nedelja pratio uspešnost prodaje kesica kafe u zavisnosti od širine dela police koju je imao na raspolaganju. Tako dobijene vrednosti su zabeležene u datoteci coffee.csv.\n",
    "\n",
    "a) Nacrtati grafik zavisnosti prodaje kesica kafe u odnosu na širine police. Da li postoji opravdanje za modelovanje ovog problema linearnom regresijom?\n",
    "\n",
    "b) Odrediti odgovarajući regresioni model korišćenjem biblioteke scikit-learn.\n",
    "\n",
    "c) Odrediti regresioni model **bez** korišćenja biblioteke sciki-learn.\n",
    "\n",
    "d) Dati ocenu greške modela na osnovu kontrolnih podataka koji su sadržani u datoteci *coffee_validation.csv*."
   ]
  },
  {
   "cell_type": "code",
   "execution_count": null,
   "metadata": {},
   "outputs": [],
   "source": []
  }
 ],
 "metadata": {
  "kernelspec": {
   "display_name": "Python 3",
   "language": "python",
   "name": "python3"
  },
  "language_info": {
   "codemirror_mode": {
    "name": "ipython",
    "version": 3
   },
   "file_extension": ".py",
   "mimetype": "text/x-python",
   "name": "python",
   "nbconvert_exporter": "python",
   "pygments_lexer": "ipython3",
   "version": "3.7.6"
  }
 },
 "nbformat": 4,
 "nbformat_minor": 4
}
