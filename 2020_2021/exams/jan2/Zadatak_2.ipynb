{
 "cells": [
  {
   "cell_type": "markdown",
   "metadata": {},
   "source": [
    "## Zadatak 2.\n",
    "\n",
    "Jedna od modifikacija osnovne metode gradijentnog spusta je Barzilai-Borvejn metoda u kojoj se korak gradijentnog spusta izračunava na osnovu vrednosti gradijenata u dvema tačkama $x_n$ i $x_{n-1}$ po formuli$$\\gamma_n = \\frac{(x_n-x_{n-1})^T(\\nabla f(x_n)-\\nabla f(x_{n-1}))}{||\\nabla f(x_n)-\\nabla f(x_{n-1})||^2}$$za $n>=2$, a sa namerom da se aproksimira Njutnova metoda i ubrza ceo proces konvergencije."
   ]
  },
  {
   "cell_type": "code",
   "execution_count": 4,
   "metadata": {},
   "outputs": [],
   "source": [
    "import numpy as np\n",
    "from scipy import optimize as opt"
   ]
  },
  {
   "cell_type": "code",
   "execution_count": null,
   "metadata": {},
   "outputs": [],
   "source": []
  },
  {
   "cell_type": "markdown",
   "metadata": {},
   "source": [
    "a) Implementirati Barzilai-Borvejn metodu koja za zadatu funkciju $f$ dveju promenljivih, njen gradijent $\\nabla f$, početnu tačku $x_0$ i vrednost koraka $\\gamma_0$ koji se koristi za izračunavanje tačke $x_1$ standardnom gradijentnom iteracijom izračunava minimum funkcije $f$. Algoritam zaustaviti ukoliko je broj iteracija veći od zadatog ograničenja $max\\_iterations$ ili ukoliko je norma gradijenta u tekućoj tački manja od zadate tačnosti $\\epsilon$."
   ]
  },
  {
   "cell_type": "markdown",
   "metadata": {},
   "source": [
    "b) Primeniti implementiranu metodu na funkciju $$𝑓(a,b)=(1−a)^2+100(b−a^2)^2$$\n",
    "\n",
    "Za početnu tačku uzeti $(2.1,1.3)$, za vrednost koraka $\\gamma_0$ u prvoj iteraciji $0.01$, za maksimalan broj iteracija $100$, a za tačnost epsilon $10^{-8}$. "
   ]
  },
  {
   "cell_type": "markdown",
   "metadata": {},
   "source": [
    "c) Uporediti ovako dobijeno rešenje sa rešenjem neke od funkcija biblioteke `scipy.optimize`."
   ]
  },
  {
   "cell_type": "code",
   "execution_count": null,
   "metadata": {},
   "outputs": [],
   "source": []
  },
  {
   "cell_type": "code",
   "execution_count": null,
   "metadata": {},
   "outputs": [],
   "source": []
  }
 ],
 "metadata": {
  "kernelspec": {
   "display_name": "Python 3",
   "language": "python",
   "name": "python3"
  },
  "language_info": {
   "codemirror_mode": {
    "name": "ipython",
    "version": 3
   },
   "file_extension": ".py",
   "mimetype": "text/x-python",
   "name": "python",
   "nbconvert_exporter": "python",
   "pygments_lexer": "ipython3",
   "version": "3.7.6"
  }
 },
 "nbformat": 4,
 "nbformat_minor": 4
}
