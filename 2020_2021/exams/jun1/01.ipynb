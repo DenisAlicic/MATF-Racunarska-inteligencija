{
 "cells": [
  {
   "cell_type": "markdown",
   "metadata": {},
   "source": [
    "### Problem p-medijane.\n",
    "Kod problema p-medijane (p-median problem) se razmatra skup korisnika $I$ i skup resursa $J$.\n",
    "\n",
    "Za svaki par korisnik-resurs poznata je cena dodeljivanja $c_{ij}$, i∈$I$, j∈$J$.\n",
    "\n",
    "Svaki korisnik se može dodeliti tačno jednom, prethodno uspostavljenom resursu.\n",
    "\n",
    "Pritom neki resursi mogu biti neiskorišćeni, dok drugim resursima može biti dodeljeno jedan ili više korisnika.\n",
    "\n",
    "Potrebno je odrediti kojih $p$ resursa treba da bude uspostavljeno,\n",
    "tako da ukupna suma cena dodeljivanja korisnika uspostavljenim resursima bude minimalna."
   ]
  },
  {
   "cell_type": "markdown",
   "metadata": {},
   "source": [
    "Data je matrica cene dodeljivanja korisnika resursima $C$ i broj $p$."
   ]
  },
  {
   "cell_type": "code",
   "execution_count": 8,
   "metadata": {},
   "outputs": [],
   "source": [
    "C = [[1,2,1,4],\n",
    "     [6,1,2,3],\n",
    "     [5,2,3,1],\n",
    "     [3,3,3,8],\n",
    "     [4,5,3,2]\n",
    "    ]\n",
    "p = 2\n",
    "# optimalno resenje: uspostavljeni su drugi i treci resurs\n",
    "# vrednost: 1 + 1 + 2 + 3 + 3 = 10"
   ]
  },
  {
   "cell_type": "markdown",
   "metadata": {},
   "source": [
    "Napisati funkciju 𝑖𝑛𝑖𝑡𝑖𝑎𝑙𝑖𝑧𝑒 koja za dati broj resursa 𝑛 i traženi broj resursa koje treba uspostaviti $p$ konstruiše početno rešenje."
   ]
  },
  {
   "cell_type": "code",
   "execution_count": 9,
   "metadata": {},
   "outputs": [],
   "source": [
    "def initialize(n, p):\n",
    "# POCETAK STUDENTSKOG KODA\n",
    "    return None\n",
    "# KRAJ STUDENTSKOG KODA"
   ]
  },
  {
   "cell_type": "markdown",
   "metadata": {},
   "source": [
    "Napisati funkciju 𝑐𝑎𝑙𝑐𝑆𝑜𝑙𝑢𝑡𝑖𝑜𝑛𝑉𝑎𝑙𝑢𝑒 koja za dato rešenje 𝑠𝑜𝑙𝑢𝑡𝑖𝑜𝑛 i matricu cene dodeljivanja korisnika resursima $C$ računa vrednost tog rešenja."
   ]
  },
  {
   "cell_type": "code",
   "execution_count": 3,
   "metadata": {},
   "outputs": [],
   "source": [
    "def calcSolutionValue(solution, C):\n",
    "# POCETAK STUDENTSKOG KODA\n",
    "    return None\n",
    "# KRAJ STUDENTSKOG KODA"
   ]
  },
  {
   "cell_type": "markdown",
   "metadata": {},
   "source": [
    "Napisati funkciju $createNewSolution$ koja malom izmenom datog trenutnog rešenja $solution$ konstruiše novo rešenje."
   ]
  },
  {
   "cell_type": "code",
   "execution_count": 4,
   "metadata": {},
   "outputs": [],
   "source": [
    "def createNewSolution(solution):\n",
    "# POCETAK STUDENTSKOG KODA\n",
    "    return None\n",
    "# KRAJ STUDENTSKOG KODA"
   ]
  },
  {
   "cell_type": "markdown",
   "metadata": {},
   "source": [
    "Konačno, napisati funkciju $localSearch$ koja za datu matricu cene $C$ i broj resursa koje treba uspostaviti $p$ rešava problem p-medijane primenom lokalne pretrage.\n",
    "Uslov zaustavljanja je broj iteracija $iters$.\n",
    "\n",
    "Iz funkcije vratiti vrednost najboljeg rešenja i resurse koje treba uspostaviti."
   ]
  },
  {
   "cell_type": "code",
   "execution_count": 10,
   "metadata": {},
   "outputs": [],
   "source": [
    "def localSearch(C, p, iters):\n",
    "# POCETAK STUDENTSKOG KODA\n",
    "    return None\n",
    "# KRAJ STUDENTSKOG KODA"
   ]
  }
 ],
 "metadata": {
  "kernelspec": {
   "display_name": "Python 3",
   "language": "python",
   "name": "python3"
  },
  "language_info": {
   "codemirror_mode": {
    "name": "ipython",
    "version": 3
   },
   "file_extension": ".py",
   "mimetype": "text/x-python",
   "name": "python",
   "nbconvert_exporter": "python",
   "pygments_lexer": "ipython3",
   "version": "3.7.6"
  }
 },
 "nbformat": 4,
 "nbformat_minor": 4
}
