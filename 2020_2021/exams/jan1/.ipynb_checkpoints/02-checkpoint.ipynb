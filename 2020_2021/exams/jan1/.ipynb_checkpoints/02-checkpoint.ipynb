{
 "cells": [
  {
   "cell_type": "code",
   "execution_count": 17,
   "metadata": {},
   "outputs": [],
   "source": [
    "import numpy as np\n",
    "import random\n",
    "import matplotlib.pyplot as plt"
   ]
  },
  {
   "cell_type": "code",
   "execution_count": 18,
   "metadata": {},
   "outputs": [],
   "source": [
    "def ackley(x):\n",
    "    d = len(x)\n",
    "    a = 20\n",
    "    b = 0.2\n",
    "    c = 2 * np.pi\n",
    "    first_sum = np.sum(np.square(x))\n",
    "    second_sum = np.sum(np.cos(np.multiply(c, x)))\n",
    "    return -a*np.exp(-b*np.sqrt(first_sum / d)) - np.exp(second_sum / d) + a + np.exp(1)"
   ]
  },
  {
   "cell_type": "code",
   "execution_count": 19,
   "metadata": {},
   "outputs": [],
   "source": [
    "n = 5\n",
    "bounds = [(-32, 32) for _ in range(n)]"
   ]
  },
  {
   "cell_type": "markdown",
   "metadata": {},
   "source": [
    "Koristeći optimizaciju rojem čestica (PSO) minimizovati Aklijevu funkciju na datom opsegu.\n",
    "\n",
    "Napraviti klasu $Particle$ koja predstavlja jednu česticu i ima metode $updatePosition$ i $updateVelocity$ koji ažuriraju poziciju i brzinu čestice.\n",
    "\n",
    "Za parametre $w$, $c1$ i $c2$ uzeti redom vrednosti $0.75$, $1$ i $2$."
   ]
  },
  {
   "cell_type": "code",
   "execution_count": 20,
   "metadata": {},
   "outputs": [],
   "source": [
    "class Particle:\n",
    "    \n",
    "    def __init__(self, objective, bounds, w, c1, c2):\n",
    "#         POCETAK STUDENTSKOG KODA\n",
    "        self.position = []\n",
    "        self.velocity = []\n",
    "#         KRAJ STUDENTSKOG KODA\n",
    "        self.bestPosition = list(self.position)\n",
    "        self.currentValue = objective(self.position)\n",
    "        self.bestValue = objective(self.bestPosition)\n",
    "        \n",
    "        self.objective = objective\n",
    "        self.bounds = bounds\n",
    "        self.w = w\n",
    "        self.c1 = c1\n",
    "        self.c2 = c2\n",
    "        \n",
    "    def updatePosition(self, globalBestPosition, globalBestValue):\n",
    "#         POCETAK STUDENTSKOG KODA\n",
    "        return None\n",
    "#         KRAJ STUDENTSKOG KODA\n",
    "    \n",
    "    def updateVelocity(self, globalBestPosition):\n",
    "#         POCETAK STUDENTSKOG KODA\n",
    "        return None\n",
    "#         KRAJ STUDENTSKOG KODA"
   ]
  },
  {
   "cell_type": "markdown",
   "metadata": {},
   "source": [
    "Napisati funkciju $pso$ koja pravi roj od $numParticles$ čestica i vrši optimizaciju.\n",
    "\n",
    "Uslov zaustavljanja je broj iteracija $iters$.\n",
    "\n",
    "Nacrtati grafik promene vrednosti najboljeg rešenja kroz iteracije.\n",
    "\n",
    "Iz funkcije vratiti poziciju i vrednost najboljeg rešenja."
   ]
  },
  {
   "cell_type": "code",
   "execution_count": 21,
   "metadata": {},
   "outputs": [],
   "source": [
    "def pso(numParticles, iters):\n",
    "#     POCETAK STUDENTSKOG KODA\n",
    "    return None\n",
    "#     KRAJ STUDENTSKOG KODA"
   ]
  },
  {
   "cell_type": "markdown",
   "metadata": {},
   "source": [
    "Minimum ove funkcije je nula i dostiže se u nuli."
   ]
  },
  {
   "cell_type": "code",
   "execution_count": 22,
   "metadata": {},
   "outputs": [],
   "source": [
    "pso(25, 300)"
   ]
  }
 ],
 "metadata": {
  "kernelspec": {
   "display_name": "Python 3",
   "language": "python",
   "name": "python3"
  },
  "language_info": {
   "codemirror_mode": {
    "name": "ipython",
    "version": 3
   },
   "file_extension": ".py",
   "mimetype": "text/x-python",
   "name": "python",
   "nbconvert_exporter": "python",
   "pygments_lexer": "ipython3",
   "version": "3.7.6"
  }
 },
 "nbformat": 4,
 "nbformat_minor": 4
}
