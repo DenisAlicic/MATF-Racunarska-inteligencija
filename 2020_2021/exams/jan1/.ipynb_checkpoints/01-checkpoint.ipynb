{
 "cells": [
  {
   "cell_type": "code",
   "execution_count": 1,
   "metadata": {},
   "outputs": [],
   "source": [
    "import random"
   ]
  },
  {
   "cell_type": "markdown",
   "metadata": {},
   "source": [
    "Data je matrica rastojanja između gradova $D$."
   ]
  },
  {
   "cell_type": "code",
   "execution_count": 2,
   "metadata": {},
   "outputs": [],
   "source": [
    "D = [[0,4,1,3],\n",
    "     [4,0,2,1],\n",
    "     [1,2,0,5],\n",
    "     [3,1,5,0]\n",
    "    ]"
   ]
  },
  {
   "cell_type": "markdown",
   "metadata": {},
   "source": [
    "Problem trgovačkog putnika: za dati skup gradova i rastojanja između njih, potrebno je odrediti najkraću rutu koja svaki grad posećuje tačno jednom, pri čemu je prvi grad ujedno i poslednji grad na putu."
   ]
  },
  {
   "cell_type": "markdown",
   "metadata": {},
   "source": [
    "Napisati funkciju $initialize$ koja za dati broj gradova $n$ konstruiše početno rešenje (proizvoljnu rutu) za trgovačkog putnika."
   ]
  },
  {
   "cell_type": "code",
   "execution_count": 3,
   "metadata": {},
   "outputs": [],
   "source": [
    "def initialize(n):\n",
    "# POCETAK STUDENTSKOG KODA\n",
    "    return None\n",
    "# KRAJ STUDENTSKOG KODA"
   ]
  },
  {
   "cell_type": "markdown",
   "metadata": {},
   "source": [
    "Napisati funkciju $calcSolutionValue$ koja za dato rešenje $solution$ i matricu rastojanja $D$ računa vrednost tog rešenja."
   ]
  },
  {
   "cell_type": "code",
   "execution_count": 4,
   "metadata": {},
   "outputs": [],
   "source": [
    "def calcSolutionValue(solution, D):\n",
    "# POCETAK STUDENTSKOG KODA\n",
    "    return None\n",
    "# KRAJ STUDENTSKOG KODA"
   ]
  },
  {
   "cell_type": "markdown",
   "metadata": {},
   "source": [
    "Napisati funkciju $createNewSolution$ koja malom izmenom datog trenutnog rešenja $solution$ konstruiše novo rešenje."
   ]
  },
  {
   "cell_type": "code",
   "execution_count": 5,
   "metadata": {},
   "outputs": [],
   "source": [
    "def createNewSolution(solution):\n",
    "# POCETAK STUDENTSKOG KODA\n",
    "    return None\n",
    "# KRAJ STUDENTSKOG KODA "
   ]
  },
  {
   "cell_type": "markdown",
   "metadata": {},
   "source": [
    "Konačno, napisati funkciju $simulatedAnnealing$ koja za datu matricu rastojanja $D$ rešava problem trgovačkog putnika primenom simuliranog kaljenja.\n",
    "Uslov zaustavljanja je broj iteracija $iters$.\n",
    "\n",
    "Za funkciju $p$ koristiti $\\frac{1}{\\sqrt{i}}$, gde je $i$ broj trenutne iteracije.\n",
    "\n",
    "Iz funkcije vratiti vrednost najboljeg rešenja i najbolju rutu."
   ]
  },
  {
   "cell_type": "code",
   "execution_count": 6,
   "metadata": {},
   "outputs": [],
   "source": [
    "def simulatedAnnealing(D, iters):\n",
    "# POCETAK STUDENTSKOG KODA\n",
    "    return None\n",
    "# KRAJ STUDENTSKOG KODA"
   ]
  },
  {
   "cell_type": "markdown",
   "metadata": {},
   "source": [
    "1. test primer (matrica rastojanja $D$)\n",
    "\n",
    "Optimalna vrednost: 7\n",
    "\n",
    "Optimalna ruta: 0 -> 2 -> 1 -> 3"
   ]
  },
  {
   "cell_type": "code",
   "execution_count": 7,
   "metadata": {},
   "outputs": [],
   "source": [
    "simulatedAnnealing(D, 10)"
   ]
  },
  {
   "cell_type": "code",
   "execution_count": 8,
   "metadata": {},
   "outputs": [],
   "source": [
    "def readFile(filename):\n",
    "    with open(filename, 'r') as f:\n",
    "        numCities = [int(x) for x in f.readline().split()][0]\n",
    "        D = [[int(x) for x in f.readline().split()] for i in range(numCities)]\n",
    "        return D"
   ]
  },
  {
   "cell_type": "code",
   "execution_count": 9,
   "metadata": {},
   "outputs": [],
   "source": [
    "D_2 = readFile('tsp_input.txt')"
   ]
  },
  {
   "cell_type": "markdown",
   "metadata": {},
   "source": [
    "2. test primer (matrica rastojanja $D_2$)\n",
    "\n",
    "Optimalna vrednost: 27603"
   ]
  },
  {
   "cell_type": "code",
   "execution_count": 10,
   "metadata": {},
   "outputs": [],
   "source": [
    "simulatedAnnealing(D_2, 100000)"
   ]
  }
 ],
 "metadata": {
  "kernelspec": {
   "display_name": "Python 3",
   "language": "python",
   "name": "python3"
  },
  "language_info": {
   "codemirror_mode": {
    "name": "ipython",
    "version": 3
   },
   "file_extension": ".py",
   "mimetype": "text/x-python",
   "name": "python",
   "nbconvert_exporter": "python",
   "pygments_lexer": "ipython3",
   "version": "3.7.6"
  }
 },
 "nbformat": 4,
 "nbformat_minor": 4
}
