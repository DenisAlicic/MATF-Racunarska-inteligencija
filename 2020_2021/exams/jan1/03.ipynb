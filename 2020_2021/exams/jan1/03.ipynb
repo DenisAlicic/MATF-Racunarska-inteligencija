{
 "cells": [
  {
   "cell_type": "code",
   "execution_count": 1,
   "metadata": {},
   "outputs": [
    {
     "name": "stderr",
     "output_type": "stream",
     "text": [
      "Using TensorFlow backend.\n"
     ]
    }
   ],
   "source": [
    "from keras.datasets import cifar10\n",
    "from keras.utils import to_categorical\n",
    "from keras.models import Sequential\n",
    "from keras.layers import Conv2D, Dense, MaxPooling2D, Flatten, Dropout\n",
    "from keras.losses import SparseCategoricalCrossentropy\n",
    "from matplotlib import pyplot as plt"
   ]
  },
  {
   "cell_type": "markdown",
   "metadata": {},
   "source": [
    "Učitati skup podataka $cifar10$ i za obučavanje koristiti prvih $10000$ slika iz skupa za obučavanje, a za testiranje koristiti prvih $1000$ slika iz skupa za testiranje."
   ]
  },
  {
   "cell_type": "code",
   "execution_count": null,
   "metadata": {},
   "outputs": [],
   "source": []
  },
  {
   "cell_type": "markdown",
   "metadata": {},
   "source": [
    "Izvršiti normalizaciju piksela i eventualno promeniti kodiranje ciljne promenljive."
   ]
  },
  {
   "cell_type": "code",
   "execution_count": null,
   "metadata": {},
   "outputs": [],
   "source": []
  },
  {
   "cell_type": "markdown",
   "metadata": {},
   "source": [
    "Napraviti konvolutivnu neuronsku mrežu sa sledećom arhitekturom:\n",
    "- Konvolutivni sloj sa $32$ filtera veličine $3 \\times 3$ i ReLu aktivacionom funkcijom\n",
    "- Konvolutivni sloj sa $32$ filtera veličine $3 \\times 3$ i ReLu aktivacionom funkcijom\n",
    "- Agregacioni sloj sa veličinom prozora $2 \\times 2$\n",
    "- Konvolutivni sloj sa $64$ filtera veličine $3 \\times 3$ i ReLu aktivacionom funkcijom\n",
    "- Konvolutivni sloj sa $64$ filtera veličine $3 \\times 3$ i ReLu aktivacionom funkcijom\n",
    "- Agregacioni sloj sa veličinom prozora $2 \\times 2$\n",
    "- Sloj za ravnanje (Flatten)\n",
    "- Potpuno povezani sloj sa $64$ neurona i ReLu aktivacionom funkcijom\n",
    "- Potpuno povezani sloj sa brojem neurona jednakim broju klasa i softmax aktivacionom funkcijom"
   ]
  },
  {
   "cell_type": "code",
   "execution_count": null,
   "metadata": {},
   "outputs": [],
   "source": []
  },
  {
   "cell_type": "markdown",
   "metadata": {},
   "source": [
    "Obučiti model - postaviti veličinu paketa (batch size) na $64$, broj epoha na $10$.\n",
    "\n",
    "Iskoristiti $20\\%$ trening podataka za validaciju."
   ]
  },
  {
   "cell_type": "code",
   "execution_count": null,
   "metadata": {},
   "outputs": [],
   "source": []
  },
  {
   "cell_type": "markdown",
   "metadata": {},
   "source": [
    "Nacrtati grafik promene funkcije greške kroz epohe na skupu za obučavanje i za validaciju."
   ]
  },
  {
   "cell_type": "code",
   "execution_count": null,
   "metadata": {},
   "outputs": [],
   "source": []
  },
  {
   "cell_type": "markdown",
   "metadata": {},
   "source": [
    "Nacrtati grafik promene tačnosti kroz epohe na skupu za obučavanje i za validaciju."
   ]
  },
  {
   "cell_type": "code",
   "execution_count": null,
   "metadata": {},
   "outputs": [],
   "source": []
  },
  {
   "cell_type": "markdown",
   "metadata": {},
   "source": [
    "Izvršiti evaluaciju modela na skupu za testiranje."
   ]
  },
  {
   "cell_type": "code",
   "execution_count": null,
   "metadata": {},
   "outputs": [],
   "source": []
  },
  {
   "cell_type": "markdown",
   "metadata": {},
   "source": [
    "Napraviti novi model koji ima istu arhitekturu kao prethodni, ali dodatno koristi regularizaciju izostavljanjem - ima $Dropout$ sloj sa faktorom $0.2$ posle svakog agregacionog sloja i između dva potpuno povezana sloja."
   ]
  },
  {
   "cell_type": "code",
   "execution_count": null,
   "metadata": {},
   "outputs": [],
   "source": []
  },
  {
   "cell_type": "markdown",
   "metadata": {},
   "source": [
    "Obučiti novi model sa istim parametrima kao kod starog modela."
   ]
  },
  {
   "cell_type": "code",
   "execution_count": null,
   "metadata": {},
   "outputs": [],
   "source": []
  },
  {
   "cell_type": "markdown",
   "metadata": {},
   "source": [
    "Nacrtati oba grafika i za novi model."
   ]
  },
  {
   "cell_type": "code",
   "execution_count": null,
   "metadata": {},
   "outputs": [],
   "source": []
  },
  {
   "cell_type": "markdown",
   "metadata": {},
   "source": [
    "Da li poređenjem ova dva grafika sa prethodna dva možete da zaključite koji model se bolje ponaša i zašto?"
   ]
  },
  {
   "cell_type": "code",
   "execution_count": null,
   "metadata": {},
   "outputs": [],
   "source": []
  }
 ],
 "metadata": {
  "kernelspec": {
   "display_name": "Python 3",
   "language": "python",
   "name": "python3"
  },
  "language_info": {
   "codemirror_mode": {
    "name": "ipython",
    "version": 3
   },
   "file_extension": ".py",
   "mimetype": "text/x-python",
   "name": "python",
   "nbconvert_exporter": "python",
   "pygments_lexer": "ipython3",
   "version": "3.7.6"
  }
 },
 "nbformat": 4,
 "nbformat_minor": 4
}
