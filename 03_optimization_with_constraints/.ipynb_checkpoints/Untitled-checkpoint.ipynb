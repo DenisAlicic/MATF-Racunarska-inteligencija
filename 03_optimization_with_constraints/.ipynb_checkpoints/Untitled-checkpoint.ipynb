{
 "cells": [
  {
   "cell_type": "code",
   "execution_count": 1,
   "metadata": {},
   "outputs": [],
   "source": [
    "from scipy import optimize as opt\n",
    "import numpy as np"
   ]
  },
  {
   "cell_type": "markdown",
   "metadata": {},
   "source": [
    "f(x0, x1) = 3x0 + 4x1"
   ]
  },
  {
   "cell_type": "markdown",
   "metadata": {},
   "source": [
    "x0 + 2x1 <= 14\n",
    "-3x0 + x1 <= 0\n",
    "x0 - x1 <= 2"
   ]
  },
  {
   "cell_type": "code",
   "execution_count": 2,
   "metadata": {},
   "outputs": [],
   "source": [
    "c = np.array([3, 4])"
   ]
  },
  {
   "cell_type": "code",
   "execution_count": 3,
   "metadata": {},
   "outputs": [],
   "source": [
    "A_ub = np.array([[1, 2], [-3, 1], [1, -1]])"
   ]
  },
  {
   "cell_type": "code",
   "execution_count": 4,
   "metadata": {},
   "outputs": [],
   "source": [
    "b_ub = np.array([14, 0, 2])"
   ]
  },
  {
   "cell_type": "code",
   "execution_count": 5,
   "metadata": {},
   "outputs": [
    {
     "data": {
      "text/plain": [
       "     con: array([], dtype=float64)\n",
       "     fun: 0.0\n",
       " message: 'Optimization terminated successfully.'\n",
       "     nit: 5\n",
       "   slack: array([14.,  0.,  2.])\n",
       "  status: 0\n",
       " success: True\n",
       "       x: array([0., 0.])"
      ]
     },
     "execution_count": 5,
     "metadata": {},
     "output_type": "execute_result"
    }
   ],
   "source": [
    "opt.linprog(c, A_ub=A_ub, b_ub=b_ub, method='simplex')"
   ]
  },
  {
   "cell_type": "code",
   "execution_count": 6,
   "metadata": {},
   "outputs": [],
   "source": [
    "def f(x):\n",
    "    return np.sqrt((x-3)**2 + 4)"
   ]
  },
  {
   "cell_type": "code",
   "execution_count": 7,
   "metadata": {},
   "outputs": [
    {
     "data": {
      "text/plain": [
       "1.4999965250429437"
      ]
     },
     "execution_count": 7,
     "metadata": {},
     "output_type": "execute_result"
    }
   ],
   "source": [
    "opt.fminbound(f, -1.5, 1.5)"
   ]
  },
  {
   "cell_type": "code",
   "execution_count": 8,
   "metadata": {},
   "outputs": [],
   "source": [
    "def f(x):\n",
    "    return 2*x[0]*x[1] + 2*x[0] + x[0]**2 - x[1]**2  "
   ]
  },
  {
   "cell_type": "markdown",
   "metadata": {},
   "source": [
    "x**3 - y = 0\n",
    "y - 1 >= 0"
   ]
  },
  {
   "cell_type": "code",
   "execution_count": 9,
   "metadata": {},
   "outputs": [],
   "source": [
    "c = [\n",
    "    {\n",
    "        'type' : 'eq',\n",
    "        'fun' : lambda x: np.array([x[0]**3 - x[1]]),\n",
    "        'jac' : lambda x: np.array([3*x[0]**2, -1])\n",
    "    },\n",
    "    {\n",
    "        'type' : 'ineq',\n",
    "        'fun' : lambda x: np.array([x[1] - 1]),\n",
    "        'jac': lambda x: np.array([0, 1])\n",
    "    }\n",
    "]"
   ]
  },
  {
   "cell_type": "code",
   "execution_count": 10,
   "metadata": {},
   "outputs": [
    {
     "data": {
      "text/plain": [
       "     fun: 4.000000000001254\n",
       "     jac: array([6.00000095e+00, 9.53674309e-07])\n",
       " message: 'Optimization terminated successfully'\n",
       "    nfev: 106\n",
       "     nit: 18\n",
       "    njev: 18\n",
       "  status: 0\n",
       " success: True\n",
       "       x: array([1., 1.])"
      ]
     },
     "execution_count": 10,
     "metadata": {},
     "output_type": "execute_result"
    }
   ],
   "source": [
    "opt.minimize(f, (0, 0), constraints=c, method='SLSQP')"
   ]
  },
  {
   "cell_type": "markdown",
   "metadata": {},
   "source": [
    "I faza fiksni - 0.2h, mobilni - 0.4h\n",
    "II faza fiksni - 0.5h, mobilni - 0.4h"
   ]
  },
  {
   "cell_type": "markdown",
   "metadata": {},
   "source": [
    "fiksni - 12 evra, mobilni - 20 evra"
   ]
  },
  {
   "cell_type": "markdown",
   "metadata": {},
   "source": [
    "I faza za fiksni + mobilni <= 400h\n",
    "II faza za fiksni + mobilni <= 490h"
   ]
  },
  {
   "cell_type": "markdown",
   "metadata": {},
   "source": [
    "fiksni makar 100, moblini makar 100"
   ]
  },
  {
   "cell_type": "code",
   "execution_count": 11,
   "metadata": {},
   "outputs": [],
   "source": [
    "from docplex.mp.model import Model"
   ]
  },
  {
   "cell_type": "code",
   "execution_count": 12,
   "metadata": {},
   "outputs": [],
   "source": [
    "m = Model(name=\"telephone_production\")"
   ]
  },
  {
   "cell_type": "code",
   "execution_count": 13,
   "metadata": {},
   "outputs": [],
   "source": [
    "desk = m.integer_var(name='desk')\n",
    "cell = m.integer_var(name='cell')"
   ]
  },
  {
   "cell_type": "code",
   "execution_count": 14,
   "metadata": {},
   "outputs": [
    {
     "data": {
      "text/plain": [
       "docplex.mp.LinearConstraint[](desk,GE,100)"
      ]
     },
     "execution_count": 14,
     "metadata": {},
     "output_type": "execute_result"
    }
   ],
   "source": [
    "m.add_constraint(desk >= 100)"
   ]
  },
  {
   "cell_type": "code",
   "execution_count": 15,
   "metadata": {},
   "outputs": [
    {
     "data": {
      "text/plain": [
       "docplex.mp.LinearConstraint[](cell,GE,100)"
      ]
     },
     "execution_count": 15,
     "metadata": {},
     "output_type": "execute_result"
    }
   ],
   "source": [
    "m.add_constraint(cell >= 100)"
   ]
  },
  {
   "cell_type": "code",
   "execution_count": 16,
   "metadata": {},
   "outputs": [],
   "source": [
    "ct_1 = m.add_constraint(desk*0.2 + cell*0.4 <= 400)\n",
    "ct_2 = m.add_constraint(desk*0.5 + cell*0.4 <= 490)"
   ]
  },
  {
   "cell_type": "code",
   "execution_count": 17,
   "metadata": {},
   "outputs": [],
   "source": [
    "m.maximize(desk*12 + cell*20)"
   ]
  },
  {
   "cell_type": "code",
   "execution_count": 19,
   "metadata": {},
   "outputs": [
    {
     "name": "stdout",
     "output_type": "stream",
     "text": [
      "Model: telephone_production\n",
      " - number of variables: 2\n",
      "   - binary=0, integer=2, continuous=0\n",
      " - number of constraints: 4\n",
      "   - linear=4\n",
      " - parameters: defaults\n",
      " - problem type is: MILP\n"
     ]
    }
   ],
   "source": [
    "m.print_information()"
   ]
  },
  {
   "cell_type": "code",
   "execution_count": 20,
   "metadata": {},
   "outputs": [],
   "source": [
    "s = m.solve()"
   ]
  },
  {
   "cell_type": "code",
   "execution_count": 21,
   "metadata": {},
   "outputs": [
    {
     "name": "stdout",
     "output_type": "stream",
     "text": [
      "objective: 20600\n",
      "  desk=300\n",
      "  cell=850\n"
     ]
    }
   ],
   "source": [
    "m.print_solution()"
   ]
  },
  {
   "cell_type": "code",
   "execution_count": 22,
   "metadata": {},
   "outputs": [],
   "source": [
    "def readInput(filename):\n",
    "    with open(filename, 'r') as f:\n",
    "        numUsers, numResources = [int(x) for x in f.readline().split()]\n",
    "        cost = [[int(x) for x in f.readline().split()] for i in range(numUsers)]\n",
    "        fixed_cost = [int(x) for x in f.readline().split()]\n",
    "        \n",
    "        return numUsers, numResources, cost, fixed_cost"
   ]
  },
  {
   "cell_type": "code",
   "execution_count": 24,
   "metadata": {},
   "outputs": [],
   "source": [
    "numUsers, numResources, cost, fixedCost = readInput(\"../2019_2020/Data/100x100.txt\")"
   ]
  },
  {
   "cell_type": "code",
   "execution_count": 26,
   "metadata": {},
   "outputs": [
    {
     "data": {
      "text/plain": [
       "6"
      ]
     },
     "execution_count": 26,
     "metadata": {},
     "output_type": "execute_result"
    }
   ],
   "source": [
    "numResources"
   ]
  },
  {
   "cell_type": "code",
   "execution_count": 28,
   "metadata": {},
   "outputs": [
    {
     "data": {
      "text/plain": [
       "5"
      ]
     },
     "execution_count": 28,
     "metadata": {},
     "output_type": "execute_result"
    }
   ],
   "source": [
    "numUsers"
   ]
  },
  {
   "cell_type": "code",
   "execution_count": 30,
   "metadata": {},
   "outputs": [
    {
     "data": {
      "text/plain": [
       "[[18, 8, 19, 9, 17, 16],\n",
       " [9, 2, 8, 1, 2, 12],\n",
       " [5, 2, 8, 2, 11, 3],\n",
       " [1, 5, 20, 11, 12, 12],\n",
       " [6, 18, 12, 21, 1, 5]]"
      ]
     },
     "execution_count": 30,
     "metadata": {},
     "output_type": "execute_result"
    }
   ],
   "source": [
    "cost"
   ]
  },
  {
   "cell_type": "code",
   "execution_count": 32,
   "metadata": {},
   "outputs": [],
   "source": [
    "model = Model(\"uflp\")"
   ]
  },
  {
   "cell_type": "code",
   "execution_count": 33,
   "metadata": {},
   "outputs": [],
   "source": [
    "x = model.binary_var_matrix(numUsers, numResources, name='x')"
   ]
  },
  {
   "cell_type": "code",
   "execution_count": 35,
   "metadata": {},
   "outputs": [
    {
     "data": {
      "text/plain": [
       "{(0, 0): docplex.mp.Var(type=B,name='x_0_0'),\n",
       " (0, 1): docplex.mp.Var(type=B,name='x_0_1'),\n",
       " (0, 2): docplex.mp.Var(type=B,name='x_0_2'),\n",
       " (0, 3): docplex.mp.Var(type=B,name='x_0_3'),\n",
       " (0, 4): docplex.mp.Var(type=B,name='x_0_4'),\n",
       " (0, 5): docplex.mp.Var(type=B,name='x_0_5'),\n",
       " (1, 0): docplex.mp.Var(type=B,name='x_1_0'),\n",
       " (1, 1): docplex.mp.Var(type=B,name='x_1_1'),\n",
       " (1, 2): docplex.mp.Var(type=B,name='x_1_2'),\n",
       " (1, 3): docplex.mp.Var(type=B,name='x_1_3'),\n",
       " (1, 4): docplex.mp.Var(type=B,name='x_1_4'),\n",
       " (1, 5): docplex.mp.Var(type=B,name='x_1_5'),\n",
       " (2, 0): docplex.mp.Var(type=B,name='x_2_0'),\n",
       " (2, 1): docplex.mp.Var(type=B,name='x_2_1'),\n",
       " (2, 2): docplex.mp.Var(type=B,name='x_2_2'),\n",
       " (2, 3): docplex.mp.Var(type=B,name='x_2_3'),\n",
       " (2, 4): docplex.mp.Var(type=B,name='x_2_4'),\n",
       " (2, 5): docplex.mp.Var(type=B,name='x_2_5'),\n",
       " (3, 0): docplex.mp.Var(type=B,name='x_3_0'),\n",
       " (3, 1): docplex.mp.Var(type=B,name='x_3_1'),\n",
       " (3, 2): docplex.mp.Var(type=B,name='x_3_2'),\n",
       " (3, 3): docplex.mp.Var(type=B,name='x_3_3'),\n",
       " (3, 4): docplex.mp.Var(type=B,name='x_3_4'),\n",
       " (3, 5): docplex.mp.Var(type=B,name='x_3_5'),\n",
       " (4, 0): docplex.mp.Var(type=B,name='x_4_0'),\n",
       " (4, 1): docplex.mp.Var(type=B,name='x_4_1'),\n",
       " (4, 2): docplex.mp.Var(type=B,name='x_4_2'),\n",
       " (4, 3): docplex.mp.Var(type=B,name='x_4_3'),\n",
       " (4, 4): docplex.mp.Var(type=B,name='x_4_4'),\n",
       " (4, 5): docplex.mp.Var(type=B,name='x_4_5')}"
      ]
     },
     "execution_count": 35,
     "metadata": {},
     "output_type": "execute_result"
    }
   ],
   "source": [
    "x"
   ]
  },
  {
   "cell_type": "code",
   "execution_count": 36,
   "metadata": {},
   "outputs": [],
   "source": [
    "y = model.binary_var_list(numResources, name='y')"
   ]
  },
  {
   "cell_type": "code",
   "execution_count": 40,
   "metadata": {},
   "outputs": [
    {
     "data": {
      "text/plain": [
       "[docplex.mp.LinearConstraint[](x_0_0+x_0_1+x_0_2+x_0_3+x_0_4+x_0_5,EQ,1),\n",
       " docplex.mp.LinearConstraint[](x_1_0+x_1_1+x_1_2+x_1_3+x_1_4+x_1_5,EQ,1),\n",
       " docplex.mp.LinearConstraint[](x_2_0+x_2_1+x_2_2+x_2_3+x_2_4+x_2_5,EQ,1),\n",
       " docplex.mp.LinearConstraint[](x_3_0+x_3_1+x_3_2+x_3_3+x_3_4+x_3_5,EQ,1),\n",
       " docplex.mp.LinearConstraint[](x_4_0+x_4_1+x_4_2+x_4_3+x_4_4+x_4_5,EQ,1)]"
      ]
     },
     "execution_count": 40,
     "metadata": {},
     "output_type": "execute_result"
    }
   ],
   "source": [
    "model.add_constraints([sum(x[i, j] for j in range(numResources)) == 1 for i in range(numUsers)])"
   ]
  },
  {
   "cell_type": "code",
   "execution_count": 42,
   "metadata": {},
   "outputs": [],
   "source": [
    "for j in range(numResources):\n",
    "    model.add_constraints([x[i, j] <= y[j] for i in range(numUsers)])"
   ]
  },
  {
   "cell_type": "code",
   "execution_count": 43,
   "metadata": {},
   "outputs": [],
   "source": [
    "first_sum = sum([sum([x[i, j]*cost[i][j] for j in range(numResources)]) for i in range(numUsers)])"
   ]
  },
  {
   "cell_type": "code",
   "execution_count": 44,
   "metadata": {},
   "outputs": [],
   "source": [
    "second_sum = sum([y[j] * fixedCost[j] for j in range(numResources)])"
   ]
  },
  {
   "cell_type": "code",
   "execution_count": 45,
   "metadata": {},
   "outputs": [],
   "source": [
    "model.minimize(first_sum + second_sum)"
   ]
  },
  {
   "cell_type": "code",
   "execution_count": 46,
   "metadata": {},
   "outputs": [
    {
     "name": "stdout",
     "output_type": "stream",
     "text": [
      "Model: uflp\n",
      " - number of variables: 36\n",
      "   - binary=36, integer=0, continuous=0\n",
      " - number of constraints: 35\n",
      "   - linear=35\n",
      " - parameters: defaults\n",
      " - problem type is: MILP\n"
     ]
    }
   ],
   "source": [
    "model.print_information()"
   ]
  },
  {
   "cell_type": "code",
   "execution_count": 47,
   "metadata": {},
   "outputs": [],
   "source": [
    "s = model.solve()"
   ]
  },
  {
   "cell_type": "code",
   "execution_count": 48,
   "metadata": {},
   "outputs": [
    {
     "name": "stdout",
     "output_type": "stream",
     "text": [
      "solution for: uflp\n",
      "objective: 36\n",
      "x_0_1 = 1\n",
      "x_1_1 = 1\n",
      "x_2_1 = 1\n",
      "x_3_1 = 1\n",
      "x_4_2 = 1\n",
      "y_1 = 1\n",
      "y_2 = 1\n"
     ]
    }
   ],
   "source": [
    "s.display()"
   ]
  },
  {
   "cell_type": "code",
   "execution_count": 49,
   "metadata": {},
   "outputs": [
    {
     "name": "stdout",
     "output_type": "stream",
     "text": [
      "objective: 36\n",
      "  x_0_1=1\n",
      "  x_1_1=1\n",
      "  x_2_1=1\n",
      "  x_3_1=1\n",
      "  x_4_2=1\n",
      "  y_1=1\n",
      "  y_2=1\n"
     ]
    }
   ],
   "source": [
    "model.print_solution()"
   ]
  }
 ],
 "metadata": {
  "kernelspec": {
   "display_name": "Python 3",
   "language": "python",
   "name": "python3"
  },
  "language_info": {
   "codemirror_mode": {
    "name": "ipython",
    "version": 3
   },
   "file_extension": ".py",
   "mimetype": "text/x-python",
   "name": "python",
   "nbconvert_exporter": "python",
   "pygments_lexer": "ipython3",
   "version": "3.7.9"
  }
 },
 "nbformat": 4,
 "nbformat_minor": 4
}
