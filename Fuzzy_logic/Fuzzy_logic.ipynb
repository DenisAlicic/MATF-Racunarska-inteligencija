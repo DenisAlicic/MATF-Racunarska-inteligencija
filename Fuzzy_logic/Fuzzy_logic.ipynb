{
 "cells": [
  {
   "cell_type": "code",
   "execution_count": 5,
   "metadata": {},
   "outputs": [],
   "source": [
    "class FInput:\n",
    "    \n",
    "    def __init__(self, name, x, y, x0):\n",
    "        self.name = name\n",
    "        # list tuples\n",
    "        self.points = list(zip(x, y))\n",
    "        self.mi = self.getMi(x0)\n",
    "    \n",
    "    def getMi(self, x0):\n",
    "        if x0 < self.points[0][0]:\n",
    "            return self.points[0][1]\n",
    "        if x0 > self.points[-1][0]:\n",
    "            return self.points[-1][1]\n",
    "        for i in range(0, len(self.points)-1):\n",
    "            x1 = self.points[i][0]\n",
    "            x2 = self.points[i+1][0]\n",
    "            if x0 >= x1 and x0 < x2:\n",
    "                y1 = self.points[i][1]\n",
    "                y2 = self.points[i+1][1]\n",
    "                if y1 == y2:\n",
    "                    return y1\n",
    "                if y1 < y2:\n",
    "                    return (x0 - x1) / (x2 - x1)\n",
    "                else:\n",
    "                    return (x2 - x0) / (x2 - x1)"
   ]
  },
  {
   "cell_type": "code",
   "execution_count": 7,
   "metadata": {},
   "outputs": [
    {
     "data": {
      "text/plain": [
       "0.14285714285714285"
      ]
     },
     "execution_count": 7,
     "metadata": {},
     "output_type": "execute_result"
    }
   ],
   "source": [
    "input1 = FInput(\"mala\", [3, 10], [1, 0], 9)\n",
    "input1.mi"
   ]
  },
  {
   "cell_type": "code",
   "execution_count": 10,
   "metadata": {},
   "outputs": [],
   "source": [
    "class FOutput:\n",
    "    \n",
    "    def __init__(self, name, x, y):\n",
    "        self.name = name\n",
    "        self.points = list(zip(x, y))\n",
    "        sumX = 0\n",
    "        numP = 0\n",
    "        for point in self.points:\n",
    "            if point[1] == 1:\n",
    "                sumX += point[0]\n",
    "                numP += 1\n",
    "        \n",
    "        self.c = sumX / numP\n",
    "        self.mi = 0"
   ]
  },
  {
   "cell_type": "code",
   "execution_count": 13,
   "metadata": {},
   "outputs": [
    {
     "data": {
      "text/plain": [
       "7.0"
      ]
     },
     "execution_count": 13,
     "metadata": {},
     "output_type": "execute_result"
    }
   ],
   "source": [
    "output1 = FOutput(\"test\", [7, 15], [1, 0])\n",
    "output1.c"
   ]
  },
  {
   "cell_type": "code",
   "execution_count": 14,
   "metadata": {},
   "outputs": [],
   "source": [
    "from enum import Enum, unique\n",
    "\n",
    "@unique\n",
    "class Logic(Enum):\n",
    "    OR = 0\n",
    "    AND = 1\n",
    "\n",
    "class Rule:\n",
    "    \n",
    "    def __init__(self, input1, input2, output, logic):\n",
    "        self.i1 = input1\n",
    "        self.i2 = input2\n",
    "        self.o = output\n",
    "        if logic == Logic.OR:\n",
    "            self.o.mi = max(self.o.mi, max(self.i1.mi, self.i2.mi))\n",
    "        else:\n",
    "            self.o.mi = max(self.o.mi, min(self.i1.mi, self.i2.mi))\n",
    "            \n",
    "        "
   ]
  },
  {
   "cell_type": "code",
   "execution_count": 17,
   "metadata": {},
   "outputs": [],
   "source": [
    "potrosnja = []\n",
    "potrosnja.append(FInput(\"mala\", [3, 10], [1, 0], 9))\n",
    "potrosnja.append(FInput(\"srednja\", [7, 10, 12, 15], [0, 1, 1, 0], 9))\n",
    "potrosnja.append(FInput(\"velika\", [12, 15], [0, 1], 9))\n",
    "\n",
    "pouzdanost = []\n",
    "pouzdanost.append(FInput(\"visoka\", [5, 10], [1, 0], 8))\n",
    "pouzdanost.append(FInput(\"niska\", [8, 15], [0, 1], 8))\n",
    "\n",
    "vrednost = []\n",
    "vrednost.append(FOutput(\"mala\", [7, 15], [1, 0]))\n",
    "vrednost.append(FOutput(\"srednja\", [7, 15, 25, 40], [0, 1, 1, 0]))\n",
    "vrednost.append(FOutput(\"velika\", [25, 40], [0, 1]))\n",
    "\n",
    "rules = []\n",
    "rules.append(Rule(potrosnja[0], pouzdanost[0], vrednost[2], Logic.AND))\n",
    "rules.append(Rule(potrosnja[0], pouzdanost[1], vrednost[1], Logic.AND))\n",
    "rules.append(Rule(potrosnja[1], pouzdanost[0], vrednost[1], Logic.AND))\n",
    "rules.append(Rule(potrosnja[1], pouzdanost[1], vrednost[1], Logic.AND))\n",
    "rules.append(Rule(potrosnja[2], pouzdanost[0], vrednost[1], Logic.AND))\n",
    "rules.append(Rule(potrosnja[2], pouzdanost[1], vrednost[0], Logic.AND))"
   ]
  },
  {
   "cell_type": "code",
   "execution_count": 18,
   "metadata": {},
   "outputs": [
    {
     "name": "stdout",
     "output_type": "stream",
     "text": [
      "25.26315789473684\n"
     ]
    }
   ],
   "source": [
    "numerator = 0\n",
    "denonimator = 0\n",
    "for output in vrednost:\n",
    "    numerator += output.mi * output.c\n",
    "    denonimator += output.mi\n",
    "print(numerator / denonimator)"
   ]
  }
 ],
 "metadata": {
  "kernelspec": {
   "display_name": "Python 3",
   "language": "python",
   "name": "python3"
  },
  "language_info": {
   "codemirror_mode": {
    "name": "ipython",
    "version": 3
   },
   "file_extension": ".py",
   "mimetype": "text/x-python",
   "name": "python",
   "nbconvert_exporter": "python",
   "pygments_lexer": "ipython3",
   "version": "3.8.5"
  }
 },
 "nbformat": 4,
 "nbformat_minor": 4
}
